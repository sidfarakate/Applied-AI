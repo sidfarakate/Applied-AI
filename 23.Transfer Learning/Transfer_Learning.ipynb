{
 "cells": [
  {
   "cell_type": "markdown",
   "metadata": {},
   "source": [
    "# Transfer Learning Assignment"
   ]
  },
  {
   "cell_type": "markdown",
   "metadata": {
    "id": "_0zs3TflcAEr"
   },
   "source": [
    "Download all the data in this <a href='https://drive.google.com/open?id=1Z4TyI7FcFVEx8qdl4jO9qxvxaqLSqoEu'>rar_file</a> , it contains all the data required for the assignment.\n",
    " When you unrar the file you'll get the files in the following format: <b>path/to/the/image.tif,category</b>\n",
    "            \n",
    "    where the categories are numbered 0 to 15, in the following order:\n",
    "<pre>\n",
    "    <b>0 letter\n",
    "    1 form\n",
    "    2 email\n",
    "    3 handwritten\n",
    "    4 advertisement\n",
    "    5 scientific report\n",
    "    6 scientific publication\n",
    "    7 specification\n",
    "    8 file folder\n",
    "    9 news article\n",
    "    10 budget\n",
    "    11 invoice\n",
    "    12 presentation\n",
    "    13 questionnaire\n",
    "    14 resume\n",
    "    15 memo</b>\n",
    "    \n",
    "</pre>"
   ]
  },
  {
   "cell_type": "markdown",
   "metadata": {
    "id": "RokPmWqWjAn7"
   },
   "source": [
    "There is a file named as 'labels_final.csv' , it consists of two columns. First column is path which is the required path to the images and second is the class label."
   ]
  },
  {
   "cell_type": "code",
   "execution_count": 1,
   "metadata": {
    "execution": {
     "iopub.execute_input": "2022-12-05T13:45:43.952531Z",
     "iopub.status.busy": "2022-12-05T13:45:43.950291Z",
     "iopub.status.idle": "2022-12-05T13:45:43.975509Z",
     "shell.execute_reply": "2022-12-05T13:45:43.974703Z",
     "shell.execute_reply.started": "2022-12-05T13:45:43.952427Z"
    },
    "id": "vOLj3GWxgWyj"
   },
   "outputs": [],
   "source": [
    "#the dataset that you are dealing with is quite large 3.7 GB and hence there are two methods to import the data to Colab \n",
    "# Method 1- you can use gdown module to get the data directly from Google drive to Colab\n",
    "# the syntax is as follows !gdown --id file_id , for ex - running the below cell will import the rvl-cdip.rar dataset\n"
   ]
  },
  {
   "cell_type": "code",
   "execution_count": 2,
   "metadata": {
    "execution": {
     "iopub.execute_input": "2022-12-05T13:45:56.834910Z",
     "iopub.status.busy": "2022-12-05T13:45:56.834550Z",
     "iopub.status.idle": "2022-12-05T13:45:56.841904Z",
     "shell.execute_reply": "2022-12-05T13:45:56.840947Z",
     "shell.execute_reply.started": "2022-12-05T13:45:56.834879Z"
    },
    "id": "mjZnQxBPiaBc"
   },
   "outputs": [],
   "source": [
    "#!gdown --id 1Z4TyI7FcFVEx8qdl4jO9qxvxaqLSqoEu"
   ]
  },
  {
   "cell_type": "code",
   "execution_count": 3,
   "metadata": {
    "execution": {
     "iopub.execute_input": "2022-12-05T13:46:00.040513Z",
     "iopub.status.busy": "2022-12-05T13:46:00.040135Z",
     "iopub.status.idle": "2022-12-05T13:46:00.044980Z",
     "shell.execute_reply": "2022-12-05T13:46:00.043793Z",
     "shell.execute_reply.started": "2022-12-05T13:46:00.040466Z"
    },
    "id": "kFGm5RcdhTY1"
   },
   "outputs": [],
   "source": [
    "# Method -2 you can also import the data using wget function\n",
    "#https://www.youtube.com/watch?v=BPUfVq7RaY8"
   ]
  },
  {
   "cell_type": "code",
   "execution_count": 4,
   "metadata": {
    "execution": {
     "iopub.execute_input": "2022-12-05T13:46:02.770284Z",
     "iopub.status.busy": "2022-12-05T13:46:02.769913Z",
     "iopub.status.idle": "2022-12-05T13:46:02.775056Z",
     "shell.execute_reply": "2022-12-05T13:46:02.773954Z",
     "shell.execute_reply.started": "2022-12-05T13:46:02.770254Z"
    },
    "id": "B_0h5ZMjgW0r"
   },
   "outputs": [],
   "source": [
    "#unrar the file\n",
    "#get_ipython().system_raw(\"unrar x rvl-cdip.rar\")"
   ]
  },
  {
   "cell_type": "markdown",
   "metadata": {
    "id": "SseYSo0oixjo"
   },
   "source": [
    "## 2. On this image data, you have to train 3 types of models as given below You have to split the data into Train and Validation data."
   ]
  },
  {
   "cell_type": "code",
   "execution_count": 5,
   "metadata": {
    "execution": {
     "iopub.execute_input": "2022-12-05T13:46:06.786464Z",
     "iopub.status.busy": "2022-12-05T13:46:06.786105Z",
     "iopub.status.idle": "2022-12-05T13:46:12.821963Z",
     "shell.execute_reply": "2022-12-05T13:46:12.820972Z",
     "shell.execute_reply.started": "2022-12-05T13:46:06.786434Z"
    },
    "id": "Bu1d-s96iy_l"
   },
   "outputs": [],
   "source": [
    "#import all the required libraries\n",
    "import os\n",
    "import tensorflow as tf\n",
    "import numpy as np\n",
    "import pandas as pd\n",
    "\n",
    "from keras.preprocessing.image import ImageDataGenerator\n",
    "from tensorflow import keras\n",
    "from keras import Sequential\n",
    "from keras.layers import Dense, Conv2D, Flatten, MaxPool2D\n",
    "from keras.applications.vgg16 import VGG16\n",
    "\n",
    "df=pd.read_csv('/kaggle/input/aaic-assignment-tl/labels_final.csv',dtype=str)"
   ]
  },
  {
   "cell_type": "markdown",
   "metadata": {
    "id": "0zfhUhM6eO3t"
   },
   "source": [
    "\n",
    "\n",
    "3. Try not to load all the images into memory, use the gernarators that we have given the reference notebooks to load the batch of images only during the train data.\n",
    "or you can use this method also\n",
    "<a href='https://medium.com/@vijayabhaskar96/tutorial-on-keras-imagedatagenerator-with-flow-from-dataframe-8bd5776e45c1'>https://medium.com/@vijayabhaskar96/tutorial-on-keras-imagedatagenerator-with-flow-from-dataframe-8bd5776e45c1</a>\n",
    "\n",
    "<a href='https://medium.com/@vijayabhaskar96/tutorial-on-keras-flow-from-dataframe-1fd4493d237c'>https://medium.com/@vijayabhaskar96/tutorial-on-keras-flow-from-dataframe-1fd4493d237c</a>\n",
    "\n",
    "Note- In the reference notebook you were dealing with jpg images, in the given dataset you are dealing with tiff images. Imagedatagenrator works with both type of images. If you want to use custom data pipeline then you have to convert your tiff images to jpg images.\n",
    "\n",
    "4. You are free to choose Learning rate, optimizer, loss function, image augmentation, any hyperparameters. but you have to use the same architechture what we are asking below. \n",
    "\n",
    "5. Use tensorboard for every model and analyse your gradients. (you need to upload the screenshots for each model for evaluation)\n",
    "\n",
    "\n",
    "6. You can check about Transfer Learning in this link - <a href='https://blog.keras.io/building-powerful-image-classification-models-using-very-little-data.html'>https://blog.keras.io/building-powerful-image-classification-models-using-very-little-data.html</a>\n",
    "\n",
    "https://www.appliedaicourse.com/lecture/11/applied-machine-learning-online-course/3426/code-example-cats-vs-dogs/8/module-8-neural-networks-computer-vision-and-deep-learning </a>\n",
    "</pre>"
   ]
  },
  {
   "cell_type": "markdown",
   "metadata": {
    "id": "cvd-X2oueO-X"
   },
   "source": [
    "7. Do print model.summary() and draw model_plots for each of the model."
   ]
  },
  {
   "cell_type": "code",
   "execution_count": 6,
   "metadata": {
    "execution": {
     "iopub.execute_input": "2022-12-05T13:46:22.345307Z",
     "iopub.status.busy": "2022-12-05T13:46:22.344411Z",
     "iopub.status.idle": "2022-12-05T13:46:22.351998Z",
     "shell.execute_reply": "2022-12-05T13:46:22.350919Z",
     "shell.execute_reply.started": "2022-12-05T13:46:22.345271Z"
    }
   },
   "outputs": [],
   "source": [
    "index = [str(i) for i in range(0,16)]\n",
    "l = ['letter','form', 'email', 'handwritten', 'advertisement', 'scientific report', 'scientific publication', 'specification', 'file folder', 'news article', 'budget', 'invoice', 'presentation', 'questionnaire', 'resume', 'memo']\n",
    "\n",
    "Labels = {i:j for i,j in zip(index,l)}"
   ]
  },
  {
   "cell_type": "code",
   "execution_count": 7,
   "metadata": {
    "execution": {
     "iopub.execute_input": "2022-12-05T13:46:26.428607Z",
     "iopub.status.busy": "2022-12-05T13:46:26.427855Z",
     "iopub.status.idle": "2022-12-05T13:46:26.471039Z",
     "shell.execute_reply": "2022-12-05T13:46:26.470118Z",
     "shell.execute_reply.started": "2022-12-05T13:46:26.428564Z"
    }
   },
   "outputs": [
    {
     "data": {
      "text/html": [
       "<div>\n",
       "<style scoped>\n",
       "    .dataframe tbody tr th:only-of-type {\n",
       "        vertical-align: middle;\n",
       "    }\n",
       "\n",
       "    .dataframe tbody tr th {\n",
       "        vertical-align: top;\n",
       "    }\n",
       "\n",
       "    .dataframe thead th {\n",
       "        text-align: right;\n",
       "    }\n",
       "</style>\n",
       "<table border=\"1\" class=\"dataframe\">\n",
       "  <thead>\n",
       "    <tr style=\"text-align: right;\">\n",
       "      <th></th>\n",
       "      <th>path</th>\n",
       "      <th>label</th>\n",
       "    </tr>\n",
       "  </thead>\n",
       "  <tbody>\n",
       "    <tr>\n",
       "      <th>0</th>\n",
       "      <td>imagesv/v/o/h/voh71d00/509132755+-2755.tif</td>\n",
       "      <td>handwritten</td>\n",
       "    </tr>\n",
       "    <tr>\n",
       "      <th>1</th>\n",
       "      <td>imagesl/l/x/t/lxt19d00/502213303.tif</td>\n",
       "      <td>handwritten</td>\n",
       "    </tr>\n",
       "    <tr>\n",
       "      <th>2</th>\n",
       "      <td>imagesx/x/e/d/xed05a00/2075325674.tif</td>\n",
       "      <td>email</td>\n",
       "    </tr>\n",
       "    <tr>\n",
       "      <th>3</th>\n",
       "      <td>imageso/o/j/b/ojb60d00/517511301+-1301.tif</td>\n",
       "      <td>handwritten</td>\n",
       "    </tr>\n",
       "    <tr>\n",
       "      <th>4</th>\n",
       "      <td>imagesq/q/z/k/qzk17e00/2031320195.tif</td>\n",
       "      <td>specification</td>\n",
       "    </tr>\n",
       "  </tbody>\n",
       "</table>\n",
       "</div>"
      ],
      "text/plain": [
       "                                         path          label\n",
       "0  imagesv/v/o/h/voh71d00/509132755+-2755.tif    handwritten\n",
       "1        imagesl/l/x/t/lxt19d00/502213303.tif    handwritten\n",
       "2       imagesx/x/e/d/xed05a00/2075325674.tif          email\n",
       "3  imageso/o/j/b/ojb60d00/517511301+-1301.tif    handwritten\n",
       "4       imagesq/q/z/k/qzk17e00/2031320195.tif  specification"
      ]
     },
     "execution_count": 7,
     "metadata": {},
     "output_type": "execute_result"
    }
   ],
   "source": [
    "df['label'] = df['label'].apply(lambda X: Labels[X])\n",
    "df.head()"
   ]
  },
  {
   "cell_type": "code",
   "execution_count": 8,
   "metadata": {
    "execution": {
     "iopub.execute_input": "2022-12-05T13:46:30.954022Z",
     "iopub.status.busy": "2022-12-05T13:46:30.953286Z",
     "iopub.status.idle": "2022-12-05T13:46:30.959837Z",
     "shell.execute_reply": "2022-12-05T13:46:30.958401Z",
     "shell.execute_reply.started": "2022-12-05T13:46:30.953987Z"
    }
   },
   "outputs": [],
   "source": [
    "#Image data Generator class\n",
    "datagen = ImageDataGenerator(rescale=1/255., validation_split=0.25)"
   ]
  },
  {
   "cell_type": "code",
   "execution_count": 9,
   "metadata": {
    "execution": {
     "iopub.execute_input": "2022-12-05T13:46:34.133086Z",
     "iopub.status.busy": "2022-12-05T13:46:34.132363Z",
     "iopub.status.idle": "2022-12-05T13:48:37.084504Z",
     "shell.execute_reply": "2022-12-05T13:48:37.083394Z",
     "shell.execute_reply.started": "2022-12-05T13:46:34.133050Z"
    }
   },
   "outputs": [
    {
     "name": "stdout",
     "output_type": "stream",
     "text": [
      "Found 36000 validated image filenames belonging to 16 classes.\n"
     ]
    }
   ],
   "source": [
    "# Train Data\n",
    "train_generator = datagen.flow_from_dataframe(\n",
    "                  dataframe = df,\n",
    "                  directory = '/kaggle/input/aaic-assignment-tl/data_final',\n",
    "                  x_col = 'path',\n",
    "                  y_col = \"label\",\n",
    "                  subset = \"training\",\n",
    "                  batch_size = 24,\n",
    "                  seed = 42,\n",
    "                  shuffle = True,\n",
    "                  class_mode = \"categorical\",\n",
    "                  target_size = (224,224))"
   ]
  },
  {
   "cell_type": "code",
   "execution_count": 10,
   "metadata": {
    "execution": {
     "iopub.execute_input": "2022-12-05T13:48:43.029876Z",
     "iopub.status.busy": "2022-12-05T13:48:43.029471Z",
     "iopub.status.idle": "2022-12-05T13:49:49.848584Z",
     "shell.execute_reply": "2022-12-05T13:49:49.847462Z",
     "shell.execute_reply.started": "2022-12-05T13:48:43.029843Z"
    }
   },
   "outputs": [
    {
     "name": "stdout",
     "output_type": "stream",
     "text": [
      "Found 12000 validated image filenames belonging to 16 classes.\n"
     ]
    }
   ],
   "source": [
    "# Test Data\n",
    "test_generator = datagen.flow_from_dataframe(\n",
    "                  dataframe = df,\n",
    "                  directory = '/kaggle/input/aaic-assignment-tl/data_final',\n",
    "                  x_col = 'path',\n",
    "                  y_col = \"label\",\n",
    "                  subset = \"validation\",\n",
    "                  batch_size = 24,\n",
    "                  seed = 42,\n",
    "                  shuffle = True,\n",
    "                  class_mode = \"categorical\",\n",
    "                  target_size = (224,224))"
   ]
  },
  {
   "cell_type": "markdown",
   "metadata": {
    "id": "XZXpEZtJcAEu"
   },
   "source": [
    "### Model-1"
   ]
  },
  {
   "cell_type": "markdown",
   "metadata": {
    "id": "EF12MYu1cAEy"
   },
   "source": [
    "<pre>\n",
    "1. Use <a href='https://www.tensorflow.org/api_docs/python/tf/keras/applications/VGG16'>VGG-16</a> pretrained network without Fully Connected layers and initilize all the weights with Imagenet trained weights. \n",
    "2. After VGG-16 network without FC layers, add a new Conv block ( 1 Conv layer and 1 Maxpooling ), 2 FC layers and an output layer to classify 16 classes. You are free to choose any hyperparameters/parameters of conv block, FC layers, output layer. \n",
    "3. Final architecture will be <b>INPUT --> VGG-16 without Top layers(FC) --> Conv Layer --> Maxpool Layer --> 2 FC layers --> Output Layer</b>\n",
    "4.Print model.summary() and plot the architecture of the model. \n",
    "<a href='https://www.tensorflow.org/api_docs/python/tf/keras/utils/plot_model'>Reference for plotting model</a>\n",
    "5. Train only new Conv block, FC layers, output layer. Don't train the VGG-16 network. \n",
    "\n",
    "</pre>"
   ]
  },
  {
   "cell_type": "code",
   "execution_count": 11,
   "metadata": {
    "execution": {
     "iopub.execute_input": "2022-12-05T13:50:02.287440Z",
     "iopub.status.busy": "2022-12-05T13:50:02.286507Z",
     "iopub.status.idle": "2022-12-05T13:50:02.297714Z",
     "shell.execute_reply": "2022-12-05T13:50:02.296759Z",
     "shell.execute_reply.started": "2022-12-05T13:50:02.287390Z"
    }
   },
   "outputs": [],
   "source": [
    "import datetime\n",
    "%load_ext tensorboard"
   ]
  },
  {
   "cell_type": "code",
   "execution_count": 12,
   "metadata": {
    "execution": {
     "iopub.execute_input": "2022-12-05T13:50:07.611364Z",
     "iopub.status.busy": "2022-12-05T13:50:07.610943Z",
     "iopub.status.idle": "2022-12-05T13:50:12.182092Z",
     "shell.execute_reply": "2022-12-05T13:50:12.180940Z",
     "shell.execute_reply.started": "2022-12-05T13:50:07.611324Z"
    }
   },
   "outputs": [
    {
     "name": "stderr",
     "output_type": "stream",
     "text": [
      "2022-12-05 13:50:07.779289: I tensorflow/stream_executor/cuda/cuda_gpu_executor.cc:937] successful NUMA node read from SysFS had negative value (-1), but there must be at least one NUMA node, so returning NUMA node zero\n",
      "2022-12-05 13:50:07.780210: I tensorflow/stream_executor/cuda/cuda_gpu_executor.cc:937] successful NUMA node read from SysFS had negative value (-1), but there must be at least one NUMA node, so returning NUMA node zero\n",
      "2022-12-05 13:50:07.910088: I tensorflow/stream_executor/cuda/cuda_gpu_executor.cc:937] successful NUMA node read from SysFS had negative value (-1), but there must be at least one NUMA node, so returning NUMA node zero\n",
      "2022-12-05 13:50:07.910937: I tensorflow/stream_executor/cuda/cuda_gpu_executor.cc:937] successful NUMA node read from SysFS had negative value (-1), but there must be at least one NUMA node, so returning NUMA node zero\n",
      "2022-12-05 13:50:07.911745: I tensorflow/stream_executor/cuda/cuda_gpu_executor.cc:937] successful NUMA node read from SysFS had negative value (-1), but there must be at least one NUMA node, so returning NUMA node zero\n",
      "2022-12-05 13:50:07.912479: I tensorflow/stream_executor/cuda/cuda_gpu_executor.cc:937] successful NUMA node read from SysFS had negative value (-1), but there must be at least one NUMA node, so returning NUMA node zero\n",
      "2022-12-05 13:50:07.914397: I tensorflow/core/platform/cpu_feature_guard.cc:142] This TensorFlow binary is optimized with oneAPI Deep Neural Network Library (oneDNN) to use the following CPU instructions in performance-critical operations:  AVX2 AVX512F FMA\n",
      "To enable them in other operations, rebuild TensorFlow with the appropriate compiler flags.\n",
      "2022-12-05 13:50:08.175428: I tensorflow/stream_executor/cuda/cuda_gpu_executor.cc:937] successful NUMA node read from SysFS had negative value (-1), but there must be at least one NUMA node, so returning NUMA node zero\n",
      "2022-12-05 13:50:08.176340: I tensorflow/stream_executor/cuda/cuda_gpu_executor.cc:937] successful NUMA node read from SysFS had negative value (-1), but there must be at least one NUMA node, so returning NUMA node zero\n",
      "2022-12-05 13:50:08.177110: I tensorflow/stream_executor/cuda/cuda_gpu_executor.cc:937] successful NUMA node read from SysFS had negative value (-1), but there must be at least one NUMA node, so returning NUMA node zero\n",
      "2022-12-05 13:50:08.177816: I tensorflow/stream_executor/cuda/cuda_gpu_executor.cc:937] successful NUMA node read from SysFS had negative value (-1), but there must be at least one NUMA node, so returning NUMA node zero\n",
      "2022-12-05 13:50:08.178523: I tensorflow/stream_executor/cuda/cuda_gpu_executor.cc:937] successful NUMA node read from SysFS had negative value (-1), but there must be at least one NUMA node, so returning NUMA node zero\n",
      "2022-12-05 13:50:08.179296: I tensorflow/stream_executor/cuda/cuda_gpu_executor.cc:937] successful NUMA node read from SysFS had negative value (-1), but there must be at least one NUMA node, so returning NUMA node zero\n",
      "2022-12-05 13:50:11.069376: I tensorflow/stream_executor/cuda/cuda_gpu_executor.cc:937] successful NUMA node read from SysFS had negative value (-1), but there must be at least one NUMA node, so returning NUMA node zero\n",
      "2022-12-05 13:50:11.070274: I tensorflow/stream_executor/cuda/cuda_gpu_executor.cc:937] successful NUMA node read from SysFS had negative value (-1), but there must be at least one NUMA node, so returning NUMA node zero\n",
      "2022-12-05 13:50:11.071016: I tensorflow/stream_executor/cuda/cuda_gpu_executor.cc:937] successful NUMA node read from SysFS had negative value (-1), but there must be at least one NUMA node, so returning NUMA node zero\n",
      "2022-12-05 13:50:11.071757: I tensorflow/stream_executor/cuda/cuda_gpu_executor.cc:937] successful NUMA node read from SysFS had negative value (-1), but there must be at least one NUMA node, so returning NUMA node zero\n",
      "2022-12-05 13:50:11.072451: I tensorflow/stream_executor/cuda/cuda_gpu_executor.cc:937] successful NUMA node read from SysFS had negative value (-1), but there must be at least one NUMA node, so returning NUMA node zero\n",
      "2022-12-05 13:50:11.073129: I tensorflow/core/common_runtime/gpu/gpu_device.cc:1510] Created device /job:localhost/replica:0/task:0/device:GPU:0 with 13789 MB memory:  -> device: 0, name: Tesla T4, pci bus id: 0000:00:04.0, compute capability: 7.5\n",
      "2022-12-05 13:50:11.076527: I tensorflow/stream_executor/cuda/cuda_gpu_executor.cc:937] successful NUMA node read from SysFS had negative value (-1), but there must be at least one NUMA node, so returning NUMA node zero\n",
      "2022-12-05 13:50:11.077231: I tensorflow/core/common_runtime/gpu/gpu_device.cc:1510] Created device /job:localhost/replica:0/task:0/device:GPU:1 with 13789 MB memory:  -> device: 1, name: Tesla T4, pci bus id: 0000:00:05.0, compute capability: 7.5\n"
     ]
    },
    {
     "name": "stdout",
     "output_type": "stream",
     "text": [
      "Downloading data from https://storage.googleapis.com/tensorflow/keras-applications/vgg16/vgg16_weights_tf_dim_ordering_tf_kernels_notop.h5\n",
      "58892288/58889256 [==============================] - 0s 0us/step\n",
      "58900480/58889256 [==============================] - 0s 0us/step\n"
     ]
    }
   ],
   "source": [
    "from tensorflow.keras.applications.vgg16 import VGG16\n",
    "\n",
    "image_size = [224, 224]\n",
    "vgg = VGG16(weights='imagenet', include_top=False, input_shape=image_size + [3])"
   ]
  },
  {
   "cell_type": "code",
   "execution_count": 13,
   "metadata": {
    "execution": {
     "iopub.execute_input": "2022-12-05T12:50:15.541399Z",
     "iopub.status.busy": "2022-12-05T12:50:15.541039Z",
     "iopub.status.idle": "2022-12-05T12:50:15.552217Z",
     "shell.execute_reply": "2022-12-05T12:50:15.548289Z",
     "shell.execute_reply.started": "2022-12-05T12:50:15.541363Z"
    }
   },
   "outputs": [
    {
     "name": "stdout",
     "output_type": "stream",
     "text": [
      "Model: \"vgg16\"\n",
      "_________________________________________________________________\n",
      "Layer (type)                 Output Shape              Param #   \n",
      "=================================================================\n",
      "input_1 (InputLayer)         [(None, 224, 224, 3)]     0         \n",
      "_________________________________________________________________\n",
      "block1_conv1 (Conv2D)        (None, 224, 224, 64)      1792      \n",
      "_________________________________________________________________\n",
      "block1_conv2 (Conv2D)        (None, 224, 224, 64)      36928     \n",
      "_________________________________________________________________\n",
      "block1_pool (MaxPooling2D)   (None, 112, 112, 64)      0         \n",
      "_________________________________________________________________\n",
      "block2_conv1 (Conv2D)        (None, 112, 112, 128)     73856     \n",
      "_________________________________________________________________\n",
      "block2_conv2 (Conv2D)        (None, 112, 112, 128)     147584    \n",
      "_________________________________________________________________\n",
      "block2_pool (MaxPooling2D)   (None, 56, 56, 128)       0         \n",
      "_________________________________________________________________\n",
      "block3_conv1 (Conv2D)        (None, 56, 56, 256)       295168    \n",
      "_________________________________________________________________\n",
      "block3_conv2 (Conv2D)        (None, 56, 56, 256)       590080    \n",
      "_________________________________________________________________\n",
      "block3_conv3 (Conv2D)        (None, 56, 56, 256)       590080    \n",
      "_________________________________________________________________\n",
      "block3_pool (MaxPooling2D)   (None, 28, 28, 256)       0         \n",
      "_________________________________________________________________\n",
      "block4_conv1 (Conv2D)        (None, 28, 28, 512)       1180160   \n",
      "_________________________________________________________________\n",
      "block4_conv2 (Conv2D)        (None, 28, 28, 512)       2359808   \n",
      "_________________________________________________________________\n",
      "block4_conv3 (Conv2D)        (None, 28, 28, 512)       2359808   \n",
      "_________________________________________________________________\n",
      "block4_pool (MaxPooling2D)   (None, 14, 14, 512)       0         \n",
      "_________________________________________________________________\n",
      "block5_conv1 (Conv2D)        (None, 14, 14, 512)       2359808   \n",
      "_________________________________________________________________\n",
      "block5_conv2 (Conv2D)        (None, 14, 14, 512)       2359808   \n",
      "_________________________________________________________________\n",
      "block5_conv3 (Conv2D)        (None, 14, 14, 512)       2359808   \n",
      "_________________________________________________________________\n",
      "block5_pool (MaxPooling2D)   (None, 7, 7, 512)         0         \n",
      "=================================================================\n",
      "Total params: 14,714,688\n",
      "Trainable params: 14,714,688\n",
      "Non-trainable params: 0\n",
      "_________________________________________________________________\n"
     ]
    }
   ],
   "source": [
    "vgg.summary()"
   ]
  },
  {
   "cell_type": "code",
   "execution_count": 14,
   "metadata": {
    "execution": {
     "iopub.execute_input": "2022-12-05T12:50:15.554507Z",
     "iopub.status.busy": "2022-12-05T12:50:15.553920Z",
     "iopub.status.idle": "2022-12-05T12:50:15.600314Z",
     "shell.execute_reply": "2022-12-05T12:50:15.599406Z",
     "shell.execute_reply.started": "2022-12-05T12:50:15.554471Z"
    }
   },
   "outputs": [],
   "source": [
    "from keras.models import Model\n",
    "\n",
    "for layer in vgg.layers:\n",
    "    layer.trainable = False\n",
    "\n",
    "x = vgg.output\n",
    "x = Conv2D(filters=128, kernel_size=3, activation='relu')(x)\n",
    "x = MaxPool2D(2,2)(x)\n",
    "x = Flatten()(x)\n",
    "\n",
    "x = Dense(128, activation='relu')(x)\n",
    "x = Dense(64, activation='relu')(x)\n",
    "\n",
    "output = Dense(16, activation='softmax')(x)\n",
    "    \n",
    "model = Model(inputs = vgg.input, outputs = output)"
   ]
  },
  {
   "cell_type": "code",
   "execution_count": 15,
   "metadata": {
    "execution": {
     "iopub.execute_input": "2022-12-05T12:50:15.602115Z",
     "iopub.status.busy": "2022-12-05T12:50:15.601753Z",
     "iopub.status.idle": "2022-12-05T12:50:15.614175Z",
     "shell.execute_reply": "2022-12-05T12:50:15.613058Z",
     "shell.execute_reply.started": "2022-12-05T12:50:15.602078Z"
    }
   },
   "outputs": [
    {
     "name": "stdout",
     "output_type": "stream",
     "text": [
      "Model: \"model\"\n",
      "_________________________________________________________________\n",
      "Layer (type)                 Output Shape              Param #   \n",
      "=================================================================\n",
      "input_1 (InputLayer)         [(None, 224, 224, 3)]     0         \n",
      "_________________________________________________________________\n",
      "block1_conv1 (Conv2D)        (None, 224, 224, 64)      1792      \n",
      "_________________________________________________________________\n",
      "block1_conv2 (Conv2D)        (None, 224, 224, 64)      36928     \n",
      "_________________________________________________________________\n",
      "block1_pool (MaxPooling2D)   (None, 112, 112, 64)      0         \n",
      "_________________________________________________________________\n",
      "block2_conv1 (Conv2D)        (None, 112, 112, 128)     73856     \n",
      "_________________________________________________________________\n",
      "block2_conv2 (Conv2D)        (None, 112, 112, 128)     147584    \n",
      "_________________________________________________________________\n",
      "block2_pool (MaxPooling2D)   (None, 56, 56, 128)       0         \n",
      "_________________________________________________________________\n",
      "block3_conv1 (Conv2D)        (None, 56, 56, 256)       295168    \n",
      "_________________________________________________________________\n",
      "block3_conv2 (Conv2D)        (None, 56, 56, 256)       590080    \n",
      "_________________________________________________________________\n",
      "block3_conv3 (Conv2D)        (None, 56, 56, 256)       590080    \n",
      "_________________________________________________________________\n",
      "block3_pool (MaxPooling2D)   (None, 28, 28, 256)       0         \n",
      "_________________________________________________________________\n",
      "block4_conv1 (Conv2D)        (None, 28, 28, 512)       1180160   \n",
      "_________________________________________________________________\n",
      "block4_conv2 (Conv2D)        (None, 28, 28, 512)       2359808   \n",
      "_________________________________________________________________\n",
      "block4_conv3 (Conv2D)        (None, 28, 28, 512)       2359808   \n",
      "_________________________________________________________________\n",
      "block4_pool (MaxPooling2D)   (None, 14, 14, 512)       0         \n",
      "_________________________________________________________________\n",
      "block5_conv1 (Conv2D)        (None, 14, 14, 512)       2359808   \n",
      "_________________________________________________________________\n",
      "block5_conv2 (Conv2D)        (None, 14, 14, 512)       2359808   \n",
      "_________________________________________________________________\n",
      "block5_conv3 (Conv2D)        (None, 14, 14, 512)       2359808   \n",
      "_________________________________________________________________\n",
      "block5_pool (MaxPooling2D)   (None, 7, 7, 512)         0         \n",
      "_________________________________________________________________\n",
      "conv2d (Conv2D)              (None, 5, 5, 128)         589952    \n",
      "_________________________________________________________________\n",
      "max_pooling2d (MaxPooling2D) (None, 2, 2, 128)         0         \n",
      "_________________________________________________________________\n",
      "flatten (Flatten)            (None, 512)               0         \n",
      "_________________________________________________________________\n",
      "dense (Dense)                (None, 128)               65664     \n",
      "_________________________________________________________________\n",
      "dense_1 (Dense)              (None, 64)                8256      \n",
      "_________________________________________________________________\n",
      "dense_2 (Dense)              (None, 16)                1040      \n",
      "=================================================================\n",
      "Total params: 15,379,600\n",
      "Trainable params: 664,912\n",
      "Non-trainable params: 14,714,688\n",
      "_________________________________________________________________\n"
     ]
    }
   ],
   "source": [
    "model.summary()"
   ]
  },
  {
   "cell_type": "code",
   "execution_count": 16,
   "metadata": {
    "execution": {
     "iopub.execute_input": "2022-12-05T12:50:15.616501Z",
     "iopub.status.busy": "2022-12-05T12:50:15.615480Z",
     "iopub.status.idle": "2022-12-05T12:50:15.630719Z",
     "shell.execute_reply": "2022-12-05T12:50:15.629661Z",
     "shell.execute_reply.started": "2022-12-05T12:50:15.616460Z"
    }
   },
   "outputs": [],
   "source": [
    "#compiling \n",
    "model.compile(optimizer=tf.keras.optimizers.Adam(), loss='categorical_crossentropy', metrics=['accuracy'])"
   ]
  },
  {
   "cell_type": "code",
   "execution_count": 17,
   "metadata": {
    "execution": {
     "iopub.execute_input": "2022-12-05T12:50:15.632606Z",
     "iopub.status.busy": "2022-12-05T12:50:15.632030Z",
     "iopub.status.idle": "2022-12-05T12:50:16.269290Z",
     "shell.execute_reply": "2022-12-05T12:50:16.268015Z",
     "shell.execute_reply.started": "2022-12-05T12:50:15.632571Z"
    }
   },
   "outputs": [
    {
     "name": "stderr",
     "output_type": "stream",
     "text": [
      "2022-12-05 12:50:15.637725: I tensorflow/core/profiler/lib/profiler_session.cc:131] Profiler session initializing.\n",
      "2022-12-05 12:50:15.637937: I tensorflow/core/profiler/lib/profiler_session.cc:146] Profiler session started.\n",
      "2022-12-05 12:50:15.640584: I tensorflow/core/profiler/internal/gpu/cupti_tracer.cc:1614] Profiler found 2 GPUs\n",
      "2022-12-05 12:50:16.112046: I tensorflow/core/profiler/lib/profiler_session.cc:164] Profiler session tear down.\n",
      "2022-12-05 12:50:16.112232: I tensorflow/core/profiler/internal/gpu/cupti_tracer.cc:1748] CUPTI activity buffer flushed\n"
     ]
    }
   ],
   "source": [
    "log_dir=\"logs/fit/\" + datetime.datetime.now().strftime(\"%Y%m%d-%H%M%S\")\n",
    "tensorboard_callback = tf.keras.callbacks.TensorBoard(log_dir=log_dir, histogram_freq=1)"
   ]
  },
  {
   "cell_type": "code",
   "execution_count": 18,
   "metadata": {
    "execution": {
     "iopub.execute_input": "2022-12-05T12:50:16.271192Z",
     "iopub.status.busy": "2022-12-05T12:50:16.270591Z",
     "iopub.status.idle": "2022-12-05T13:13:30.281407Z",
     "shell.execute_reply": "2022-12-05T13:13:30.280352Z",
     "shell.execute_reply.started": "2022-12-05T12:50:16.271153Z"
    }
   },
   "outputs": [
    {
     "name": "stderr",
     "output_type": "stream",
     "text": [
      "/opt/conda/lib/python3.7/site-packages/keras/engine/training.py:1972: UserWarning: `Model.fit_generator` is deprecated and will be removed in a future version. Please use `Model.fit`, which supports generators.\n",
      "  warnings.warn('`Model.fit_generator` is deprecated and '\n",
      "2022-12-05 12:50:16.591673: I tensorflow/compiler/mlir/mlir_graph_optimization_pass.cc:185] None of the MLIR Optimization Passes are enabled (registered 2)\n"
     ]
    },
    {
     "name": "stdout",
     "output_type": "stream",
     "text": [
      "Epoch 1/5\n"
     ]
    },
    {
     "name": "stderr",
     "output_type": "stream",
     "text": [
      "2022-12-05 12:50:18.845107: I tensorflow/stream_executor/cuda/cuda_dnn.cc:369] Loaded cuDNN version 8005\n"
     ]
    },
    {
     "name": "stdout",
     "output_type": "stream",
     "text": [
      "   1/1500 [..............................] - ETA: 5:45:41 - loss: 2.7801 - accuracy: 0.1250"
     ]
    },
    {
     "name": "stderr",
     "output_type": "stream",
     "text": [
      "2022-12-05 12:50:30.488855: I tensorflow/core/profiler/lib/profiler_session.cc:131] Profiler session initializing.\n",
      "2022-12-05 12:50:30.488899: I tensorflow/core/profiler/lib/profiler_session.cc:146] Profiler session started.\n"
     ]
    },
    {
     "name": "stdout",
     "output_type": "stream",
     "text": [
      "   2/1500 [..............................] - ETA: 21:36 - loss: 3.0590 - accuracy: 0.1042  "
     ]
    },
    {
     "name": "stderr",
     "output_type": "stream",
     "text": [
      "2022-12-05 12:50:31.338665: I tensorflow/core/profiler/lib/profiler_session.cc:66] Profiler session collecting data.\n",
      "2022-12-05 12:50:31.339023: I tensorflow/core/profiler/internal/gpu/cupti_tracer.cc:1748] CUPTI activity buffer flushed\n",
      "2022-12-05 12:50:31.520625: I tensorflow/core/profiler/internal/gpu/cupti_collector.cc:673]  GpuTracer has collected 158 callback api events and 155 activity events. \n",
      "2022-12-05 12:50:31.531165: I tensorflow/core/profiler/lib/profiler_session.cc:164] Profiler session tear down.\n"
     ]
    },
    {
     "name": "stdout",
     "output_type": "stream",
     "text": [
      "   3/1500 [..............................] - ETA: 15:07 - loss: 2.9835 - accuracy: 0.0972"
     ]
    },
    {
     "name": "stderr",
     "output_type": "stream",
     "text": [
      "2022-12-05 12:50:31.547736: I tensorflow/core/profiler/rpc/client/save_profile.cc:136] Creating directory: logs/fit/20221205-125015/train/plugins/profile/2022_12_05_12_50_31\n",
      "\n",
      "2022-12-05 12:50:31.552563: I tensorflow/core/profiler/rpc/client/save_profile.cc:142] Dumped gzipped tool data for trace.json.gz to logs/fit/20221205-125015/train/plugins/profile/2022_12_05_12_50_31/f63474e0f737.trace.json.gz\n",
      "2022-12-05 12:50:31.577948: I tensorflow/core/profiler/rpc/client/save_profile.cc:136] Creating directory: logs/fit/20221205-125015/train/plugins/profile/2022_12_05_12_50_31\n",
      "\n",
      "2022-12-05 12:50:31.580522: I tensorflow/core/profiler/rpc/client/save_profile.cc:142] Dumped gzipped tool data for memory_profile.json.gz to logs/fit/20221205-125015/train/plugins/profile/2022_12_05_12_50_31/f63474e0f737.memory_profile.json.gz\n",
      "2022-12-05 12:50:31.581255: I tensorflow/core/profiler/rpc/client/capture_profile.cc:251] Creating directory: logs/fit/20221205-125015/train/plugins/profile/2022_12_05_12_50_31\n",
      "Dumped tool data for xplane.pb to logs/fit/20221205-125015/train/plugins/profile/2022_12_05_12_50_31/f63474e0f737.xplane.pb\n",
      "Dumped tool data for overview_page.pb to logs/fit/20221205-125015/train/plugins/profile/2022_12_05_12_50_31/f63474e0f737.overview_page.pb\n",
      "Dumped tool data for input_pipeline.pb to logs/fit/20221205-125015/train/plugins/profile/2022_12_05_12_50_31/f63474e0f737.input_pipeline.pb\n",
      "Dumped tool data for tensorflow_stats.pb to logs/fit/20221205-125015/train/plugins/profile/2022_12_05_12_50_31/f63474e0f737.tensorflow_stats.pb\n",
      "Dumped tool data for kernel_stats.pb to logs/fit/20221205-125015/train/plugins/profile/2022_12_05_12_50_31/f63474e0f737.kernel_stats.pb\n",
      "\n"
     ]
    },
    {
     "name": "stdout",
     "output_type": "stream",
     "text": [
      "1500/1500 [==============================] - 425s 274ms/step - loss: 1.4156 - accuracy: 0.5628 - val_loss: 1.2191 - val_accuracy: 0.6267\n",
      "Epoch 2/5\n",
      "1500/1500 [==============================] - 239s 159ms/step - loss: 1.0478 - accuracy: 0.6765 - val_loss: 1.0740 - val_accuracy: 0.6763\n",
      "Epoch 3/5\n",
      "1500/1500 [==============================] - 239s 159ms/step - loss: 0.9046 - accuracy: 0.7243 - val_loss: 1.0319 - val_accuracy: 0.6987\n",
      "Epoch 4/5\n",
      "1500/1500 [==============================] - 238s 159ms/step - loss: 0.8020 - accuracy: 0.7525 - val_loss: 0.9685 - val_accuracy: 0.7132\n",
      "Epoch 5/5\n",
      "1500/1500 [==============================] - 242s 161ms/step - loss: 0.7142 - accuracy: 0.7786 - val_loss: 0.9908 - val_accuracy: 0.7086\n"
     ]
    },
    {
     "data": {
      "text/plain": [
       "<keras.callbacks.History at 0x7f835c153bd0>"
      ]
     },
     "execution_count": 18,
     "metadata": {},
     "output_type": "execute_result"
    }
   ],
   "source": [
    "#fitting generator\n",
    "model.fit_generator(train_generator, epochs=5, validation_data=test_generator, callbacks = [tensorboard_callback])"
   ]
  },
  {
   "cell_type": "code",
   "execution_count": 19,
   "metadata": {
    "execution": {
     "iopub.execute_input": "2022-12-05T13:13:30.283210Z",
     "iopub.status.busy": "2022-12-05T13:13:30.282850Z",
     "iopub.status.idle": "2022-12-05T13:13:31.745756Z",
     "shell.execute_reply": "2022-12-05T13:13:31.744542Z",
     "shell.execute_reply.started": "2022-12-05T13:13:30.283174Z"
    }
   },
   "outputs": [
    {
     "data": {
      "image/png": "[encoded data removed]",
      "text/plain": [
       "<IPython.core.display.Image object>"
      ]
     },
     "execution_count": 19,
     "metadata": {},
     "output_type": "execute_result"
    }
   ],
   "source": [
    "tf.keras.utils.plot_model(model, to_file='model_1.png', show_shapes=False, show_layer_names=True, \n",
    "                          rankdir='TB', expand_nested=False, dpi=96)"
   ]
  },
  {
   "cell_type": "code",
   "execution_count": 20,
   "metadata": {
    "execution": {
     "iopub.execute_input": "2022-12-05T13:13:31.748758Z",
     "iopub.status.busy": "2022-12-05T13:13:31.747606Z",
     "iopub.status.idle": "2022-12-05T13:13:37.867638Z",
     "shell.execute_reply": "2022-12-05T13:13:37.866534Z",
     "shell.execute_reply.started": "2022-12-05T13:13:31.748712Z"
    }
   },
   "outputs": [
    {
     "data": {
      "text/html": [
       "\n",
       "      <iframe id=\"tensorboard-frame-9656e5d1391e217\" width=\"100%\" height=\"800\" frameborder=\"0\">\n",
       "      </iframe>\n",
       "      <script>\n",
       "        (function() {\n",
       "          const frame = document.getElementById(\"tensorboard-frame-9656e5d1391e217\");\n",
       "          const url = new URL(\"/\", window.location);\n",
       "          const port = 6006;\n",
       "          if (port) {\n",
       "            url.port = port;\n",
       "          }\n",
       "          frame.src = url;\n",
       "        })();\n",
       "      </script>\n",
       "    "
      ],
      "text/plain": [
       "<IPython.core.display.HTML object>"
      ]
     },
     "metadata": {},
     "output_type": "display_data"
    }
   ],
   "source": [
    "%tensorboard --logdir logs/fit"
   ]
  },
  {
   "cell_type": "markdown",
   "metadata": {
    "id": "De0UlsaOcAE1"
   },
   "source": [
    "### Model-2"
   ]
  },
  {
   "cell_type": "markdown",
   "metadata": {
    "id": "CNXN3EXFcAE5"
   },
   "source": [
    "<pre>\n",
    "1. Use <a href='https://www.tensorflow.org/api_docs/python/tf/keras/applications/VGG16'>VGG-16</a> pretrained network without Fully Connected layers and initilize all the weights with Imagenet trained weights.\n",
    "2. After VGG-16 network without FC layers, don't use FC layers, use conv layers only as Fully connected layer.Any FC \n",
    "layer can be converted to a CONV layer. This conversion will reduce the No of Trainable parameters in FC layers. \n",
    "For example, an FC layer with K=4096 that is looking at some input volume of size 7×7×512 can be equivalently expressed as a CONV layer with F=7,P=0,S=1,K=4096. \n",
    "In other words, we are setting the filter size to be exactly the size of the input volume, and hence the output will\n",
    "simply be 1×1×4096 since only a single depth column “fits” across the input volume, giving identical result as the \n",
    "initial FC layer. You can refer <a href='http://cs231n.github.io/convolutional-networks/#convert'>this</a> link to better understanding of using Conv layer in place of fully connected layers.\n",
    "3. Final architecture will be VGG-16 without FC layers(without top), 2 Conv layers identical to FC layers, 1 output layer for 16 class classification. <b>INPUT --> VGG-16 without Top layers(FC) --> 2 Conv Layers identical to FC -->Output Layer</b>\n",
    "4. 4.Print model.summary() and plot the architecture of the model. \n",
    "<a href='https://www.tensorflow.org/api_docs/python/tf/keras/utils/plot_model'>Reference for plotting model</a>\n",
    "5. Train only last 2 Conv layers identical to FC layers, 1 output layer. Don't train the VGG-16 network. \n",
    "</pre>"
   ]
  },
  {
   "cell_type": "code",
   "execution_count": 21,
   "metadata": {
    "execution": {
     "iopub.execute_input": "2022-12-05T13:13:37.871999Z",
     "iopub.status.busy": "2022-12-05T13:13:37.869475Z",
     "iopub.status.idle": "2022-12-05T13:13:37.896856Z",
     "shell.execute_reply": "2022-12-05T13:13:37.895979Z",
     "shell.execute_reply.started": "2022-12-05T13:13:37.871957Z"
    }
   },
   "outputs": [],
   "source": [
    "tf.keras.backend.clear_session()"
   ]
  },
  {
   "cell_type": "code",
   "execution_count": 22,
   "metadata": {
    "execution": {
     "iopub.execute_input": "2022-12-05T13:13:37.900628Z",
     "iopub.status.busy": "2022-12-05T13:13:37.900340Z",
     "iopub.status.idle": "2022-12-05T13:13:38.929009Z",
     "shell.execute_reply": "2022-12-05T13:13:38.927685Z",
     "shell.execute_reply.started": "2022-12-05T13:13:37.900601Z"
    }
   },
   "outputs": [],
   "source": [
    "!rm -rf ./logs/ "
   ]
  },
  {
   "cell_type": "code",
   "execution_count": 23,
   "metadata": {
    "execution": {
     "iopub.execute_input": "2022-12-05T13:13:38.931983Z",
     "iopub.status.busy": "2022-12-05T13:13:38.931314Z",
     "iopub.status.idle": "2022-12-05T13:13:38.974758Z",
     "shell.execute_reply": "2022-12-05T13:13:38.973869Z",
     "shell.execute_reply.started": "2022-12-05T13:13:38.931936Z"
    }
   },
   "outputs": [],
   "source": [
    "from keras.models import Model\n",
    "\n",
    "for layer in vgg.layers:\n",
    "    layer.trainable = False\n",
    "    \n",
    "x = vgg.output\n",
    "x = Conv2D(filters=256, kernel_size=7, activation='relu')(x)\n",
    "x = Conv2D(filters=256, kernel_size=1, activation='relu')(x)\n",
    "x = Flatten()(x)\n",
    "\n",
    "output = Dense(16, activation='softmax')(x)\n",
    "    \n",
    "model_2 = Model(inputs = vgg.input, outputs = output)"
   ]
  },
  {
   "cell_type": "code",
   "execution_count": 24,
   "metadata": {
    "execution": {
     "iopub.execute_input": "2022-12-05T13:13:38.976618Z",
     "iopub.status.busy": "2022-12-05T13:13:38.976258Z",
     "iopub.status.idle": "2022-12-05T13:13:38.984385Z",
     "shell.execute_reply": "2022-12-05T13:13:38.983272Z",
     "shell.execute_reply.started": "2022-12-05T13:13:38.976583Z"
    }
   },
   "outputs": [
    {
     "name": "stdout",
     "output_type": "stream",
     "text": [
      "Model: \"model\"\n",
      "_________________________________________________________________\n",
      "Layer (type)                 Output Shape              Param #   \n",
      "=================================================================\n",
      "input_1 (InputLayer)         [(None, 224, 224, 3)]     0         \n",
      "_________________________________________________________________\n",
      "block1_conv1 (Conv2D)        (None, 224, 224, 64)      1792      \n",
      "_________________________________________________________________\n",
      "block1_conv2 (Conv2D)        (None, 224, 224, 64)      36928     \n",
      "_________________________________________________________________\n",
      "block1_pool (MaxPooling2D)   (None, 112, 112, 64)      0         \n",
      "_________________________________________________________________\n",
      "block2_conv1 (Conv2D)        (None, 112, 112, 128)     73856     \n",
      "_________________________________________________________________\n",
      "block2_conv2 (Conv2D)        (None, 112, 112, 128)     147584    \n",
      "_________________________________________________________________\n",
      "block2_pool (MaxPooling2D)   (None, 56, 56, 128)       0         \n",
      "_________________________________________________________________\n",
      "block3_conv1 (Conv2D)        (None, 56, 56, 256)       295168    \n",
      "_________________________________________________________________\n",
      "block3_conv2 (Conv2D)        (None, 56, 56, 256)       590080    \n",
      "_________________________________________________________________\n",
      "block3_conv3 (Conv2D)        (None, 56, 56, 256)       590080    \n",
      "_________________________________________________________________\n",
      "block3_pool (MaxPooling2D)   (None, 28, 28, 256)       0         \n",
      "_________________________________________________________________\n",
      "block4_conv1 (Conv2D)        (None, 28, 28, 512)       1180160   \n",
      "_________________________________________________________________\n",
      "block4_conv2 (Conv2D)        (None, 28, 28, 512)       2359808   \n",
      "_________________________________________________________________\n",
      "block4_conv3 (Conv2D)        (None, 28, 28, 512)       2359808   \n",
      "_________________________________________________________________\n",
      "block4_pool (MaxPooling2D)   (None, 14, 14, 512)       0         \n",
      "_________________________________________________________________\n",
      "block5_conv1 (Conv2D)        (None, 14, 14, 512)       2359808   \n",
      "_________________________________________________________________\n",
      "block5_conv2 (Conv2D)        (None, 14, 14, 512)       2359808   \n",
      "_________________________________________________________________\n",
      "block5_conv3 (Conv2D)        (None, 14, 14, 512)       2359808   \n",
      "_________________________________________________________________\n",
      "block5_pool (MaxPooling2D)   (None, 7, 7, 512)         0         \n",
      "_________________________________________________________________\n",
      "conv2d (Conv2D)              (None, 1, 1, 256)         6422784   \n",
      "_________________________________________________________________\n",
      "conv2d_1 (Conv2D)            (None, 1, 1, 256)         65792     \n",
      "_________________________________________________________________\n",
      "flatten (Flatten)            (None, 256)               0         \n",
      "_________________________________________________________________\n",
      "dense (Dense)                (None, 16)                4112      \n",
      "=================================================================\n",
      "Total params: 21,207,376\n",
      "Trainable params: 6,492,688\n",
      "Non-trainable params: 14,714,688\n",
      "_________________________________________________________________\n"
     ]
    }
   ],
   "source": [
    "model_2.summary()"
   ]
  },
  {
   "cell_type": "code",
   "execution_count": 25,
   "metadata": {
    "execution": {
     "iopub.execute_input": "2022-12-05T13:13:38.986655Z",
     "iopub.status.busy": "2022-12-05T13:13:38.985997Z",
     "iopub.status.idle": "2022-12-05T13:13:38.999047Z",
     "shell.execute_reply": "2022-12-05T13:13:38.998071Z",
     "shell.execute_reply.started": "2022-12-05T13:13:38.986617Z"
    }
   },
   "outputs": [],
   "source": [
    "#compiling \n",
    "model_2.compile(optimizer=tf.keras.optimizers.Adam(), loss='categorical_crossentropy', metrics=['accuracy'])"
   ]
  },
  {
   "cell_type": "code",
   "execution_count": 26,
   "metadata": {
    "execution": {
     "iopub.execute_input": "2022-12-05T13:13:39.001015Z",
     "iopub.status.busy": "2022-12-05T13:13:39.000610Z",
     "iopub.status.idle": "2022-12-05T13:13:39.787595Z",
     "shell.execute_reply": "2022-12-05T13:13:39.786473Z",
     "shell.execute_reply.started": "2022-12-05T13:13:39.000980Z"
    }
   },
   "outputs": [
    {
     "name": "stderr",
     "output_type": "stream",
     "text": [
      "2022-12-05 13:13:39.004173: I tensorflow/core/profiler/lib/profiler_session.cc:131] Profiler session initializing.\n",
      "2022-12-05 13:13:39.004226: I tensorflow/core/profiler/lib/profiler_session.cc:146] Profiler session started.\n",
      "2022-12-05 13:13:39.627466: I tensorflow/core/profiler/lib/profiler_session.cc:164] Profiler session tear down.\n",
      "2022-12-05 13:13:39.627773: I tensorflow/core/profiler/internal/gpu/cupti_tracer.cc:1748] CUPTI activity buffer flushed\n"
     ]
    }
   ],
   "source": [
    "log_dir=\"logs/fit/\" + datetime.datetime.now().strftime(\"%Y%m%d-%H%M%S\")\n",
    "tensorboard_callback = tf.keras.callbacks.TensorBoard(log_dir=log_dir, histogram_freq=1)"
   ]
  },
  {
   "cell_type": "code",
   "execution_count": 27,
   "metadata": {
    "execution": {
     "iopub.execute_input": "2022-12-05T13:13:39.794461Z",
     "iopub.status.busy": "2022-12-05T13:13:39.793657Z",
     "iopub.status.idle": "2022-12-05T13:35:43.671954Z",
     "shell.execute_reply": "2022-12-05T13:35:43.670787Z",
     "shell.execute_reply.started": "2022-12-05T13:13:39.794432Z"
    }
   },
   "outputs": [
    {
     "name": "stderr",
     "output_type": "stream",
     "text": [
      "/opt/conda/lib/python3.7/site-packages/keras/engine/training.py:1972: UserWarning: `Model.fit_generator` is deprecated and will be removed in a future version. Please use `Model.fit`, which supports generators.\n",
      "  warnings.warn('`Model.fit_generator` is deprecated and '\n"
     ]
    },
    {
     "name": "stdout",
     "output_type": "stream",
     "text": [
      "Epoch 1/5\n",
      "   1/1500 [..............................] - ETA: 30:07 - loss: 2.9291 - accuracy: 0.0000e+00"
     ]
    },
    {
     "name": "stderr",
     "output_type": "stream",
     "text": [
      "2022-12-05 13:13:41.193102: I tensorflow/core/profiler/lib/profiler_session.cc:131] Profiler session initializing.\n",
      "2022-12-05 13:13:41.193142: I tensorflow/core/profiler/lib/profiler_session.cc:146] Profiler session started.\n"
     ]
    },
    {
     "name": "stdout",
     "output_type": "stream",
     "text": [
      "   2/1500 [..............................] - ETA: 11:32 - loss: 3.5018 - accuracy: 0.0417    "
     ]
    },
    {
     "name": "stderr",
     "output_type": "stream",
     "text": [
      "2022-12-05 13:13:41.693989: I tensorflow/core/profiler/lib/profiler_session.cc:66] Profiler session collecting data.\n",
      "2022-12-05 13:13:41.694526: I tensorflow/core/profiler/internal/gpu/cupti_tracer.cc:1748] CUPTI activity buffer flushed\n",
      "2022-12-05 13:13:41.844526: I tensorflow/core/profiler/internal/gpu/cupti_collector.cc:673]  GpuTracer has collected 153 callback api events and 150 activity events. \n",
      "2022-12-05 13:13:41.850237: I tensorflow/core/profiler/lib/profiler_session.cc:164] Profiler session tear down.\n",
      "2022-12-05 13:13:41.855355: I tensorflow/core/profiler/rpc/client/save_profile.cc:136] Creating directory: logs/fit/20221205-131339/train/plugins/profile/2022_12_05_13_13_41\n",
      "\n",
      "2022-12-05 13:13:41.858826: I tensorflow/core/profiler/rpc/client/save_profile.cc:142] Dumped gzipped tool data for trace.json.gz to logs/fit/20221205-131339/train/plugins/profile/2022_12_05_13_13_41/f63474e0f737.trace.json.gz\n",
      "2022-12-05 13:13:41.866170: I tensorflow/core/profiler/rpc/client/save_profile.cc:136] Creating directory: logs/fit/20221205-131339/train/plugins/profile/2022_12_05_13_13_41\n",
      "\n",
      "2022-12-05 13:13:41.867819: I tensorflow/core/profiler/rpc/client/save_profile.cc:142] Dumped gzipped tool data for memory_profile.json.gz to logs/fit/20221205-131339/train/plugins/profile/2022_12_05_13_13_41/f63474e0f737.memory_profile.json.gz\n",
      "2022-12-05 13:13:41.868369: I tensorflow/core/profiler/rpc/client/capture_profile.cc:251] Creating directory: logs/fit/20221205-131339/train/plugins/profile/2022_12_05_13_13_41\n",
      "Dumped tool data for xplane.pb to logs/fit/20221205-131339/train/plugins/profile/2022_12_05_13_13_41/f63474e0f737.xplane.pb\n",
      "Dumped tool data for overview_page.pb to logs/fit/20221205-131339/train/plugins/profile/2022_12_05_13_13_41/f63474e0f737.overview_page.pb\n",
      "Dumped tool data for input_pipeline.pb to logs/fit/20221205-131339/train/plugins/profile/2022_12_05_13_13_41/f63474e0f737.input_pipeline.pb\n",
      "Dumped tool data for tensorflow_stats.pb to logs/fit/20221205-131339/train/plugins/profile/2022_12_05_13_13_41/f63474e0f737.tensorflow_stats.pb\n",
      "Dumped tool data for kernel_stats.pb to logs/fit/20221205-131339/train/plugins/profile/2022_12_05_13_13_41/f63474e0f737.kernel_stats.pb\n",
      "\n"
     ]
    },
    {
     "name": "stdout",
     "output_type": "stream",
     "text": [
      "1500/1500 [==============================] - 267s 177ms/step - loss: 1.2857 - accuracy: 0.6064 - val_loss: 1.1430 - val_accuracy: 0.6507\n"
     ]
    },
    {
     "name": "stderr",
     "output_type": "stream",
     "text": [
      "2022-12-05 13:18:08.663562: W tensorflow/core/framework/cpu_allocator_impl.cc:80] Allocation of 1541406720 exceeds 10% of free system memory.\n"
     ]
    },
    {
     "name": "stdout",
     "output_type": "stream",
     "text": [
      "Epoch 2/5\n",
      "1500/1500 [==============================] - 279s 186ms/step - loss: 0.9325 - accuracy: 0.7128 - val_loss: 1.0027 - val_accuracy: 0.6895\n"
     ]
    },
    {
     "name": "stderr",
     "output_type": "stream",
     "text": [
      "2022-12-05 13:22:51.630951: W tensorflow/core/framework/cpu_allocator_impl.cc:80] Allocation of 1541406720 exceeds 10% of free system memory.\n"
     ]
    },
    {
     "name": "stdout",
     "output_type": "stream",
     "text": [
      "Epoch 3/5\n",
      "1500/1500 [==============================] - 254s 170ms/step - loss: 0.7947 - accuracy: 0.7546 - val_loss: 0.9243 - val_accuracy: 0.7307\n"
     ]
    },
    {
     "name": "stderr",
     "output_type": "stream",
     "text": [
      "2022-12-05 13:27:09.697479: W tensorflow/core/framework/cpu_allocator_impl.cc:80] Allocation of 1541406720 exceeds 10% of free system memory.\n"
     ]
    },
    {
     "name": "stdout",
     "output_type": "stream",
     "text": [
      "Epoch 4/5\n",
      "1500/1500 [==============================] - 253s 168ms/step - loss: 0.6858 - accuracy: 0.7873 - val_loss: 1.0334 - val_accuracy: 0.7038\n"
     ]
    },
    {
     "name": "stderr",
     "output_type": "stream",
     "text": [
      "2022-12-05 13:31:26.498037: W tensorflow/core/framework/cpu_allocator_impl.cc:80] Allocation of 1541406720 exceeds 10% of free system memory.\n"
     ]
    },
    {
     "name": "stdout",
     "output_type": "stream",
     "text": [
      "Epoch 5/5\n",
      "1500/1500 [==============================] - 252s 168ms/step - loss: 0.6053 - accuracy: 0.8089 - val_loss: 0.9719 - val_accuracy: 0.7397\n"
     ]
    },
    {
     "name": "stderr",
     "output_type": "stream",
     "text": [
      "2022-12-05 13:35:42.180760: W tensorflow/core/framework/cpu_allocator_impl.cc:80] Allocation of 1541406720 exceeds 10% of free system memory.\n"
     ]
    },
    {
     "data": {
      "text/plain": [
       "<keras.callbacks.History at 0x7f836108d550>"
      ]
     },
     "execution_count": 27,
     "metadata": {},
     "output_type": "execute_result"
    }
   ],
   "source": [
    "#fitting generator\n",
    "model_2.fit_generator(train_generator, epochs=5, validation_data=test_generator, callbacks = [tensorboard_callback])"
   ]
  },
  {
   "cell_type": "code",
   "execution_count": 28,
   "metadata": {
    "execution": {
     "iopub.execute_input": "2022-12-05T13:35:43.674002Z",
     "iopub.status.busy": "2022-12-05T13:35:43.673248Z",
     "iopub.status.idle": "2022-12-05T13:35:44.133642Z",
     "shell.execute_reply": "2022-12-05T13:35:44.128349Z",
     "shell.execute_reply.started": "2022-12-05T13:35:43.673962Z"
    }
   },
   "outputs": [
    {
     "data": {
      "image/png": "[encoded data removed]",
      "text/plain": [
       "<IPython.core.display.Image object>"
      ]
     },
     "execution_count": 28,
     "metadata": {},
     "output_type": "execute_result"
    }
   ],
   "source": [
    "tf.keras.utils.plot_model(model_2, to_file='model_2.png', show_shapes=False, show_layer_names=True, \n",
    "                          rankdir='TB', expand_nested=False, dpi=96)"
   ]
  },
  {
   "cell_type": "code",
   "execution_count": 29,
   "metadata": {
    "execution": {
     "iopub.execute_input": "2022-12-05T13:35:44.136559Z",
     "iopub.status.busy": "2022-12-05T13:35:44.136136Z",
     "iopub.status.idle": "2022-12-05T13:35:44.159605Z",
     "shell.execute_reply": "2022-12-05T13:35:44.157435Z",
     "shell.execute_reply.started": "2022-12-05T13:35:44.136517Z"
    }
   },
   "outputs": [
    {
     "data": {
      "text/plain": [
       "Reusing TensorBoard on port 6006 (pid 1036), started 0:22:07 ago. (Use '!kill 1036' to kill it.)"
      ]
     },
     "metadata": {},
     "output_type": "display_data"
    },
    {
     "data": {
      "text/html": [
       "\n",
       "      <iframe id=\"tensorboard-frame-108a9d11786c67ab\" width=\"100%\" height=\"800\" frameborder=\"0\">\n",
       "      </iframe>\n",
       "      <script>\n",
       "        (function() {\n",
       "          const frame = document.getElementById(\"tensorboard-frame-108a9d11786c67ab\");\n",
       "          const url = new URL(\"/\", window.location);\n",
       "          const port = 6006;\n",
       "          if (port) {\n",
       "            url.port = port;\n",
       "          }\n",
       "          frame.src = url;\n",
       "        })();\n",
       "      </script>\n",
       "    "
      ],
      "text/plain": [
       "<IPython.core.display.HTML object>"
      ]
     },
     "metadata": {},
     "output_type": "display_data"
    }
   ],
   "source": [
    "%tensorboard --logdir logs/fit"
   ]
  },
  {
   "cell_type": "markdown",
   "metadata": {
    "id": "amKbfojfcAE-"
   },
   "source": [
    "### Model-3"
   ]
  },
  {
   "cell_type": "markdown",
   "metadata": {
    "id": "N9AULF-PcAFC"
   },
   "source": [
    "<pre>\n",
    "1. Use same network as Model-2 '<b>INPUT --> VGG-16 without Top layers(FC) --> 2 Conv Layers identical to FC --> Output Layer</b>' and train only Last 6 Layers of VGG-16 network, 2 Conv layers identical to FC layers, 1 output layer.\n",
    "</pre>"
   ]
  },
  {
   "cell_type": "code",
   "execution_count": 31,
   "metadata": {
    "execution": {
     "iopub.execute_input": "2022-12-05T13:52:32.919320Z",
     "iopub.status.busy": "2022-12-05T13:52:32.918901Z",
     "iopub.status.idle": "2022-12-05T13:52:32.957222Z",
     "shell.execute_reply": "2022-12-05T13:52:32.956175Z",
     "shell.execute_reply.started": "2022-12-05T13:52:32.919286Z"
    }
   },
   "outputs": [],
   "source": [
    "from keras.models import Model\n",
    "\n",
    "for layer in vgg.layers[-6:]:\n",
    "    layer.trainable = True\n",
    "    \n",
    "x = vgg.output\n",
    "x = Conv2D(filters=256, kernel_size=7, activation='relu')(x)\n",
    "x = Conv2D(filters=256, kernel_size=1, activation='relu')(x)\n",
    "x = Flatten()(x)\n",
    "\n",
    "output = Dense(16, activation='softmax')(x)\n",
    "    \n",
    "model_3 = Model(inputs = vgg.input, outputs = output)"
   ]
  },
  {
   "cell_type": "code",
   "execution_count": 32,
   "metadata": {
    "execution": {
     "iopub.execute_input": "2022-12-05T13:52:46.025993Z",
     "iopub.status.busy": "2022-12-05T13:52:46.025623Z",
     "iopub.status.idle": "2022-12-05T13:52:46.035004Z",
     "shell.execute_reply": "2022-12-05T13:52:46.033466Z",
     "shell.execute_reply.started": "2022-12-05T13:52:46.025962Z"
    }
   },
   "outputs": [
    {
     "name": "stdout",
     "output_type": "stream",
     "text": [
      "Model: \"model\"\n",
      "_________________________________________________________________\n",
      "Layer (type)                 Output Shape              Param #   \n",
      "=================================================================\n",
      "input_1 (InputLayer)         [(None, 224, 224, 3)]     0         \n",
      "_________________________________________________________________\n",
      "block1_conv1 (Conv2D)        (None, 224, 224, 64)      1792      \n",
      "_________________________________________________________________\n",
      "block1_conv2 (Conv2D)        (None, 224, 224, 64)      36928     \n",
      "_________________________________________________________________\n",
      "block1_pool (MaxPooling2D)   (None, 112, 112, 64)      0         \n",
      "_________________________________________________________________\n",
      "block2_conv1 (Conv2D)        (None, 112, 112, 128)     73856     \n",
      "_________________________________________________________________\n",
      "block2_conv2 (Conv2D)        (None, 112, 112, 128)     147584    \n",
      "_________________________________________________________________\n",
      "block2_pool (MaxPooling2D)   (None, 56, 56, 128)       0         \n",
      "_________________________________________________________________\n",
      "block3_conv1 (Conv2D)        (None, 56, 56, 256)       295168    \n",
      "_________________________________________________________________\n",
      "block3_conv2 (Conv2D)        (None, 56, 56, 256)       590080    \n",
      "_________________________________________________________________\n",
      "block3_conv3 (Conv2D)        (None, 56, 56, 256)       590080    \n",
      "_________________________________________________________________\n",
      "block3_pool (MaxPooling2D)   (None, 28, 28, 256)       0         \n",
      "_________________________________________________________________\n",
      "block4_conv1 (Conv2D)        (None, 28, 28, 512)       1180160   \n",
      "_________________________________________________________________\n",
      "block4_conv2 (Conv2D)        (None, 28, 28, 512)       2359808   \n",
      "_________________________________________________________________\n",
      "block4_conv3 (Conv2D)        (None, 28, 28, 512)       2359808   \n",
      "_________________________________________________________________\n",
      "block4_pool (MaxPooling2D)   (None, 14, 14, 512)       0         \n",
      "_________________________________________________________________\n",
      "block5_conv1 (Conv2D)        (None, 14, 14, 512)       2359808   \n",
      "_________________________________________________________________\n",
      "block5_conv2 (Conv2D)        (None, 14, 14, 512)       2359808   \n",
      "_________________________________________________________________\n",
      "block5_conv3 (Conv2D)        (None, 14, 14, 512)       2359808   \n",
      "_________________________________________________________________\n",
      "block5_pool (MaxPooling2D)   (None, 7, 7, 512)         0         \n",
      "_________________________________________________________________\n",
      "conv2d_2 (Conv2D)            (None, 1, 1, 256)         6422784   \n",
      "_________________________________________________________________\n",
      "conv2d_3 (Conv2D)            (None, 1, 1, 256)         65792     \n",
      "_________________________________________________________________\n",
      "flatten_1 (Flatten)          (None, 256)               0         \n",
      "_________________________________________________________________\n",
      "dense_1 (Dense)              (None, 16)                4112      \n",
      "=================================================================\n",
      "Total params: 21,207,376\n",
      "Trainable params: 21,207,376\n",
      "Non-trainable params: 0\n",
      "_________________________________________________________________\n"
     ]
    }
   ],
   "source": [
    "model_3.summary()"
   ]
  },
  {
   "cell_type": "code",
   "execution_count": 33,
   "metadata": {
    "execution": {
     "iopub.execute_input": "2022-12-05T13:52:54.844119Z",
     "iopub.status.busy": "2022-12-05T13:52:54.843730Z",
     "iopub.status.idle": "2022-12-05T13:52:54.859959Z",
     "shell.execute_reply": "2022-12-05T13:52:54.858532Z",
     "shell.execute_reply.started": "2022-12-05T13:52:54.844088Z"
    }
   },
   "outputs": [],
   "source": [
    "#compiling \n",
    "model_3.compile(optimizer=tf.keras.optimizers.Adam(), loss='categorical_crossentropy', metrics=['accuracy'])"
   ]
  },
  {
   "cell_type": "code",
   "execution_count": 34,
   "metadata": {
    "execution": {
     "iopub.execute_input": "2022-12-05T13:52:59.668374Z",
     "iopub.status.busy": "2022-12-05T13:52:59.667996Z",
     "iopub.status.idle": "2022-12-05T13:53:00.267658Z",
     "shell.execute_reply": "2022-12-05T13:53:00.266211Z",
     "shell.execute_reply.started": "2022-12-05T13:52:59.668343Z"
    }
   },
   "outputs": [
    {
     "name": "stderr",
     "output_type": "stream",
     "text": [
      "2022-12-05 13:52:59.672927: I tensorflow/core/profiler/lib/profiler_session.cc:131] Profiler session initializing.\n",
      "2022-12-05 13:52:59.673154: I tensorflow/core/profiler/lib/profiler_session.cc:146] Profiler session started.\n",
      "2022-12-05 13:52:59.676568: I tensorflow/core/profiler/internal/gpu/cupti_tracer.cc:1614] Profiler found 2 GPUs\n",
      "2022-12-05 13:53:00.111634: I tensorflow/core/profiler/lib/profiler_session.cc:164] Profiler session tear down.\n",
      "2022-12-05 13:53:00.111835: I tensorflow/core/profiler/internal/gpu/cupti_tracer.cc:1748] CUPTI activity buffer flushed\n"
     ]
    }
   ],
   "source": [
    "log_dir=\"logs/fit/\" + datetime.datetime.now().strftime(\"%Y%m%d-%H%M%S\")\n",
    "tensorboard_callback = tf.keras.callbacks.TensorBoard(log_dir=log_dir, histogram_freq=1)"
   ]
  },
  {
   "cell_type": "code",
   "execution_count": 35,
   "metadata": {
    "execution": {
     "iopub.execute_input": "2022-12-05T13:53:05.380268Z",
     "iopub.status.busy": "2022-12-05T13:53:05.379883Z",
     "iopub.status.idle": "2022-12-05T14:43:33.512363Z",
     "shell.execute_reply": "2022-12-05T14:43:33.507826Z",
     "shell.execute_reply.started": "2022-12-05T13:53:05.380234Z"
    }
   },
   "outputs": [
    {
     "name": "stderr",
     "output_type": "stream",
     "text": [
      "/opt/conda/lib/python3.7/site-packages/keras/engine/training.py:1972: UserWarning: `Model.fit_generator` is deprecated and will be removed in a future version. Please use `Model.fit`, which supports generators.\n",
      "  warnings.warn('`Model.fit_generator` is deprecated and '\n",
      "2022-12-05 13:53:05.753957: I tensorflow/compiler/mlir/mlir_graph_optimization_pass.cc:185] None of the MLIR Optimization Passes are enabled (registered 2)\n"
     ]
    },
    {
     "name": "stdout",
     "output_type": "stream",
     "text": [
      "Epoch 1/5\n"
     ]
    },
    {
     "name": "stderr",
     "output_type": "stream",
     "text": [
      "2022-12-05 13:53:08.303441: I tensorflow/stream_executor/cuda/cuda_dnn.cc:369] Loaded cuDNN version 8005\n"
     ]
    },
    {
     "name": "stdout",
     "output_type": "stream",
     "text": [
      "   1/1500 [..............................] - ETA: 7:40:14 - loss: 2.9513 - accuracy: 0.0000e+00"
     ]
    },
    {
     "name": "stderr",
     "output_type": "stream",
     "text": [
      "2022-12-05 13:53:24.244555: I tensorflow/core/profiler/lib/profiler_session.cc:131] Profiler session initializing.\n",
      "2022-12-05 13:53:24.244602: I tensorflow/core/profiler/lib/profiler_session.cc:146] Profiler session started.\n"
     ]
    },
    {
     "name": "stdout",
     "output_type": "stream",
     "text": [
      "   2/1500 [..............................] - ETA: 31:53 - loss: 3.0527 - accuracy: 0.0625      "
     ]
    },
    {
     "name": "stderr",
     "output_type": "stream",
     "text": [
      "2022-12-05 13:53:25.497033: I tensorflow/core/profiler/lib/profiler_session.cc:66] Profiler session collecting data.\n",
      "2022-12-05 13:53:25.497748: I tensorflow/core/profiler/internal/gpu/cupti_tracer.cc:1748] CUPTI activity buffer flushed\n",
      "2022-12-05 13:53:25.657661: I tensorflow/core/profiler/internal/gpu/cupti_collector.cc:673]  GpuTracer has collected 361 callback api events and 358 activity events. \n",
      "2022-12-05 13:53:25.670974: I tensorflow/core/profiler/lib/profiler_session.cc:164] Profiler session tear down.\n",
      "2022-12-05 13:53:25.693471: I tensorflow/core/profiler/rpc/client/save_profile.cc:136] Creating directory: logs/fit/20221205-135259/train/plugins/profile/2022_12_05_13_53_25\n",
      "\n",
      "2022-12-05 13:53:25.702417: I tensorflow/core/profiler/rpc/client/save_profile.cc:142] Dumped gzipped tool data for trace.json.gz to logs/fit/20221205-135259/train/plugins/profile/2022_12_05_13_53_25/fb6d4eda6edb.trace.json.gz\n",
      "2022-12-05 13:53:25.733276: I tensorflow/core/profiler/rpc/client/save_profile.cc:136] Creating directory: logs/fit/20221205-135259/train/plugins/profile/2022_12_05_13_53_25\n",
      "\n",
      "2022-12-05 13:53:25.737623: I tensorflow/core/profiler/rpc/client/save_profile.cc:142] Dumped gzipped tool data for memory_profile.json.gz to logs/fit/20221205-135259/train/plugins/profile/2022_12_05_13_53_25/fb6d4eda6edb.memory_profile.json.gz\n",
      "2022-12-05 13:53:25.738738: I tensorflow/core/profiler/rpc/client/capture_profile.cc:251] Creating directory: logs/fit/20221205-135259/train/plugins/profile/2022_12_05_13_53_25\n",
      "Dumped tool data for xplane.pb to logs/fit/20221205-135259/train/plugins/profile/2022_12_05_13_53_25/fb6d4eda6edb.xplane.pb\n",
      "Dumped tool data for overview_page.pb to logs/fit/20221205-135259/train/plugins/profile/2022_12_05_13_53_25/fb6d4eda6edb.overview_page.pb\n",
      "Dumped tool data for input_pipeline.pb to logs/fit/20221205-135259/train/plugins/profile/2022_12_05_13_53_25/fb6d4eda6edb.input_pipeline.pb\n",
      "Dumped tool data for tensorflow_stats.pb to logs/fit/20221205-135259/train/plugins/profile/2022_12_05_13_53_25/fb6d4eda6edb.tensorflow_stats.pb\n",
      "Dumped tool data for kernel_stats.pb to logs/fit/20221205-135259/train/plugins/profile/2022_12_05_13_53_25/fb6d4eda6edb.kernel_stats.pb\n",
      "\n"
     ]
    },
    {
     "name": "stdout",
     "output_type": "stream",
     "text": [
      "1500/1500 [==============================] - 643s 417ms/step - loss: 2.7727 - accuracy: 0.0631 - val_loss: 2.7731 - val_accuracy: 0.0637\n"
     ]
    },
    {
     "name": "stderr",
     "output_type": "stream",
     "text": [
      "2022-12-05 14:03:50.729031: W tensorflow/core/framework/cpu_allocator_impl.cc:80] Allocation of 1541406720 exceeds 10% of free system memory.\n"
     ]
    },
    {
     "name": "stdout",
     "output_type": "stream",
     "text": [
      "Epoch 2/5\n",
      "1500/1500 [==============================] - 601s 401ms/step - loss: 2.7729 - accuracy: 0.0600 - val_loss: 2.7730 - val_accuracy: 0.0593\n"
     ]
    },
    {
     "name": "stderr",
     "output_type": "stream",
     "text": [
      "2022-12-05 14:13:55.851245: W tensorflow/core/framework/cpu_allocator_impl.cc:80] Allocation of 1541406720 exceeds 10% of free system memory.\n"
     ]
    },
    {
     "name": "stdout",
     "output_type": "stream",
     "text": [
      "Epoch 3/5\n",
      "1500/1500 [==============================] - 591s 394ms/step - loss: 2.7728 - accuracy: 0.0617 - val_loss: 2.7730 - val_accuracy: 0.0584\n"
     ]
    },
    {
     "name": "stderr",
     "output_type": "stream",
     "text": [
      "2022-12-05 14:23:50.930370: W tensorflow/core/framework/cpu_allocator_impl.cc:80] Allocation of 1541406720 exceeds 10% of free system memory.\n"
     ]
    },
    {
     "name": "stdout",
     "output_type": "stream",
     "text": [
      "Epoch 4/5\n",
      "1500/1500 [==============================] - 590s 393ms/step - loss: 2.7729 - accuracy: 0.0612 - val_loss: 2.7730 - val_accuracy: 0.0584\n"
     ]
    },
    {
     "name": "stderr",
     "output_type": "stream",
     "text": [
      "2022-12-05 14:33:44.647391: W tensorflow/core/framework/cpu_allocator_impl.cc:80] Allocation of 1541406720 exceeds 10% of free system memory.\n"
     ]
    },
    {
     "name": "stdout",
     "output_type": "stream",
     "text": [
      "Epoch 5/5\n",
      "1500/1500 [==============================] - 583s 389ms/step - loss: 2.7729 - accuracy: 0.0615 - val_loss: 2.7731 - val_accuracy: 0.0619\n"
     ]
    },
    {
     "name": "stderr",
     "output_type": "stream",
     "text": [
      "2022-12-05 14:43:31.623672: W tensorflow/core/framework/cpu_allocator_impl.cc:80] Allocation of 1541406720 exceeds 10% of free system memory.\n"
     ]
    },
    {
     "data": {
      "text/plain": [
       "<keras.callbacks.History at 0x7fea4c369f50>"
      ]
     },
     "execution_count": 35,
     "metadata": {},
     "output_type": "execute_result"
    }
   ],
   "source": [
    "#fitting generator\n",
    "model_3.fit_generator(train_generator, epochs=5, validation_data=test_generator, callbacks = [tensorboard_callback])"
   ]
  },
  {
   "cell_type": "code",
   "execution_count": 36,
   "metadata": {
    "execution": {
     "iopub.execute_input": "2022-12-05T14:43:54.483186Z",
     "iopub.status.busy": "2022-12-05T14:43:54.482765Z",
     "iopub.status.idle": "2022-12-05T14:43:56.213897Z",
     "shell.execute_reply": "2022-12-05T14:43:56.212573Z",
     "shell.execute_reply.started": "2022-12-05T14:43:54.483141Z"
    }
   },
   "outputs": [
    {
     "data": {
      "image/png": "[encoded data removed]",
      "text/plain": [
       "<IPython.core.display.Image object>"
      ]
     },
     "execution_count": 36,
     "metadata": {},
     "output_type": "execute_result"
    }
   ],
   "source": [
    "tf.keras.utils.plot_model(model_3, to_file='model_3.png', show_shapes=False, show_layer_names=True, \n",
    "                          rankdir='TB', expand_nested=False, dpi=96)"
   ]
  },
  {
   "cell_type": "code",
   "execution_count": 37,
   "metadata": {
    "execution": {
     "iopub.execute_input": "2022-12-05T14:44:02.550699Z",
     "iopub.status.busy": "2022-12-05T14:44:02.550318Z",
     "iopub.status.idle": "2022-12-05T14:44:10.681048Z",
     "shell.execute_reply": "2022-12-05T14:44:10.679713Z",
     "shell.execute_reply.started": "2022-12-05T14:44:02.550667Z"
    }
   },
   "outputs": [
    {
     "data": {
      "text/html": [
       "\n",
       "      <iframe id=\"tensorboard-frame-a08396971a31b00f\" width=\"100%\" height=\"800\" frameborder=\"0\">\n",
       "      </iframe>\n",
       "      <script>\n",
       "        (function() {\n",
       "          const frame = document.getElementById(\"tensorboard-frame-a08396971a31b00f\");\n",
       "          const url = new URL(\"/\", window.location);\n",
       "          const port = 6006;\n",
       "          if (port) {\n",
       "            url.port = port;\n",
       "          }\n",
       "          frame.src = url;\n",
       "        })();\n",
       "      </script>\n",
       "    "
      ],
      "text/plain": [
       "<IPython.core.display.HTML object>"
      ]
     },
     "metadata": {},
     "output_type": "display_data"
    }
   ],
   "source": [
    "%tensorboard --logdir logs/fit"
   ]
  },
  {
   "cell_type": "markdown",
   "metadata": {},
   "source": [
    "### Please write your observations or a brief summary of the results that you get after performing transfer learning with reference to model1, model2 and model3"
   ]
  },
  {
   "cell_type": "markdown",
   "metadata": {},
   "source": [
    "- Accuracy of Model 3 is only 0.0619\n",
    "- As the number of epochs increases, both train and validation accuracy also increases.\n",
    "- If we run more than 20 epochs then we may get 0.9+ accuracy for Model 1 and Model 2\n",
    "- As the number of trainable parameters increases then the model requires more epochs to get high accuracy.\n",
    "- Model 3 takes more time to train followed by Model 2 followed by Model 1 because trainable parameters are more in Model 3 so it requires more number of epochs."
   ]
  },
  {
   "cell_type": "code",
   "execution_count": 38,
   "metadata": {
    "execution": {
     "iopub.execute_input": "2022-12-05T14:44:47.060070Z",
     "iopub.status.busy": "2022-12-05T14:44:47.059667Z",
     "iopub.status.idle": "2022-12-05T14:44:47.069045Z",
     "shell.execute_reply": "2022-12-05T14:44:47.067968Z",
     "shell.execute_reply.started": "2022-12-05T14:44:47.060031Z"
    }
   },
   "outputs": [
    {
     "name": "stdout",
     "output_type": "stream",
     "text": [
      "+---------+------------------+----------------+---------------------+\n",
      "|  Model  | Number of Epochs | Train Accuracy | Validation Accuracy |\n",
      "+---------+------------------+----------------+---------------------+\n",
      "| Model 1 |        5         |     0.7786     |        0.7086       |\n",
      "| Model 2 |        5         |     0.8089     |        0.7397       |\n",
      "| Model 3 |        5         |     0.0615     |        0.0619       |\n",
      "+---------+------------------+----------------+---------------------+\n"
     ]
    }
   ],
   "source": [
    "from prettytable import PrettyTable\n",
    "  \n",
    "# Specify the Column Names while initializing the Table\n",
    "Table = PrettyTable([\"Model\", \"Number of Epochs\", \"Train Accuracy\", \"Validation Accuracy\"])\n",
    "  \n",
    "# Add rows\n",
    "Table.add_row([\"Model 1\", \"5\", \"0.7786\", \"0.7086\"])\n",
    "Table.add_row([\"Model 2\", \"5\", \"0.8089\", \"0.7397\"])\n",
    "Table.add_row([\"Model 3\", \"5\", \"0.0615\", \"0.0619\"])\n",
    "\n",
    "print(Table)"
   ]
  }
 ],
 "metadata": {
  "colab": {
   "collapsed_sections": [],
   "name": "Copy of Transfer Learning.ipynb",
   "provenance": [],
   "toc_visible": true
  },
  "kernelspec": {
   "display_name": "Python 3 (ipykernel)",
   "language": "python",
   "name": "python3"
  },
  "language_info": {
   "codemirror_mode": {
    "name": "ipython",
    "version": 3
   },
   "file_extension": ".py",
   "mimetype": "text/x-python",
   "name": "python",
   "nbconvert_exporter": "python",
   "pygments_lexer": "ipython3",
   "version": "3.9.13"
  }
 },
 "nbformat": 4,
 "nbformat_minor": 4
}
