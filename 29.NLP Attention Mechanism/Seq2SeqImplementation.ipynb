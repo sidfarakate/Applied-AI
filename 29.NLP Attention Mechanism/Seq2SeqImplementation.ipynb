{
 "cells": [
  {
   "cell_type": "markdown",
   "metadata": {
    "id": "fwPL0hIlGKoA"
   },
   "source": [
    "# <font color='red'>**Sequence to sequence implementation**</font>"
   ]
  },
  {
   "cell_type": "markdown",
   "metadata": {
    "id": "IvNSZXNkkOkO"
   },
   "source": [
    "1. Download the **Italian** to **English** translation dataset from <a href=\"http://www.manythings.org/anki/ita-eng.zip\">here</a>\n",
    "\n",
    "2. You will find **ita.txt** file in that ZIP, \n",
    "you can read that data using python and preprocess that data this way only: \n",
    "<img src='https://i.imgur.com/z0j79Jf.png'>    \n",
    "    \n",
    "3. Implement a simple Encoder and Decoder architecture  \n",
    "\n",
    "4.  BLEU score as metric to evaluate your model.\n",
    "\n",
    "5. Use Tensorboard to plot the Graph, Scores and histograms of gradients. \n",
    "\n",
    "    \n",
    "\n"
   ]
  },
  {
   "cell_type": "code",
   "execution_count": 1,
   "metadata": {
    "execution": {
     "iopub.execute_input": "2023-01-24T12:06:44.606320Z",
     "iopub.status.busy": "2023-01-24T12:06:44.605869Z",
     "iopub.status.idle": "2023-01-24T12:06:50.781640Z",
     "shell.execute_reply": "2023-01-24T12:06:50.780722Z",
     "shell.execute_reply.started": "2023-01-24T12:06:44.606241Z"
    },
    "id": "Nirk8Q8IlfgW"
   },
   "outputs": [],
   "source": [
    "import tensorflow as tf\n",
    "tf.compat.v1.enable_eager_execution()\n",
    "from tensorflow.keras.layers import TimeDistributed\n",
    "tf.keras.backend.clear_session()\n",
    "from tensorflow.keras.layers import Input, Softmax, RNN, Dense, Embedding, LSTM\n",
    "from tensorflow.keras.models import Model\n",
    "import numpy as np\n",
    "\n",
    "import matplotlib.pyplot as plt\n",
    "%matplotlib inline\n",
    "import seaborn as sns\n",
    "import pandas as pd\n",
    "import re\n",
    "from tensorflow.keras.preprocessing.text import Tokenizer\n",
    "from tensorflow.keras.preprocessing.sequence import pad_sequences\n",
    "\n",
    "import warnings\n",
    "warnings.filterwarnings(\"ignore\")\n"
   ]
  },
  {
   "cell_type": "markdown",
   "metadata": {
    "id": "3k_AlAuKJqVA"
   },
   "source": [
    "<font color='blue'>**Load the data**</font>"
   ]
  },
  {
   "cell_type": "code",
   "execution_count": 2,
   "metadata": {
    "colab": {
     "base_uri": "https://localhost:8080/"
    },
    "execution": {
     "iopub.execute_input": "2023-01-24T12:06:57.933022Z",
     "iopub.status.busy": "2023-01-24T12:06:57.931715Z",
     "iopub.status.idle": "2023-01-24T12:07:00.618975Z",
     "shell.execute_reply": "2023-01-24T12:07:00.617747Z",
     "shell.execute_reply.started": "2023-01-24T12:06:57.932975Z"
    },
    "id": "fU80Ao-AGaob",
    "outputId": "ee41ed7d-fce6-4ce7-82cb-7c50a3dbdd96"
   },
   "outputs": [
    {
     "name": "stdout",
     "output_type": "stream",
     "text": [
      "--2023-01-24 12:06:58--  http://www.manythings.org/anki/ita-eng.zip\n",
      "Resolving www.manythings.org (www.manythings.org)... 173.254.30.110\n",
      "Connecting to www.manythings.org (www.manythings.org)|173.254.30.110|:80... connected.\n",
      "HTTP request sent, awaiting response... 200 OK\n",
      "Length: 7882203 (7.5M) [application/zip]\n",
      "Saving to: ‘ita-eng.zip’\n",
      "\n",
      "ita-eng.zip         100%[===================>]   7.52M  6.42MB/s    in 1.2s    \n",
      "\n",
      "2023-01-24 12:07:00 (6.42 MB/s) - ‘ita-eng.zip’ saved [7882203/7882203]\n",
      "\n"
     ]
    }
   ],
   "source": [
    "!wget http://www.manythings.org/anki/ita-eng.zip\n"
   ]
  },
  {
   "cell_type": "code",
   "execution_count": 3,
   "metadata": {
    "colab": {
     "base_uri": "https://localhost:8080/"
    },
    "execution": {
     "iopub.execute_input": "2023-01-24T12:07:04.615423Z",
     "iopub.status.busy": "2023-01-24T12:07:04.615036Z",
     "iopub.status.idle": "2023-01-24T12:07:05.873638Z",
     "shell.execute_reply": "2023-01-24T12:07:05.872480Z",
     "shell.execute_reply.started": "2023-01-24T12:07:04.615388Z"
    },
    "id": "BCj1KriwtYFs",
    "outputId": "bc943e38-1067-414f-8efb-f605280e10c8"
   },
   "outputs": [
    {
     "name": "stdout",
     "output_type": "stream",
     "text": [
      "Archive:  ita-eng.zip\n",
      "  inflating: ita.txt                 \n",
      "  inflating: _about.txt              \n"
     ]
    }
   ],
   "source": [
    "!unzip ita-eng.zip"
   ]
  },
  {
   "cell_type": "markdown",
   "metadata": {
    "id": "vmGWTdRmKRph"
   },
   "source": [
    "<font color='blue'>**Preprocess data**</font>"
   ]
  },
  {
   "cell_type": "code",
   "execution_count": 4,
   "metadata": {
    "colab": {
     "base_uri": "https://localhost:8080/"
    },
    "execution": {
     "iopub.execute_input": "2023-01-24T12:08:04.882535Z",
     "iopub.status.busy": "2023-01-24T12:08:04.881796Z",
     "iopub.status.idle": "2023-01-24T12:08:20.105166Z",
     "shell.execute_reply": "2023-01-24T12:08:20.104004Z",
     "shell.execute_reply.started": "2023-01-24T12:08:04.882497Z"
    },
    "id": "9QqElB_nKZos",
    "outputId": "5682494b-a219-4a44-804d-8891b8967fa1"
   },
   "outputs": [
    {
     "name": "stdout",
     "output_type": "stream",
     "text": [
      "--2023-01-24 12:08:05--  https://www.dropbox.com/s/ddkmtqz01jc024u/glove.6B.100d.txt\n",
      "Resolving www.dropbox.com (www.dropbox.com)... 162.125.9.18, 2620:100:601f:18::a27d:912\n",
      "Connecting to www.dropbox.com (www.dropbox.com)|162.125.9.18|:443... connected.\n",
      "HTTP request sent, awaiting response... 302 Found\n",
      "Location: /s/raw/ddkmtqz01jc024u/glove.6B.100d.txt [following]\n",
      "--2023-01-24 12:08:06--  https://www.dropbox.com/s/raw/ddkmtqz01jc024u/glove.6B.100d.txt\n",
      "Reusing existing connection to www.dropbox.com:443.\n",
      "HTTP request sent, awaiting response... 302 Found\n",
      "Location: https://uc06ebfdd2bf037f97d3ff634656.dl.dropboxusercontent.com/cd/0/inline/B1LTVHkvIsIdpuJpK4J2ecQd8GxzCOVE3QzLi9RSKQNw4v7Xa1jzbhoK1du68V7Di5Ok17R00XzXibZCKTisEy1jmshtSktaiyJF-S8lMVoLGTFgeyNc99TEIqYbb24KAWqj6j1UaLL4_ajI12n-LEBu8utbg_KUQhRtJ4qGxGnxUw/file# [following]\n",
      "--2023-01-24 12:08:07--  https://uc06ebfdd2bf037f97d3ff634656.dl.dropboxusercontent.com/cd/0/inline/B1LTVHkvIsIdpuJpK4J2ecQd8GxzCOVE3QzLi9RSKQNw4v7Xa1jzbhoK1du68V7Di5Ok17R00XzXibZCKTisEy1jmshtSktaiyJF-S8lMVoLGTFgeyNc99TEIqYbb24KAWqj6j1UaLL4_ajI12n-LEBu8utbg_KUQhRtJ4qGxGnxUw/file\n",
      "Resolving uc06ebfdd2bf037f97d3ff634656.dl.dropboxusercontent.com (uc06ebfdd2bf037f97d3ff634656.dl.dropboxusercontent.com)... 162.125.9.15, 2620:100:601f:15::a27d:90f\n",
      "Connecting to uc06ebfdd2bf037f97d3ff634656.dl.dropboxusercontent.com (uc06ebfdd2bf037f97d3ff634656.dl.dropboxusercontent.com)|162.125.9.15|:443... connected.\n",
      "HTTP request sent, awaiting response... 200 OK\n",
      "Length: 347116733 (331M) [text/plain]\n",
      "Saving to: ‘glove.6B.100d.txt’\n",
      "\n",
      "glove.6B.100d.txt   100%[===================>] 331.04M  30.9MB/s    in 11s     \n",
      "\n",
      "2023-01-24 12:08:19 (29.3 MB/s) - ‘glove.6B.100d.txt’ saved [347116733/347116733]\n",
      "\n"
     ]
    }
   ],
   "source": [
    "!wget https://www.dropbox.com/s/ddkmtqz01jc024u/glove.6B.100d.txt"
   ]
  },
  {
   "cell_type": "code",
   "execution_count": 5,
   "metadata": {
    "colab": {
     "base_uri": "https://localhost:8080/",
     "height": 224
    },
    "execution": {
     "iopub.execute_input": "2023-01-24T12:08:23.471337Z",
     "iopub.status.busy": "2023-01-24T12:08:23.470938Z",
     "iopub.status.idle": "2023-01-24T12:08:24.147786Z",
     "shell.execute_reply": "2023-01-24T12:08:24.146722Z",
     "shell.execute_reply.started": "2023-01-24T12:08:23.471302Z"
    },
    "id": "YvfwFa7c9iQq",
    "outputId": "7df2406f-1e38-4baf-ff2f-f4c60f8ff95d"
   },
   "outputs": [
    {
     "name": "stdout",
     "output_type": "stream",
     "text": [
      "(358373, 2)\n"
     ]
    },
    {
     "data": {
      "text/html": [
       "<div>\n",
       "<style scoped>\n",
       "    .dataframe tbody tr th:only-of-type {\n",
       "        vertical-align: middle;\n",
       "    }\n",
       "\n",
       "    .dataframe tbody tr th {\n",
       "        vertical-align: top;\n",
       "    }\n",
       "\n",
       "    .dataframe thead th {\n",
       "        text-align: right;\n",
       "    }\n",
       "</style>\n",
       "<table border=\"1\" class=\"dataframe\">\n",
       "  <thead>\n",
       "    <tr style=\"text-align: right;\">\n",
       "      <th></th>\n",
       "      <th>english</th>\n",
       "      <th>italian</th>\n",
       "    </tr>\n",
       "  </thead>\n",
       "  <tbody>\n",
       "    <tr>\n",
       "      <th>0</th>\n",
       "      <td>Hi.</td>\n",
       "      <td>Ciao!</td>\n",
       "    </tr>\n",
       "    <tr>\n",
       "      <th>1</th>\n",
       "      <td>Hi.</td>\n",
       "      <td>Ciao.</td>\n",
       "    </tr>\n",
       "    <tr>\n",
       "      <th>2</th>\n",
       "      <td>Run!</td>\n",
       "      <td>Corri!</td>\n",
       "    </tr>\n",
       "    <tr>\n",
       "      <th>3</th>\n",
       "      <td>Run!</td>\n",
       "      <td>Corra!</td>\n",
       "    </tr>\n",
       "    <tr>\n",
       "      <th>4</th>\n",
       "      <td>Run!</td>\n",
       "      <td>Correte!</td>\n",
       "    </tr>\n",
       "  </tbody>\n",
       "</table>\n",
       "</div>"
      ],
      "text/plain": [
       "  english   italian\n",
       "0     Hi.     Ciao!\n",
       "1     Hi.     Ciao.\n",
       "2    Run!    Corri!\n",
       "3    Run!    Corra!\n",
       "4    Run!  Correte!"
      ]
     },
     "execution_count": 5,
     "metadata": {},
     "output_type": "execute_result"
    }
   ],
   "source": [
    "with open('ita.txt', 'r', encoding=\"utf8\") as f:\n",
    "    eng=[]\n",
    "    ita=[]\n",
    "    for i in f.readlines():\n",
    "        eng.append(i.split(\"\\t\")[0])\n",
    "        ita.append(i.split(\"\\t\")[1])\n",
    "data = pd.DataFrame(data=list(zip(eng, ita)), columns=['english','italian'])\n",
    "print(data.shape)\n",
    "data.head()"
   ]
  },
  {
   "cell_type": "code",
   "execution_count": 6,
   "metadata": {
    "colab": {
     "base_uri": "https://localhost:8080/",
     "height": 206
    },
    "execution": {
     "iopub.execute_input": "2023-01-24T12:08:30.118630Z",
     "iopub.status.busy": "2023-01-24T12:08:30.118252Z",
     "iopub.status.idle": "2023-01-24T12:08:46.589543Z",
     "shell.execute_reply": "2023-01-24T12:08:46.588551Z",
     "shell.execute_reply.started": "2023-01-24T12:08:30.118597Z"
    },
    "id": "sH4Tfl3g9lRB",
    "outputId": "db4372b8-741f-4ad4-c9e3-db6b0c2fd0e3"
   },
   "outputs": [
    {
     "data": {
      "text/html": [
       "<div>\n",
       "<style scoped>\n",
       "    .dataframe tbody tr th:only-of-type {\n",
       "        vertical-align: middle;\n",
       "    }\n",
       "\n",
       "    .dataframe tbody tr th {\n",
       "        vertical-align: top;\n",
       "    }\n",
       "\n",
       "    .dataframe thead th {\n",
       "        text-align: right;\n",
       "    }\n",
       "</style>\n",
       "<table border=\"1\" class=\"dataframe\">\n",
       "  <thead>\n",
       "    <tr style=\"text-align: right;\">\n",
       "      <th></th>\n",
       "      <th>english</th>\n",
       "      <th>italian</th>\n",
       "    </tr>\n",
       "  </thead>\n",
       "  <tbody>\n",
       "    <tr>\n",
       "      <th>0</th>\n",
       "      <td>hi</td>\n",
       "      <td>ciao</td>\n",
       "    </tr>\n",
       "    <tr>\n",
       "      <th>1</th>\n",
       "      <td>hi</td>\n",
       "      <td>ciao</td>\n",
       "    </tr>\n",
       "    <tr>\n",
       "      <th>2</th>\n",
       "      <td>run</td>\n",
       "      <td>corri</td>\n",
       "    </tr>\n",
       "    <tr>\n",
       "      <th>3</th>\n",
       "      <td>run</td>\n",
       "      <td>corra</td>\n",
       "    </tr>\n",
       "    <tr>\n",
       "      <th>4</th>\n",
       "      <td>run</td>\n",
       "      <td>correte</td>\n",
       "    </tr>\n",
       "  </tbody>\n",
       "</table>\n",
       "</div>"
      ],
      "text/plain": [
       "  english  italian\n",
       "0      hi     ciao\n",
       "1      hi     ciao\n",
       "2     run    corri\n",
       "3     run    corra\n",
       "4     run  correte"
      ]
     },
     "execution_count": 6,
     "metadata": {},
     "output_type": "execute_result"
    }
   ],
   "source": [
    "def decontractions(phrase):\n",
    "    \"\"\"decontracted takes text and convert contractions into natural form.\n",
    "     ref: https://stackoverflow.com/questions/19790188/expanding-english-language-contractions-in-python/47091490#47091490\"\"\"\n",
    "    # specific\n",
    "    phrase = re.sub(r\"won\\'t\", \"will not\", phrase)\n",
    "    phrase = re.sub(r\"can\\'t\", \"can not\", phrase)\n",
    "    phrase = re.sub(r\"won\\’t\", \"will not\", phrase)\n",
    "    phrase = re.sub(r\"can\\’t\", \"can not\", phrase)\n",
    "\n",
    "    # general\n",
    "    phrase = re.sub(r\"n\\'t\", \" not\", phrase)\n",
    "    phrase = re.sub(r\"\\'re\", \" are\", phrase)\n",
    "    phrase = re.sub(r\"\\'s\", \" is\", phrase)\n",
    "    phrase = re.sub(r\"\\'d\", \" would\", phrase)\n",
    "    phrase = re.sub(r\"\\'ll\", \" will\", phrase)\n",
    "    phrase = re.sub(r\"\\'t\", \" not\", phrase)\n",
    "    phrase = re.sub(r\"\\'ve\", \" have\", phrase)\n",
    "    phrase = re.sub(r\"\\'m\", \" am\", phrase)\n",
    "\n",
    "    phrase = re.sub(r\"n\\’t\", \" not\", phrase)\n",
    "    phrase = re.sub(r\"\\’re\", \" are\", phrase)\n",
    "    phrase = re.sub(r\"\\’s\", \" is\", phrase)\n",
    "    phrase = re.sub(r\"\\’d\", \" would\", phrase)\n",
    "    phrase = re.sub(r\"\\’ll\", \" will\", phrase)\n",
    "    phrase = re.sub(r\"\\’t\", \" not\", phrase)\n",
    "    phrase = re.sub(r\"\\’ve\", \" have\", phrase)\n",
    "    phrase = re.sub(r\"\\’m\", \" am\", phrase)\n",
    "\n",
    "    return phrase\n",
    "\n",
    "def preprocess(text):\n",
    "    # convert all the text into lower letters\n",
    "    # use this function to remove the contractions: https://gist.github.com/anandborad/d410a49a493b56dace4f814ab5325bbd\n",
    "    # remove all the spacial characters: except space ' '\n",
    "    text = text.lower()\n",
    "    text = decontractions(text)\n",
    "    text = re.sub('[^A-Za-z0-9 ]+', '', text)\n",
    "    return text\n",
    "\n",
    "def preprocess_ita(text):\n",
    "    # convert all the text into lower letters\n",
    "    # remove the words betweent brakets ()\n",
    "    # remove these characters: {'$', ')', '?', '\"', '’', '.',  '°', '!', ';', '/', \"'\", '€', '%', ':', ',', '('}\n",
    "    # replace these spl characters with space: '\\u200b', '\\xa0', '-', '/'\n",
    "    # I have found these characters after observing the data points, feel free to explore more and see if you can do find more\n",
    "    # you are free to do more proprocessing\n",
    "    # note that the model will learn better with better preprocessed data \n",
    "    \n",
    "    text = text.lower()\n",
    "    text = decontractions(text)\n",
    "    text = re.sub('[$)\\?\"’.°!;\\'€%:,(/]', '', text)\n",
    "    text = re.sub('\\u200b', ' ', text)\n",
    "    text = re.sub('\\xa0', ' ', text)\n",
    "    text = re.sub('-', ' ', text)\n",
    "    return text\n",
    "\n",
    "\n",
    "data['english'] = data['english'].apply(preprocess)\n",
    "data['italian'] = data['italian'].apply(preprocess_ita)\n",
    "data.head()"
   ]
  },
  {
   "cell_type": "code",
   "execution_count": 7,
   "metadata": {
    "colab": {
     "base_uri": "https://localhost:8080/",
     "height": 414
    },
    "execution": {
     "iopub.execute_input": "2023-01-24T12:08:46.592268Z",
     "iopub.status.busy": "2023-01-24T12:08:46.591646Z",
     "iopub.status.idle": "2023-01-24T12:08:48.707779Z",
     "shell.execute_reply": "2023-01-24T12:08:48.706651Z",
     "shell.execute_reply.started": "2023-01-24T12:08:46.592231Z"
    },
    "id": "ESNcDx9f914L",
    "outputId": "d774b926-2519-4abf-9ed0-b0246ebf5a6c"
   },
   "outputs": [
    {
     "data": {
      "text/html": [
       "<div>\n",
       "<style scoped>\n",
       "    .dataframe tbody tr th:only-of-type {\n",
       "        vertical-align: middle;\n",
       "    }\n",
       "\n",
       "    .dataframe tbody tr th {\n",
       "        vertical-align: top;\n",
       "    }\n",
       "\n",
       "    .dataframe thead th {\n",
       "        text-align: right;\n",
       "    }\n",
       "</style>\n",
       "<table border=\"1\" class=\"dataframe\">\n",
       "  <thead>\n",
       "    <tr style=\"text-align: right;\">\n",
       "      <th></th>\n",
       "      <th>italian</th>\n",
       "      <th>english_inp</th>\n",
       "      <th>english_out</th>\n",
       "    </tr>\n",
       "  </thead>\n",
       "  <tbody>\n",
       "    <tr>\n",
       "      <th>0</th>\n",
       "      <td>ciao</td>\n",
       "      <td>&lt;start&gt; hi</td>\n",
       "      <td>hi &lt;end&gt;</td>\n",
       "    </tr>\n",
       "    <tr>\n",
       "      <th>1</th>\n",
       "      <td>ciao</td>\n",
       "      <td>&lt;start&gt; hi</td>\n",
       "      <td>hi &lt;end&gt;</td>\n",
       "    </tr>\n",
       "    <tr>\n",
       "      <th>2</th>\n",
       "      <td>corri</td>\n",
       "      <td>&lt;start&gt; run</td>\n",
       "      <td>run &lt;end&gt;</td>\n",
       "    </tr>\n",
       "    <tr>\n",
       "      <th>3</th>\n",
       "      <td>corra</td>\n",
       "      <td>&lt;start&gt; run</td>\n",
       "      <td>run &lt;end&gt;</td>\n",
       "    </tr>\n",
       "    <tr>\n",
       "      <th>4</th>\n",
       "      <td>correte</td>\n",
       "      <td>&lt;start&gt; run</td>\n",
       "      <td>run &lt;end&gt;</td>\n",
       "    </tr>\n",
       "  </tbody>\n",
       "</table>\n",
       "</div>"
      ],
      "text/plain": [
       "   italian  english_inp english_out\n",
       "0     ciao   <start> hi    hi <end>\n",
       "1     ciao   <start> hi    hi <end>\n",
       "2    corri  <start> run   run <end>\n",
       "3    corra  <start> run   run <end>\n",
       "4  correte  <start> run   run <end>"
      ]
     },
     "execution_count": 7,
     "metadata": {},
     "output_type": "execute_result"
    }
   ],
   "source": [
    "data['italian_len'] = data['italian'].str.split().apply(len)\n",
    "data = data[data['italian_len'] < 20]\n",
    "\n",
    "data['english_len'] = data['english'].str.split().apply(len)\n",
    "data = data[data['english_len'] < 20]\n",
    "\n",
    "data['english_inp'] = '<start> ' + data['english'].astype(str)\n",
    "data['english_out'] = data['english'].astype(str) + ' <end>'\n",
    "\n",
    "data = data.drop(['english','italian_len','english_len'], axis=1)\n",
    "# only for the first sentance add a toke <end> so that we will have <end> in tokenizer\n",
    "data.head()"
   ]
  },
  {
   "cell_type": "code",
   "execution_count": 8,
   "metadata": {
    "colab": {
     "base_uri": "https://localhost:8080/",
     "height": 363
    },
    "execution": {
     "iopub.execute_input": "2023-01-24T12:08:48.709970Z",
     "iopub.status.busy": "2023-01-24T12:08:48.709337Z",
     "iopub.status.idle": "2023-01-24T12:08:48.732119Z",
     "shell.execute_reply": "2023-01-24T12:08:48.731262Z",
     "shell.execute_reply.started": "2023-01-24T12:08:48.709931Z"
    },
    "id": "yxouecbE93RR",
    "outputId": "e7ba735c-daac-4872-ad4a-1bf70be22c6e"
   },
   "outputs": [
    {
     "data": {
      "text/html": [
       "<div>\n",
       "<style scoped>\n",
       "    .dataframe tbody tr th:only-of-type {\n",
       "        vertical-align: middle;\n",
       "    }\n",
       "\n",
       "    .dataframe tbody tr th {\n",
       "        vertical-align: top;\n",
       "    }\n",
       "\n",
       "    .dataframe thead th {\n",
       "        text-align: right;\n",
       "    }\n",
       "</style>\n",
       "<table border=\"1\" class=\"dataframe\">\n",
       "  <thead>\n",
       "    <tr style=\"text-align: right;\">\n",
       "      <th></th>\n",
       "      <th>italian</th>\n",
       "      <th>english_inp</th>\n",
       "      <th>english_out</th>\n",
       "    </tr>\n",
       "  </thead>\n",
       "  <tbody>\n",
       "    <tr>\n",
       "      <th>214463</th>\n",
       "      <td>unape volò fuori dalla finestra</td>\n",
       "      <td>&lt;start&gt; a bee flew out of the window</td>\n",
       "      <td>a bee flew out of the window &lt;end&gt;</td>\n",
       "    </tr>\n",
       "    <tr>\n",
       "      <th>221718</th>\n",
       "      <td>fammi sapere il tuo nuovo indirizzo</td>\n",
       "      <td>&lt;start&gt; let me know your new address</td>\n",
       "      <td>let me know your new address &lt;end&gt;</td>\n",
       "    </tr>\n",
       "    <tr>\n",
       "      <th>97099</th>\n",
       "      <td>tom ha finito il lavoro</td>\n",
       "      <td>&lt;start&gt; tom finished the job</td>\n",
       "      <td>tom finished the job &lt;end&gt;</td>\n",
       "    </tr>\n",
       "    <tr>\n",
       "      <th>357118</th>\n",
       "      <td>tom ha comprato una macchina fotografica un pa...</td>\n",
       "      <td>&lt;start&gt; tom bought a camera just a couple of d...</td>\n",
       "      <td>tom bought a camera just a couple of days ago ...</td>\n",
       "    </tr>\n",
       "    <tr>\n",
       "      <th>130557</th>\n",
       "      <td>noi conoscevamo entrambi i rischi</td>\n",
       "      <td>&lt;start&gt; we both knew the risks</td>\n",
       "      <td>we both knew the risks &lt;end&gt;</td>\n",
       "    </tr>\n",
       "    <tr>\n",
       "      <th>114140</th>\n",
       "      <td>tom viveva qui</td>\n",
       "      <td>&lt;start&gt; tom used to live here</td>\n",
       "      <td>tom used to live here &lt;end&gt;</td>\n",
       "    </tr>\n",
       "    <tr>\n",
       "      <th>186275</th>\n",
       "      <td>ho sentito che è venuta qui</td>\n",
       "      <td>&lt;start&gt; i heard that she came here</td>\n",
       "      <td>i heard that she came here &lt;end&gt;</td>\n",
       "    </tr>\n",
       "    <tr>\n",
       "      <th>341221</th>\n",
       "      <td>pensavo che sarei arrivata qui prima di voi</td>\n",
       "      <td>&lt;start&gt; i thought i was going to get here befo...</td>\n",
       "      <td>i thought i was going to get here before you &lt;...</td>\n",
       "    </tr>\n",
       "    <tr>\n",
       "      <th>22618</th>\n",
       "      <td>tom sta canticchiando</td>\n",
       "      <td>&lt;start&gt; tom is humming</td>\n",
       "      <td>tom is humming &lt;end&gt;</td>\n",
       "    </tr>\n",
       "    <tr>\n",
       "      <th>279973</th>\n",
       "      <td>voi siete superficiali e materialisti</td>\n",
       "      <td>&lt;start&gt; you are shallow and materialistic</td>\n",
       "      <td>you are shallow and materialistic &lt;end&gt;</td>\n",
       "    </tr>\n",
       "  </tbody>\n",
       "</table>\n",
       "</div>"
      ],
      "text/plain": [
       "                                                  italian  \\\n",
       "214463                    unape volò fuori dalla finestra   \n",
       "221718                fammi sapere il tuo nuovo indirizzo   \n",
       "97099                             tom ha finito il lavoro   \n",
       "357118  tom ha comprato una macchina fotografica un pa...   \n",
       "130557                  noi conoscevamo entrambi i rischi   \n",
       "114140                                     tom viveva qui   \n",
       "186275                        ho sentito che è venuta qui   \n",
       "341221        pensavo che sarei arrivata qui prima di voi   \n",
       "22618                               tom sta canticchiando   \n",
       "279973              voi siete superficiali e materialisti   \n",
       "\n",
       "                                              english_inp  \\\n",
       "214463               <start> a bee flew out of the window   \n",
       "221718               <start> let me know your new address   \n",
       "97099                        <start> tom finished the job   \n",
       "357118  <start> tom bought a camera just a couple of d...   \n",
       "130557                     <start> we both knew the risks   \n",
       "114140                      <start> tom used to live here   \n",
       "186275                 <start> i heard that she came here   \n",
       "341221  <start> i thought i was going to get here befo...   \n",
       "22618                              <start> tom is humming   \n",
       "279973          <start> you are shallow and materialistic   \n",
       "\n",
       "                                              english_out  \n",
       "214463                 a bee flew out of the window <end>  \n",
       "221718                 let me know your new address <end>  \n",
       "97099                          tom finished the job <end>  \n",
       "357118  tom bought a camera just a couple of days ago ...  \n",
       "130557                       we both knew the risks <end>  \n",
       "114140                        tom used to live here <end>  \n",
       "186275                   i heard that she came here <end>  \n",
       "341221  i thought i was going to get here before you <...  \n",
       "22618                                tom is humming <end>  \n",
       "279973            you are shallow and materialistic <end>  "
      ]
     },
     "execution_count": 8,
     "metadata": {},
     "output_type": "execute_result"
    }
   ],
   "source": [
    "data.sample(10)"
   ]
  },
  {
   "cell_type": "code",
   "execution_count": 9,
   "metadata": {
    "execution": {
     "iopub.execute_input": "2023-01-24T12:08:48.735485Z",
     "iopub.status.busy": "2023-01-24T12:08:48.735214Z",
     "iopub.status.idle": "2023-01-24T12:08:48.896143Z",
     "shell.execute_reply": "2023-01-24T12:08:48.895171Z",
     "shell.execute_reply.started": "2023-01-24T12:08:48.735459Z"
    },
    "id": "za1AkanJ-uKa"
   },
   "outputs": [],
   "source": [
    "from sklearn.model_selection import train_test_split\n",
    "train, validation = train_test_split(data, test_size=0.2)"
   ]
  },
  {
   "cell_type": "code",
   "execution_count": 10,
   "metadata": {
    "colab": {
     "base_uri": "https://localhost:8080/"
    },
    "execution": {
     "iopub.execute_input": "2023-01-24T12:08:50.621507Z",
     "iopub.status.busy": "2023-01-24T12:08:50.621123Z",
     "iopub.status.idle": "2023-01-24T12:08:50.627319Z",
     "shell.execute_reply": "2023-01-24T12:08:50.626150Z",
     "shell.execute_reply.started": "2023-01-24T12:08:50.621475Z"
    },
    "id": "nZenBqVPyiuj",
    "outputId": "a023ea85-bbfe-4f04-e57e-57ae82c36fc9"
   },
   "outputs": [
    {
     "name": "stdout",
     "output_type": "stream",
     "text": [
      "(286292, 3) (71574, 3)\n"
     ]
    }
   ],
   "source": [
    "print(train.shape, validation.shape)"
   ]
  },
  {
   "cell_type": "code",
   "execution_count": 11,
   "metadata": {
    "execution": {
     "iopub.execute_input": "2023-01-24T12:08:53.391388Z",
     "iopub.status.busy": "2023-01-24T12:08:53.391006Z",
     "iopub.status.idle": "2023-01-24T12:08:53.397404Z",
     "shell.execute_reply": "2023-01-24T12:08:53.396262Z",
     "shell.execute_reply.started": "2023-01-24T12:08:53.391357Z"
    },
    "id": "dlpK1NkZ-vHb"
   },
   "outputs": [],
   "source": [
    "\n",
    "# for one sentence I will be adding <end> token so that the tokanizer learns the word <end>\n",
    "# with this I can use only one tokenizer for both encoder output and decoder output\n",
    "train.iloc[0]['english_inp']= str(train.iloc[0]['english_inp'])+' <end>'\n",
    "train.iloc[0]['english_out']= str(train.iloc[0]['english_out'])+' <end>'"
   ]
  },
  {
   "cell_type": "code",
   "execution_count": 12,
   "metadata": {
    "colab": {
     "base_uri": "https://localhost:8080/",
     "height": 363
    },
    "execution": {
     "iopub.execute_input": "2023-01-24T12:08:55.071663Z",
     "iopub.status.busy": "2023-01-24T12:08:55.071287Z",
     "iopub.status.idle": "2023-01-24T12:08:55.084513Z",
     "shell.execute_reply": "2023-01-24T12:08:55.083344Z",
     "shell.execute_reply.started": "2023-01-24T12:08:55.071629Z"
    },
    "id": "u0HvbffU-wxl",
    "outputId": "9b18122f-1316-4d88-9499-07ed6f16c405"
   },
   "outputs": [
    {
     "data": {
      "text/html": [
       "<div>\n",
       "<style scoped>\n",
       "    .dataframe tbody tr th:only-of-type {\n",
       "        vertical-align: middle;\n",
       "    }\n",
       "\n",
       "    .dataframe tbody tr th {\n",
       "        vertical-align: top;\n",
       "    }\n",
       "\n",
       "    .dataframe thead th {\n",
       "        text-align: right;\n",
       "    }\n",
       "</style>\n",
       "<table border=\"1\" class=\"dataframe\">\n",
       "  <thead>\n",
       "    <tr style=\"text-align: right;\">\n",
       "      <th></th>\n",
       "      <th>italian</th>\n",
       "      <th>english_inp</th>\n",
       "      <th>english_out</th>\n",
       "    </tr>\n",
       "  </thead>\n",
       "  <tbody>\n",
       "    <tr>\n",
       "      <th>169218</th>\n",
       "      <td>come vorreste pagare</td>\n",
       "      <td>&lt;start&gt; how would you like to pay &lt;end&gt;</td>\n",
       "      <td>how would you like to pay &lt;end&gt; &lt;end&gt;</td>\n",
       "    </tr>\n",
       "    <tr>\n",
       "      <th>133514</th>\n",
       "      <td>voi non siete male in questo</td>\n",
       "      <td>&lt;start&gt; you are not bad at this</td>\n",
       "      <td>you are not bad at this &lt;end&gt;</td>\n",
       "    </tr>\n",
       "    <tr>\n",
       "      <th>281720</th>\n",
       "      <td>suo fratello va a scuola in autobus</td>\n",
       "      <td>&lt;start&gt; her brother goes to school by bus</td>\n",
       "      <td>her brother goes to school by bus &lt;end&gt;</td>\n",
       "    </tr>\n",
       "    <tr>\n",
       "      <th>157073</th>\n",
       "      <td>sono così felice che voi siate qui</td>\n",
       "      <td>&lt;start&gt; i am so happy you are here</td>\n",
       "      <td>i am so happy you are here &lt;end&gt;</td>\n",
       "    </tr>\n",
       "    <tr>\n",
       "      <th>219338</th>\n",
       "      <td>non mi sarei dovuta fidare di tom</td>\n",
       "      <td>&lt;start&gt; i should not have trusted tom</td>\n",
       "      <td>i should not have trusted tom &lt;end&gt;</td>\n",
       "    </tr>\n",
       "    <tr>\n",
       "      <th>152154</th>\n",
       "      <td>mi diede diversi libri</td>\n",
       "      <td>&lt;start&gt; he gave me several books</td>\n",
       "      <td>he gave me several books &lt;end&gt;</td>\n",
       "    </tr>\n",
       "    <tr>\n",
       "      <th>118314</th>\n",
       "      <td>potete portarmi da tom</td>\n",
       "      <td>&lt;start&gt; can you take me to tom</td>\n",
       "      <td>can you take me to tom &lt;end&gt;</td>\n",
       "    </tr>\n",
       "    <tr>\n",
       "      <th>222387</th>\n",
       "      <td>in questo momento la gente è spaventata</td>\n",
       "      <td>&lt;start&gt; right now people are scared</td>\n",
       "      <td>right now people are scared &lt;end&gt;</td>\n",
       "    </tr>\n",
       "    <tr>\n",
       "      <th>328200</th>\n",
       "      <td>fece del duro lavoro manuale durante il giorno</td>\n",
       "      <td>&lt;start&gt; he did hard manual labor through the day</td>\n",
       "      <td>he did hard manual labor through the day &lt;end&gt;</td>\n",
       "    </tr>\n",
       "    <tr>\n",
       "      <th>95552</th>\n",
       "      <td>mi ha aiutata molto</td>\n",
       "      <td>&lt;start&gt; that helped me a lot</td>\n",
       "      <td>that helped me a lot &lt;end&gt;</td>\n",
       "    </tr>\n",
       "  </tbody>\n",
       "</table>\n",
       "</div>"
      ],
      "text/plain": [
       "                                               italian  \\\n",
       "169218                            come vorreste pagare   \n",
       "133514                    voi non siete male in questo   \n",
       "281720             suo fratello va a scuola in autobus   \n",
       "157073              sono così felice che voi siate qui   \n",
       "219338               non mi sarei dovuta fidare di tom   \n",
       "152154                          mi diede diversi libri   \n",
       "118314                          potete portarmi da tom   \n",
       "222387         in questo momento la gente è spaventata   \n",
       "328200  fece del duro lavoro manuale durante il giorno   \n",
       "95552                              mi ha aiutata molto   \n",
       "\n",
       "                                             english_inp  \\\n",
       "169218           <start> how would you like to pay <end>   \n",
       "133514                   <start> you are not bad at this   \n",
       "281720         <start> her brother goes to school by bus   \n",
       "157073                <start> i am so happy you are here   \n",
       "219338             <start> i should not have trusted tom   \n",
       "152154                  <start> he gave me several books   \n",
       "118314                    <start> can you take me to tom   \n",
       "222387               <start> right now people are scared   \n",
       "328200  <start> he did hard manual labor through the day   \n",
       "95552                       <start> that helped me a lot   \n",
       "\n",
       "                                           english_out  \n",
       "169218           how would you like to pay <end> <end>  \n",
       "133514                   you are not bad at this <end>  \n",
       "281720         her brother goes to school by bus <end>  \n",
       "157073                i am so happy you are here <end>  \n",
       "219338             i should not have trusted tom <end>  \n",
       "152154                  he gave me several books <end>  \n",
       "118314                    can you take me to tom <end>  \n",
       "222387               right now people are scared <end>  \n",
       "328200  he did hard manual labor through the day <end>  \n",
       "95552                       that helped me a lot <end>  "
      ]
     },
     "execution_count": 12,
     "metadata": {},
     "output_type": "execute_result"
    }
   ],
   "source": [
    "train.head(10)"
   ]
  },
  {
   "cell_type": "code",
   "execution_count": 13,
   "metadata": {
    "colab": {
     "base_uri": "https://localhost:8080/",
     "height": 542
    },
    "execution": {
     "iopub.execute_input": "2023-01-24T12:08:56.488291Z",
     "iopub.status.busy": "2023-01-24T12:08:56.487928Z",
     "iopub.status.idle": "2023-01-24T12:09:00.928535Z",
     "shell.execute_reply": "2023-01-24T12:09:00.927625Z",
     "shell.execute_reply.started": "2023-01-24T12:08:56.488260Z"
    },
    "id": "sjAkOfFf-y85",
    "outputId": "d1113257-0e6a-41c5-8553-aea83a92e3cb"
   },
   "outputs": [
    {
     "data": {
      "image/png": "[encoded data removed]",
      "text/plain": [
       "<Figure size 432x288 with 1 Axes>"
      ]
     },
     "metadata": {
      "needs_background": "light"
     },
     "output_type": "display_data"
    },
    {
     "data": {
      "image/png": "[encoded data removed]",
      "text/plain": [
       "<Figure size 432x288 with 1 Axes>"
      ]
     },
     "metadata": {
      "needs_background": "light"
     },
     "output_type": "display_data"
    }
   ],
   "source": [
    "ita_lengths = train['italian'].str.split().apply(len)\n",
    "eng_lengths = train['english_inp'].str.split().apply(len)\n",
    "import seaborn as sns\n",
    "sns.kdeplot(ita_lengths)\n",
    "plt.show()\n",
    "sns.kdeplot(eng_lengths)\n",
    "plt.show()"
   ]
  },
  {
   "cell_type": "markdown",
   "metadata": {
    "id": "S8RDrP4xKabR"
   },
   "source": [
    "## <font color='blue'>**Implement custom encoder decoder**</font>"
   ]
  },
  {
   "cell_type": "markdown",
   "metadata": {
    "id": "A45uc0JILMlV"
   },
   "source": [
    "<font color='blue'>**Encoder**</font>"
   ]
  },
  {
   "cell_type": "code",
   "execution_count": 14,
   "metadata": {
    "execution": {
     "iopub.execute_input": "2023-01-24T12:09:04.970864Z",
     "iopub.status.busy": "2023-01-24T12:09:04.970489Z",
     "iopub.status.idle": "2023-01-24T12:09:11.500268Z",
     "shell.execute_reply": "2023-01-24T12:09:11.499184Z",
     "shell.execute_reply.started": "2023-01-24T12:09:04.970833Z"
    },
    "id": "7T7ehBs--p_T"
   },
   "outputs": [],
   "source": [
    "tknizer_ita = Tokenizer()\n",
    "tknizer_ita.fit_on_texts(train['italian'].values)\n",
    "tknizer_eng = Tokenizer(filters='!\"#$%&()*+,-./:;=?@[\\\\]^_`{|}~\\t\\n')\n",
    "tknizer_eng.fit_on_texts(train['english_inp'].values)"
   ]
  },
  {
   "cell_type": "code",
   "execution_count": 15,
   "metadata": {
    "colab": {
     "base_uri": "https://localhost:8080/"
    },
    "execution": {
     "iopub.execute_input": "2023-01-24T12:09:11.502828Z",
     "iopub.status.busy": "2023-01-24T12:09:11.502375Z",
     "iopub.status.idle": "2023-01-24T12:09:11.509025Z",
     "shell.execute_reply": "2023-01-24T12:09:11.507872Z",
     "shell.execute_reply.started": "2023-01-24T12:09:11.502788Z"
    },
    "id": "Vac5X91s-sJr",
    "outputId": "fe32d55f-930b-4831-9279-452f30a107a8"
   },
   "outputs": [
    {
     "name": "stdout",
     "output_type": "stream",
     "text": [
      "13180\n",
      "26768\n"
     ]
    }
   ],
   "source": [
    "vocab_size_eng=len(tknizer_eng.word_index.keys())\n",
    "print(vocab_size_eng)\n",
    "vocab_size_ita=len(tknizer_ita.word_index.keys())\n",
    "print(vocab_size_ita)"
   ]
  },
  {
   "cell_type": "code",
   "execution_count": 16,
   "metadata": {
    "colab": {
     "base_uri": "https://localhost:8080/"
    },
    "execution": {
     "iopub.execute_input": "2023-01-24T12:09:11.511084Z",
     "iopub.status.busy": "2023-01-24T12:09:11.510732Z",
     "iopub.status.idle": "2023-01-24T12:09:11.522024Z",
     "shell.execute_reply": "2023-01-24T12:09:11.520855Z",
     "shell.execute_reply.started": "2023-01-24T12:09:11.511049Z"
    },
    "id": "b_cpMsdh-4a2",
    "outputId": "4d0ab9d4-ad72-42bf-b032-70ee3f143f7a"
   },
   "outputs": [
    {
     "data": {
      "text/plain": [
       "(1, 10409)"
      ]
     },
     "execution_count": 16,
     "metadata": {},
     "output_type": "execute_result"
    }
   ],
   "source": [
    "tknizer_eng.word_index['<start>'], tknizer_eng.word_index['<end>']"
   ]
  },
  {
   "cell_type": "code",
   "execution_count": 17,
   "metadata": {
    "execution": {
     "iopub.execute_input": "2023-01-24T12:09:11.525143Z",
     "iopub.status.busy": "2023-01-24T12:09:11.524800Z",
     "iopub.status.idle": "2023-01-24T12:09:19.038776Z",
     "shell.execute_reply": "2023-01-24T12:09:19.037602Z",
     "shell.execute_reply.started": "2023-01-24T12:09:11.525109Z"
    },
    "id": "k8Oe0mPE-Lrk"
   },
   "outputs": [],
   "source": [
    "embeddings_index = dict()\n",
    "f = open('glove.6B.100d.txt')\n",
    "for line in f:\n",
    "    values = line.split()\n",
    "    word = values[0]\n",
    "    coefs = np.asarray(values[1:], dtype='float32')\n",
    "    embeddings_index[word] = coefs\n",
    "f.close()\n",
    "\n",
    "embedding_matrix = np.zeros((vocab_size_eng+1, 100))\n",
    "for word, i in tknizer_eng.word_index.items():\n",
    "    embedding_vector = embeddings_index.get(word)\n",
    "    if embedding_vector is not None:\n",
    "        embedding_matrix[i] = embedding_vector"
   ]
  },
  {
   "cell_type": "code",
   "execution_count": 18,
   "metadata": {
    "execution": {
     "iopub.execute_input": "2023-01-24T12:09:19.041070Z",
     "iopub.status.busy": "2023-01-24T12:09:19.040780Z",
     "iopub.status.idle": "2023-01-24T12:09:19.051713Z",
     "shell.execute_reply": "2023-01-24T12:09:19.050653Z",
     "shell.execute_reply.started": "2023-01-24T12:09:19.041045Z"
    },
    "id": "f-sB5uEE-IMV"
   },
   "outputs": [],
   "source": [
    "class Encoder(tf.keras.Model):\n",
    "    '''\n",
    "    Encoder model -- That takes a input sequence and returns encoder-outputs,encoder_final_state_h,encoder_final_state_c\n",
    "    '''\n",
    "\n",
    "    def __init__(self, inp_vocab_size, embedding_size, lstm_size, input_length):\n",
    "        super().__init__()\n",
    "        self.vocab_size = inp_vocab_size\n",
    "        self.embedding_dim = embedding_size\n",
    "        self.lstm_size = lstm_size\n",
    "        self.input_length = input_length\n",
    "        self.lstm_output = 0\n",
    "        self.lstm_state_h=0\n",
    "        self.lstm_state_c=0\n",
    "\n",
    "    def build(self, input_shape):\n",
    "        self.embedding = Embedding(input_dim=self.vocab_size, output_dim=self.embedding_dim, input_length=self.input_length,\n",
    "                           mask_zero=True, name=\"embedding_layer_encoder\")\n",
    "        self.lstm = LSTM(self.lstm_size, return_state=True, return_sequences=True, name=\"Encoder_LSTM\")\n",
    "    \n",
    "    def call(self,input_sentances, states):\n",
    "        '''\n",
    "          This function takes a sequence input and the initial states of the encoder.\n",
    "          Pass the input_sequence input to the Embedding layer, Pass the embedding layer ouput to encoder_lstm\n",
    "          returns -- encoder_output, last time step's hidden and cell state\n",
    "        '''\n",
    "        input_embedd = self.embedding(input_sentances)\n",
    "        self.lstm_output, self.lstm_state_h,self.lstm_state_c = self.lstm(input_embedd)\n",
    "        \n",
    "        return self.lstm_output, self.lstm_state_h, self.lstm_state_c\n",
    "\n",
    "      \n",
    "\n",
    "    \n",
    "    def initialize_states(self,batch_size):\n",
    "        '''\n",
    "        Given a batch size it will return intial hidden state and intial cell state.\n",
    "        If batch size is 32- Hidden state is zeros of size [32,lstm_units], cell state zeros is of size [32,lstm_units]\n",
    "        '''\n",
    "        dim1 = tf.zeros(shape=[batch_size,self.lstm_size])\n",
    "        dim2 = tf.zeros(shape=[batch_size,self.lstm_size])\n",
    "\n",
    "        return [dim1, dim2]"
   ]
  },
  {
   "cell_type": "markdown",
   "metadata": {
    "id": "EtbOI3VwLOe0"
   },
   "source": [
    "<font color='orange'>**Grader function - 1**</font>"
   ]
  },
  {
   "cell_type": "code",
   "execution_count": 19,
   "metadata": {
    "colab": {
     "base_uri": "https://localhost:8080/"
    },
    "execution": {
     "iopub.execute_input": "2023-01-24T12:09:19.054185Z",
     "iopub.status.busy": "2023-01-24T12:09:19.053512Z",
     "iopub.status.idle": "2023-01-24T12:09:22.546383Z",
     "shell.execute_reply": "2023-01-24T12:09:22.545375Z",
     "shell.execute_reply.started": "2023-01-24T12:09:19.054149Z"
    },
    "id": "ziSqOgmhLOe1",
    "outputId": "2834e337-9196-463d-8748-b316757d576e"
   },
   "outputs": [
    {
     "name": "stderr",
     "output_type": "stream",
     "text": [
      "2023-01-24 12:09:19.137895: I tensorflow/stream_executor/cuda/cuda_gpu_executor.cc:937] successful NUMA node read from SysFS had negative value (-1), but there must be at least one NUMA node, so returning NUMA node zero\n",
      "2023-01-24 12:09:19.226777: I tensorflow/stream_executor/cuda/cuda_gpu_executor.cc:937] successful NUMA node read from SysFS had negative value (-1), but there must be at least one NUMA node, so returning NUMA node zero\n",
      "2023-01-24 12:09:19.227544: I tensorflow/stream_executor/cuda/cuda_gpu_executor.cc:937] successful NUMA node read from SysFS had negative value (-1), but there must be at least one NUMA node, so returning NUMA node zero\n",
      "2023-01-24 12:09:19.229290: I tensorflow/core/platform/cpu_feature_guard.cc:142] This TensorFlow binary is optimized with oneAPI Deep Neural Network Library (oneDNN) to use the following CPU instructions in performance-critical operations:  AVX2 AVX512F FMA\n",
      "To enable them in other operations, rebuild TensorFlow with the appropriate compiler flags.\n",
      "2023-01-24 12:09:19.229609: I tensorflow/stream_executor/cuda/cuda_gpu_executor.cc:937] successful NUMA node read from SysFS had negative value (-1), but there must be at least one NUMA node, so returning NUMA node zero\n",
      "2023-01-24 12:09:19.230337: I tensorflow/stream_executor/cuda/cuda_gpu_executor.cc:937] successful NUMA node read from SysFS had negative value (-1), but there must be at least one NUMA node, so returning NUMA node zero\n",
      "2023-01-24 12:09:19.230990: I tensorflow/stream_executor/cuda/cuda_gpu_executor.cc:937] successful NUMA node read from SysFS had negative value (-1), but there must be at least one NUMA node, so returning NUMA node zero\n",
      "2023-01-24 12:09:21.266310: I tensorflow/stream_executor/cuda/cuda_gpu_executor.cc:937] successful NUMA node read from SysFS had negative value (-1), but there must be at least one NUMA node, so returning NUMA node zero\n",
      "2023-01-24 12:09:21.267170: I tensorflow/stream_executor/cuda/cuda_gpu_executor.cc:937] successful NUMA node read from SysFS had negative value (-1), but there must be at least one NUMA node, so returning NUMA node zero\n",
      "2023-01-24 12:09:21.267847: I tensorflow/stream_executor/cuda/cuda_gpu_executor.cc:937] successful NUMA node read from SysFS had negative value (-1), but there must be at least one NUMA node, so returning NUMA node zero\n",
      "2023-01-24 12:09:21.268437: I tensorflow/core/common_runtime/gpu/gpu_device.cc:1510] Created device /job:localhost/replica:0/task:0/device:GPU:0 with 15401 MB memory:  -> device: 0, name: Tesla P100-PCIE-16GB, pci bus id: 0000:00:04.0, compute capability: 6.0\n"
     ]
    },
    {
     "name": "stdout",
     "output_type": "stream",
     "text": [
      "True\n"
     ]
    }
   ],
   "source": [
    "def grader_check_encoder():\n",
    "    '''\n",
    "        vocab-size: Unique words of the input language,\n",
    "        embedding_size: output embedding dimension for each word after embedding layer,\n",
    "        lstm_size: Number of lstm units,\n",
    "        input_length: Length of the input sentence,\n",
    "        batch_size\n",
    "    '''\n",
    "    vocab_size=10\n",
    "    embedding_size=20\n",
    "    lstm_size=32\n",
    "    input_length=10\n",
    "    batch_size=16\n",
    "    #Intialzing encoder \n",
    "    encoder=Encoder(vocab_size,embedding_size,lstm_size,input_length)\n",
    "    input_sequence=tf.random.uniform(shape=[batch_size,input_length],maxval=vocab_size,minval=0,dtype=tf.int32)\n",
    "    #Intializing encoder initial states\n",
    "    initial_state=encoder.initialize_states(batch_size)\n",
    "    \n",
    "    encoder_output,state_h,state_c=encoder(input_sequence,initial_state)\n",
    "    \n",
    "    assert(encoder_output.shape==(batch_size,input_length,lstm_size) and state_h.shape==(batch_size,lstm_size) and state_c.shape==(batch_size,lstm_size))\n",
    "    return True\n",
    "print(grader_check_encoder())"
   ]
  },
  {
   "cell_type": "code",
   "execution_count": 20,
   "metadata": {
    "execution": {
     "iopub.execute_input": "2023-01-24T12:09:28.141809Z",
     "iopub.status.busy": "2023-01-24T12:09:28.141145Z",
     "iopub.status.idle": "2023-01-24T12:09:28.149982Z",
     "shell.execute_reply": "2023-01-24T12:09:28.148804Z",
     "shell.execute_reply.started": "2023-01-24T12:09:28.141770Z"
    },
    "id": "S6fNro7E_5sD"
   },
   "outputs": [],
   "source": [
    "class Decoder(tf.keras.Model):\n",
    "    '''\n",
    "    Encoder model -- That takes a input sequence and returns output sequence\n",
    "    '''\n",
    "\n",
    "    def __init__(self, out_vocab_size, embedding_dim, lstm_size, input_length):\n",
    "        super().__init__()\n",
    "        self.vocab_size = out_vocab_size\n",
    "        self.embedding_dim = 100\n",
    "        self.dec_units = lstm_size\n",
    "        self.input_length = input_length\n",
    "        # we are using embedding_matrix and not training the embedding layer\n",
    "        self.embedding = Embedding(input_dim=self.vocab_size, output_dim=self.embedding_dim, input_length=self.input_length,\n",
    "                           mask_zero=True, name=\"embedding_layer_decoder\")\n",
    "        self.lstm = LSTM(self.dec_units, return_sequences=True, return_state=True, name=\"Encoder_LSTM\")\n",
    "        \n",
    "\n",
    "\n",
    "    def call(self, target_sentances, initial_state):\n",
    "        '''\n",
    "          This function takes a sequence input and the initial states of the encoder.\n",
    "          Pass the input_sequence input to the Embedding layer, Pass the embedding layer ouput to decoder_lstm\n",
    "        '''\n",
    "        target_embedd = self.embedding(target_sentances)\n",
    "        lstm_output, _,_ = self.lstm(target_embedd, initial_state)\n",
    "\n",
    "        return lstm_output, _, _"
   ]
  },
  {
   "cell_type": "markdown",
   "metadata": {
    "id": "Hq-I0SUbLOe8"
   },
   "source": [
    "<font color='orange'>**Grader function - 2**</font>"
   ]
  },
  {
   "cell_type": "code",
   "execution_count": 21,
   "metadata": {
    "colab": {
     "base_uri": "https://localhost:8080/"
    },
    "execution": {
     "iopub.execute_input": "2023-01-24T12:09:30.799802Z",
     "iopub.status.busy": "2023-01-24T12:09:30.799416Z",
     "iopub.status.idle": "2023-01-24T12:09:30.839686Z",
     "shell.execute_reply": "2023-01-24T12:09:30.838261Z",
     "shell.execute_reply.started": "2023-01-24T12:09:30.799769Z"
    },
    "id": "0B0gokgKLOe8",
    "outputId": "c0309af9-0a2a-467a-927e-7424b99069ef"
   },
   "outputs": [
    {
     "name": "stdout",
     "output_type": "stream",
     "text": [
      "True\n"
     ]
    }
   ],
   "source": [
    "def grader_decoder():\n",
    "    '''\n",
    "        out_vocab_size: Unique words of the target language,\n",
    "        embedding_size: output embedding dimension for each word after embedding layer,\n",
    "        dec_units: Number of lstm units in decoder,\n",
    "        input_length: Length of the input sentence,\n",
    "        batch_size\n",
    "        \n",
    "    \n",
    "    '''\n",
    "    out_vocab_size=13 \n",
    "    embedding_dim=12 \n",
    "    input_length=10\n",
    "    dec_units=16 \n",
    "    batch_size=32\n",
    "    \n",
    "    target_sentences=tf.random.uniform(shape=(batch_size,input_length),maxval=10,minval=0,dtype=tf.int32)\n",
    "    encoder_output=tf.random.uniform(shape=[batch_size,input_length,dec_units])\n",
    "    state_h=tf.random.uniform(shape=[batch_size,dec_units])\n",
    "    state_c=tf.random.uniform(shape=[batch_size,dec_units])\n",
    "    states=[state_h,state_c]\n",
    "    decoder=Decoder(out_vocab_size, embedding_dim, dec_units,input_length )\n",
    "    output,_,_=decoder(target_sentences, states)\n",
    "    assert(output.shape==(batch_size,input_length,dec_units))\n",
    "    return True\n",
    "print(grader_decoder())"
   ]
  },
  {
   "cell_type": "code",
   "execution_count": 22,
   "metadata": {
    "execution": {
     "iopub.execute_input": "2023-01-24T12:09:32.390246Z",
     "iopub.status.busy": "2023-01-24T12:09:32.389541Z",
     "iopub.status.idle": "2023-01-24T12:09:32.398502Z",
     "shell.execute_reply": "2023-01-24T12:09:32.397455Z",
     "shell.execute_reply.started": "2023-01-24T12:09:32.390207Z"
    },
    "id": "BXrIj4scLOe_"
   },
   "outputs": [],
   "source": [
    "class Encoder_decoder(tf.keras.Model):\n",
    "    \n",
    "    def __init__(self, encoder_inputs_length, decoder_inputs_length, output_vocab_size, batch_size):\n",
    "        super().__init__() # https://stackoverflow.com/a/27134600/4084039\n",
    "        self.encoder = Encoder(inp_vocab_size=vocab_size_ita+1, embedding_size=50, input_length=encoder_inputs_length, lstm_size=256)\n",
    "        self.decoder = Decoder(out_vocab_size=vocab_size_eng+1, embedding_dim=100, input_length=decoder_inputs_length, lstm_size=256)\n",
    "        self.dense   = Dense(output_vocab_size, activation='softmax')\n",
    "        self.initial_state = self.encoder.initialize_states(batch_size)\n",
    "\n",
    "\n",
    "    \n",
    "    def call(self,data):\n",
    "        '''\n",
    "        A. Pass the input sequence to Encoder layer -- Return encoder_output,encoder_final_state_h,encoder_final_state_c\n",
    "        B. Pass the target sequence to Decoder layer with intial states as encoder_final_state_h,encoder_final_state_C\n",
    "        C. Pass the decoder_outputs into Dense layer \n",
    "        \n",
    "        Return decoder_outputs\n",
    "        '''\n",
    "        input,output = data[0], data[1]\n",
    "        encoder_output, encoder_h, encoder_c = self.encoder(input, self.initial_state)\n",
    "        decoder_output, decoder_h, decoder_c = self.decoder(output, [encoder_h, encoder_c])\n",
    "        output = self.dense(decoder_output)\n",
    "        \n",
    "        return output\n",
    "        "
   ]
  },
  {
   "cell_type": "code",
   "execution_count": 23,
   "metadata": {
    "execution": {
     "iopub.execute_input": "2023-01-24T12:09:35.340723Z",
     "iopub.status.busy": "2023-01-24T12:09:35.340342Z",
     "iopub.status.idle": "2023-01-24T12:09:35.353624Z",
     "shell.execute_reply": "2023-01-24T12:09:35.352694Z",
     "shell.execute_reply.started": "2023-01-24T12:09:35.340669Z"
    },
    "id": "TGCD58nB-eCU"
   },
   "outputs": [],
   "source": [
    "class Dataset:\n",
    "    def __init__(self, data, tknizer_ita, tknizer_eng, max_len):\n",
    "        self.encoder_inps = data['italian'].values\n",
    "        self.decoder_inps = data['english_inp'].values\n",
    "        self.decoder_outs = data['english_out'].values\n",
    "        self.tknizer_eng = tknizer_eng\n",
    "        self.tknizer_ita = tknizer_ita\n",
    "        self.max_len = max_len\n",
    "\n",
    "    def __getitem__(self, i):\n",
    "        self.encoder_seq = self.tknizer_ita.texts_to_sequences([self.encoder_inps[i]]) # need to pass list of values\n",
    "        self.decoder_inp_seq = self.tknizer_eng.texts_to_sequences([self.decoder_inps[i]])\n",
    "        self.decoder_out_seq = self.tknizer_eng.texts_to_sequences([self.decoder_outs[i]])\n",
    "\n",
    "        self.encoder_seq = pad_sequences(self.encoder_seq, maxlen=self.max_len, dtype='int32', padding='post')\n",
    "        self.decoder_inp_seq = pad_sequences(self.decoder_inp_seq, maxlen=self.max_len, dtype='int32', padding='post')\n",
    "        self.decoder_out_seq = pad_sequences(self.decoder_out_seq, maxlen=self.max_len, dtype='int32', padding='post')\n",
    "        return self.encoder_seq, self.decoder_inp_seq, self.decoder_out_seq\n",
    "\n",
    "    def __len__(self): # your model.fit_gen requires this function\n",
    "        return len(self.encoder_inps)\n",
    "\n",
    "    \n",
    "class Dataloder(tf.keras.utils.Sequence):    \n",
    "    def __init__(self, dataset, batch_size=1):\n",
    "        self.dataset = dataset\n",
    "        self.batch_size = batch_size\n",
    "        self.indexes = np.arange(len(self.dataset.encoder_inps))\n",
    "\n",
    "\n",
    "    def __getitem__(self, i):\n",
    "        start = i * self.batch_size\n",
    "        stop = (i + 1) * self.batch_size\n",
    "        data = []\n",
    "        for j in range(start, stop):\n",
    "            data.append(self.dataset[j])\n",
    "\n",
    "        batch = [np.squeeze(np.stack(samples, axis=1), axis=0) for samples in zip(*data)]\n",
    "        # we are creating data like ([italian, english_inp], english_out) these are already converted into seq\n",
    "        return tuple([[batch[0],batch[1]],batch[2]])\n",
    "\n",
    "    def __len__(self):  # your model.fit_gen requires this function\n",
    "        return len(self.indexes) // self.batch_size\n",
    "\n",
    "    def on_epoch_end(self):\n",
    "        self.indexes = np.random.permutation(self.indexes)\n"
   ]
  },
  {
   "cell_type": "code",
   "execution_count": 24,
   "metadata": {
    "colab": {
     "base_uri": "https://localhost:8080/"
    },
    "execution": {
     "iopub.execute_input": "2023-01-24T12:09:38.217367Z",
     "iopub.status.busy": "2023-01-24T12:09:38.216997Z",
     "iopub.status.idle": "2023-01-24T12:09:38.501319Z",
     "shell.execute_reply": "2023-01-24T12:09:38.500084Z",
     "shell.execute_reply.started": "2023-01-24T12:09:38.217335Z"
    },
    "id": "vFlvl8On-gEk",
    "outputId": "a254809e-3b1a-4148-97da-dfb4d60c326f"
   },
   "outputs": [
    {
     "name": "stdout",
     "output_type": "stream",
     "text": [
      "(1024, 20) (1024, 20) (1024, 20)\n"
     ]
    }
   ],
   "source": [
    "train_dataset = Dataset(train, tknizer_ita, tknizer_eng, 20)\n",
    "test_dataset  = Dataset(validation, tknizer_ita, tknizer_eng, 20)\n",
    "\n",
    "train_dataloader = Dataloder(train_dataset, batch_size=1024)\n",
    "test_dataloader = Dataloder(test_dataset, batch_size=1024)\n",
    "\n",
    "\n",
    "print(train_dataloader[0][0][0].shape, train_dataloader[0][0][1].shape, train_dataloader[0][1].shape)"
   ]
  },
  {
   "cell_type": "code",
   "execution_count": 25,
   "metadata": {
    "colab": {
     "base_uri": "https://localhost:8080/"
    },
    "execution": {
     "iopub.execute_input": "2023-01-24T12:09:43.793379Z",
     "iopub.status.busy": "2023-01-24T12:09:43.793021Z",
     "iopub.status.idle": "2023-01-24T12:35:24.587598Z",
     "shell.execute_reply": "2023-01-24T12:35:24.586666Z",
     "shell.execute_reply.started": "2023-01-24T12:09:43.793349Z"
    },
    "id": "LOPM-5-KJVbE",
    "outputId": "d76a9240-5351-418d-b349-73f66bd2579c"
   },
   "outputs": [
    {
     "name": "stderr",
     "output_type": "stream",
     "text": [
      "2023-01-24 12:09:44.650348: I tensorflow/stream_executor/cuda/cuda_dnn.cc:369] Loaded cuDNN version 8005\n",
      "2023-01-24 12:09:44.995014: I tensorflow/compiler/mlir/mlir_graph_optimization_pass.cc:185] None of the MLIR Optimization Passes are enabled (registered 2)\n"
     ]
    },
    {
     "name": "stdout",
     "output_type": "stream",
     "text": [
      "Epoch 1/30\n",
      "279/279 [==============================] - 56s 177ms/step - loss: 1.8417 - val_loss: 1.6134\n",
      "Epoch 2/30\n",
      "279/279 [==============================] - 48s 172ms/step - loss: 1.5026 - val_loss: 1.3806\n",
      "Epoch 3/30\n",
      "279/279 [==============================] - 49s 176ms/step - loss: 1.2915 - val_loss: 1.2044\n",
      "Epoch 4/30\n",
      "279/279 [==============================] - 48s 172ms/step - loss: 1.1393 - val_loss: 1.0623\n",
      "Epoch 5/30\n",
      "279/279 [==============================] - 46s 164ms/step - loss: 1.0137 - val_loss: 0.9517\n",
      "Epoch 6/30\n",
      "279/279 [==============================] - 48s 172ms/step - loss: 0.9110 - val_loss: 0.8543\n",
      "Epoch 7/30\n",
      "279/279 [==============================] - 46s 164ms/step - loss: 0.8237 - val_loss: 0.7725\n",
      "Epoch 8/30\n",
      "279/279 [==============================] - 48s 172ms/step - loss: 0.7482 - val_loss: 0.7016\n",
      "Epoch 9/30\n",
      "279/279 [==============================] - 48s 171ms/step - loss: 0.6789 - val_loss: 0.6330\n",
      "Epoch 10/30\n",
      "279/279 [==============================] - 48s 171ms/step - loss: 0.6148 - val_loss: 0.5715\n",
      "Epoch 11/30\n",
      "279/279 [==============================] - 49s 174ms/step - loss: 0.5550 - val_loss: 0.5129\n",
      "Epoch 12/30\n",
      "279/279 [==============================] - 46s 163ms/step - loss: 0.5012 - val_loss: 0.4647\n",
      "Epoch 13/30\n",
      "279/279 [==============================] - 49s 174ms/step - loss: 0.4529 - val_loss: 0.4174\n",
      "Epoch 14/30\n",
      "279/279 [==============================] - 45s 162ms/step - loss: 0.4096 - val_loss: 0.3777\n",
      "Epoch 15/30\n",
      "279/279 [==============================] - 48s 172ms/step - loss: 0.3723 - val_loss: 0.3432\n",
      "Epoch 16/30\n",
      "279/279 [==============================] - 48s 172ms/step - loss: 0.3395 - val_loss: 0.3127\n",
      "Epoch 17/30\n",
      "279/279 [==============================] - 47s 169ms/step - loss: 0.3114 - val_loss: 0.2874\n",
      "Epoch 18/30\n",
      "279/279 [==============================] - 48s 172ms/step - loss: 0.2861 - val_loss: 0.2632\n",
      "Epoch 19/30\n",
      "279/279 [==============================] - 48s 172ms/step - loss: 0.2642 - val_loss: 0.2434\n",
      "Epoch 20/30\n",
      "279/279 [==============================] - 48s 171ms/step - loss: 0.2449 - val_loss: 0.2252\n",
      "Epoch 21/30\n",
      "279/279 [==============================] - 45s 160ms/step - loss: 0.2279 - val_loss: 0.2088\n",
      "Epoch 22/30\n",
      "279/279 [==============================] - 48s 170ms/step - loss: 0.2124 - val_loss: 0.1968\n",
      "Epoch 23/30\n",
      "279/279 [==============================] - 48s 172ms/step - loss: 0.1988 - val_loss: 0.1831\n",
      "Epoch 24/30\n",
      "279/279 [==============================] - 47s 170ms/step - loss: 0.1865 - val_loss: 0.1735\n",
      "Epoch 25/30\n",
      "279/279 [==============================] - 48s 171ms/step - loss: 0.1755 - val_loss: 0.1612\n",
      "Epoch 26/30\n",
      "279/279 [==============================] - 48s 173ms/step - loss: 0.1653 - val_loss: 0.1518\n",
      "Epoch 27/30\n",
      "279/279 [==============================] - 48s 171ms/step - loss: 0.1564 - val_loss: 0.1435\n",
      "Epoch 28/30\n",
      "279/279 [==============================] - 48s 171ms/step - loss: 0.1478 - val_loss: 0.1362\n",
      "Epoch 29/30\n",
      "279/279 [==============================] - 48s 171ms/step - loss: 0.1406 - val_loss: 0.1286\n",
      "Epoch 30/30\n",
      "279/279 [==============================] - 48s 171ms/step - loss: 0.1333 - val_loss: 0.1238\n"
     ]
    },
    {
     "data": {
      "text/plain": [
       "<keras.callbacks.History at 0x7f4b52c39f50>"
      ]
     },
     "execution_count": 25,
     "metadata": {},
     "output_type": "execute_result"
    }
   ],
   "source": [
    "model  = Encoder_decoder(encoder_inputs_length=20, decoder_inputs_length=20, output_vocab_size=vocab_size_eng, batch_size=1024)\n",
    "optimizer = tf.keras.optimizers.Adam()\n",
    "model.compile(optimizer=optimizer,loss='sparse_categorical_crossentropy')\n",
    "\n",
    "train_steps=train.shape[0]//1024\n",
    "valid_steps=validation.shape[0]//1024\n",
    "\n",
    "model.fit(train_dataloader, steps_per_epoch=train_steps, epochs=30, validation_data=train_dataloader, validation_steps=valid_steps)"
   ]
  },
  {
   "cell_type": "code",
   "execution_count": 26,
   "metadata": {
    "colab": {
     "base_uri": "https://localhost:8080/"
    },
    "execution": {
     "iopub.execute_input": "2023-01-24T12:35:24.590263Z",
     "iopub.status.busy": "2023-01-24T12:35:24.589436Z",
     "iopub.status.idle": "2023-01-24T12:35:24.596655Z",
     "shell.execute_reply": "2023-01-24T12:35:24.595733Z",
     "shell.execute_reply.started": "2023-01-24T12:35:24.590221Z"
    },
    "id": "GnQcAMhrpDj2",
    "outputId": "05d224da-bfd3-446c-85e2-b4f1923f27a2"
   },
   "outputs": [
    {
     "name": "stdout",
     "output_type": "stream",
     "text": [
      "Model: \"encoder_decoder\"\n",
      "_________________________________________________________________\n",
      "Layer (type)                 Output Shape              Param #   \n",
      "=================================================================\n",
      "encoder_1 (Encoder)          multiple                  1652818   \n",
      "_________________________________________________________________\n",
      "decoder_1 (Decoder)          multiple                  1683668   \n",
      "_________________________________________________________________\n",
      "dense (Dense)                multiple                  3387260   \n",
      "=================================================================\n",
      "Total params: 6,723,746\n",
      "Trainable params: 6,723,746\n",
      "Non-trainable params: 0\n",
      "_________________________________________________________________\n"
     ]
    }
   ],
   "source": [
    "model.summary()"
   ]
  },
  {
   "cell_type": "code",
   "execution_count": 27,
   "metadata": {
    "execution": {
     "iopub.execute_input": "2023-01-24T12:35:42.812815Z",
     "iopub.status.busy": "2023-01-24T12:35:42.812434Z",
     "iopub.status.idle": "2023-01-24T12:35:42.821401Z",
     "shell.execute_reply": "2023-01-24T12:35:42.820394Z",
     "shell.execute_reply.started": "2023-01-24T12:35:42.812782Z"
    },
    "id": "hKJP9CkHthjF"
   },
   "outputs": [],
   "source": [
    "# ref.: https://github.com/AbhijeetWaghchaure/NLP-Attention-Mechanism/blob/ \n",
    "def predict(input_sentence):\n",
    "    token = tknizer_ita.texts_to_sequences([input_sentence])\n",
    "    pad = pad_sequences(token, maxlen=20, padding='post', truncating='post', dtype='int32')\n",
    "    embedd = model.layers[0].embedding(pad)\n",
    "    encoder_ouput, encoder_state_h, encoder_state_c = model.layers[0].lstm(embedd)\n",
    "    init_idx = tknizer_eng.word_index['<start>']\n",
    "    init_idx = np.reshape(init_idx, (1,1))\n",
    "    res = np.zeros((20,20))\n",
    "    \n",
    "    pred_sent = []\n",
    "    for i in range(20):\n",
    "        decoder_output, decoder_state_h, decoder_state_c = model.layers[1](init_idx, [encoder_state_h, encoder_state_c])\n",
    "        output = model.layers[2](decoder_output)\n",
    "        encoder_state_h = decoder_state_h\n",
    "        encoder_state_c = decoder_state_c\n",
    "        output_idx = np.argmax(output)\n",
    "        init_idxs = np.reshape(output_idx,(1,1))\n",
    "        pred_sent.append(tknizer_eng.index_word[output_idx])\n",
    "        if tknizer_eng.index_word[output_idx]=='<end>':\n",
    "            break\n",
    "    return ' '.join(pred_sent)  "
   ]
  },
  {
   "cell_type": "code",
   "execution_count": 28,
   "metadata": {
    "colab": {
     "base_uri": "https://localhost:8080/"
    },
    "execution": {
     "iopub.execute_input": "2023-01-24T12:36:33.656866Z",
     "iopub.status.busy": "2023-01-24T12:36:33.656495Z",
     "iopub.status.idle": "2023-01-24T12:37:01.985303Z",
     "shell.execute_reply": "2023-01-24T12:37:01.984354Z",
     "shell.execute_reply.started": "2023-01-24T12:36:33.656836Z"
    },
    "id": "WP3A7cr3_OCd",
    "outputId": "4d27ce85-a939-4a49-8f4b-27545813c0d7"
   },
   "outputs": [
    {
     "name": "stdout",
     "output_type": "stream",
     "text": [
      "Bleu Score: 1.60834302473003e-231\n"
     ]
    }
   ],
   "source": [
    "from nltk.translate.bleu_score import sentence_bleu\n",
    "italian = validation['italian'].values[0:1000]\n",
    "english = validation['english_out'].values[0:1000]\n",
    "bleu_score = []\n",
    "\n",
    "for i in range(1000):    \n",
    "    pred = predict(italian[i])\n",
    "    bleu_score.append(sentence_bleu(english[i], pred))\n",
    "    \n",
    "print('Bleu Score:', np.average(bleu_score))"
   ]
  },
  {
   "cell_type": "markdown",
   "metadata": {
    "id": "CxWFDxZXLOfJ"
   },
   "source": [
    " "
   ]
  },
  {
   "cell_type": "markdown",
   "metadata": {
    "id": "yZhX3K9GLOfJ"
   },
   "source": [
    "## Task -2: Including Attention mechanisum"
   ]
  },
  {
   "cell_type": "markdown",
   "metadata": {
    "id": "Q3d7GeBMGbsJ"
   },
   "source": [
    "1. Use the preprocessed data from Task-1\n",
    "\n",
    "2. You have to implement an Encoder and Decoder architecture with  \n",
    "attention as discussed in the reference notebook.\n",
    "\n",
    "    * Encoder   - with 1 layer LSTM <br>\n",
    "    * Decoder   - with 1 layer LSTM<br>\n",
    "    * attention -  (Please refer the <a href= 'https://drive.google.com/file/d/1z_bnc-3aubKawbR6q8wyI6Mh5ho2R1aZ/view?usp=sharing'>**reference notebook**</a> to know more about the attention mechanism.)\n",
    "3. In Global attention, we have 3 types of scoring functions(as discussed in the reference notebook).\n",
    " As a part of this assignment **you need to create 3 models for each scoring function**\n",
    "<img src='https://i.imgur.com/iD2jZo3.png'>\n",
    "\n",
    "    * In model 1 you need to implemnt \"dot\" score function\n",
    "    * In model 2 you need to implemnt \"general\" score function\n",
    "    * In model 3 you need to implemnt \"concat\" score function.<br>\n",
    "    \n",
    " **Please do add the markdown titles for each model so that we can have a better look at the code and verify.**\n",
    "4. It is mandatory to train the model with simple model.fit() only, Donot train the model with custom GradientTape()\n",
    "\n",
    "5. Using attention weights, you can plot the attention plots, \n",
    "please plot those for 2-3 examples. You can check about those in <a href=\"https://www.tensorflow.org/tutorials/text/nmt_with_attention#translate\">this</a>\n",
    "\n",
    "6. The attention layer has to be written by yourself only. \n",
    "The main objective of this assignment is to read and implement a paper on yourself so please do it yourself.  \n",
    "\n",
    "7. Please implement the class **onestepdecoder** as mentioned in the assignment instructions.\n",
    "\n",
    "8. You can use any tf.Keras highlevel API's to build and train the models. \n",
    " Check the reference notebook for better understanding.\n",
    "\n",
    "9. Use BLEU score as metric to evaluate your model. You can use any loss function you need.\n",
    "\n",
    "10. You have to use Tensorboard to plot the Graph, Scores and histograms of gradients. \n",
    "\n",
    "11. Resources:\n",
    "    a. Check the reference notebook\n",
    "    b. <a href=\"https://jalammar.github.io/visualizing-neural-machine-translation-mechanics-of-seq2seq-models-with-attention/\">Resource 1</a>\n",
    "    c. <a href=\"https://www.tensorflow.org/tutorials/text/nmt_with_attention\">Resource 2</a>\n",
    "    d. <a href=\"https://stackoverflow.com/questions/44238154/what-is-the-difference-between-luong-attention-and-bahdanau-attention#:~:text=Luong%20attention%20used%20top%20hidden,hidden%20state%20at%20time%20t.\">Resource 3</a>\n",
    "    "
   ]
  },
  {
   "cell_type": "markdown",
   "metadata": {
    "id": "PU4KIsGxLOfK"
   },
   "source": [
    "### <font color='blue'>**Implement custom encoder decoder and attention layers**</font>"
   ]
  },
  {
   "cell_type": "markdown",
   "metadata": {
    "id": "TMm3ADQDLOfK"
   },
   "source": [
    "<font color='blue'>**Encoder**</font>"
   ]
  },
  {
   "cell_type": "code",
   "execution_count": 29,
   "metadata": {
    "execution": {
     "iopub.execute_input": "2023-01-24T12:37:15.030742Z",
     "iopub.status.busy": "2023-01-24T12:37:15.030311Z",
     "iopub.status.idle": "2023-01-24T12:37:15.042579Z",
     "shell.execute_reply": "2023-01-24T12:37:15.041396Z",
     "shell.execute_reply.started": "2023-01-24T12:37:15.030707Z"
    },
    "id": "cdVfhBgmZoaf"
   },
   "outputs": [],
   "source": [
    "class Encoder(tf.keras.Model):\n",
    "    '''\n",
    "    Encoder model -- That takes a input sequence and returns encoder-outputs,encoder_final_state_h,encoder_final_state_c\n",
    "    '''\n",
    "    def __init__(self, inp_vocab_size, embedding_size, lstm_size, input_length):\n",
    "        super().__init__()\n",
    "        self.vocab_size = inp_vocab_size\n",
    "        self.embedding_dim = embedding_size\n",
    "        self.lstm_size = lstm_size\n",
    "        self.input_length = input_length\n",
    "        self.lstm_output = 0\n",
    "        self.lstm_state_h=0\n",
    "        self.lstm_state_c=0\n",
    "\n",
    "    def build(self, input_shape):\n",
    "        self.embedding = Embedding(input_dim=self.vocab_size, output_dim=self.embedding_dim, input_length=self.input_length,\n",
    "                           mask_zero=True, name=\"embedding_layer_encoder\")\n",
    "        self.lstm = LSTM(self.lstm_size, return_state=True, return_sequences=True, name=\"Encoder_LSTM\")\n",
    "    \n",
    "    def call(self,input_sentances, states):\n",
    "        '''\n",
    "          This function takes a sequence input and the initial states of the encoder.\n",
    "          Pass the input_sequence input to the Embedding layer, Pass the embedding layer ouput to encoder_lstm\n",
    "          returns -- encoder_output, last time step's hidden and cell state\n",
    "        '''\n",
    "        input_embedd = self.embedding(input_sentances)\n",
    "        self.lstm_output, self.lstm_state_h,self.lstm_state_c = self.lstm(input_embedd)\n",
    "        \n",
    "        return self.lstm_output, self.lstm_state_h, self.lstm_state_c\n",
    "\n",
    "      \n",
    "\n",
    "    \n",
    "    def initialize_states(self,batch_size):\n",
    "      '''\n",
    "      Given a batch size it will return intial hidden state and intial cell state.\n",
    "      If batch size is 32- Hidden state is zeros of size [32,lstm_units], cell state zeros is of size [32,lstm_units]\n",
    "      '''\n",
    "      return [tf.zeros((batch_size, self.lstm_size)), tf.zeros((batch_size, self.lstm_size))]\n"
   ]
  },
  {
   "cell_type": "markdown",
   "metadata": {
    "id": "4ub9aN-hK244"
   },
   "source": [
    "<font color='cyan'>**Grader function - 1**</font>"
   ]
  },
  {
   "cell_type": "code",
   "execution_count": 30,
   "metadata": {
    "colab": {
     "base_uri": "https://localhost:8080/"
    },
    "execution": {
     "iopub.execute_input": "2023-01-24T12:37:18.109428Z",
     "iopub.status.busy": "2023-01-24T12:37:18.109060Z",
     "iopub.status.idle": "2023-01-24T12:37:18.148611Z",
     "shell.execute_reply": "2023-01-24T12:37:18.147614Z",
     "shell.execute_reply.started": "2023-01-24T12:37:18.109397Z"
    },
    "id": "wRoe65b9LB0D",
    "outputId": "e4e8b881-da93-4c48-aa18-03ebccd7691f"
   },
   "outputs": [
    {
     "name": "stdout",
     "output_type": "stream",
     "text": [
      "True\n"
     ]
    }
   ],
   "source": [
    "def grader_check_encoder():\n",
    "    \n",
    "    '''\n",
    "        vocab-size: Unique words of the input language,\n",
    "        embedding_size: output embedding dimension for each word after embedding layer,\n",
    "        lstm_size: Number of lstm units in encoder,\n",
    "        input_length: Length of the input sentence,\n",
    "        batch_size\n",
    "    '''\n",
    "    \n",
    "    vocab_size=10\n",
    "    embedding_size=20\n",
    "    lstm_size=32\n",
    "    input_length=10\n",
    "    batch_size=16\n",
    "    encoder=Encoder(vocab_size,embedding_size,lstm_size,input_length)\n",
    "    input_sequence=tf.random.uniform(shape=[batch_size,input_length],maxval=vocab_size,minval=0,dtype=tf.int32)\n",
    "    initial_state=encoder.initialize_states(batch_size)\n",
    "    encoder_output,state_h,state_c=encoder(input_sequence,initial_state)\n",
    "    \n",
    "    assert(encoder_output.shape==(batch_size,input_length,lstm_size) and state_h.shape==(batch_size,lstm_size) and state_c.shape==(batch_size,lstm_size))\n",
    "    return True\n",
    "print(grader_check_encoder())"
   ]
  },
  {
   "cell_type": "markdown",
   "metadata": {
    "id": "lXn278lhLYRM"
   },
   "source": [
    "<font color='blue'>**Attention**</font>"
   ]
  },
  {
   "cell_type": "code",
   "execution_count": 35,
   "metadata": {
    "execution": {
     "iopub.execute_input": "2023-01-24T12:44:33.448496Z",
     "iopub.status.busy": "2023-01-24T12:44:33.448146Z",
     "iopub.status.idle": "2023-01-24T12:44:33.459108Z",
     "shell.execute_reply": "2023-01-24T12:44:33.458126Z",
     "shell.execute_reply.started": "2023-01-24T12:44:33.448467Z"
    },
    "id": "jFoDGWQLxE81"
   },
   "outputs": [],
   "source": [
    "# ref.: https://vineethaswani2.medium.com/spelling-error-correction-7154f781354c\n",
    "from tensorflow.keras.layers import Dot\n",
    "class Attention(tf.keras.layers.Layer):\n",
    "    '''\n",
    "      Class the calculates score based on the scoring_function using Bahdanu attention mechanism.\n",
    "    '''\n",
    "    def __init__(self,scoring_function, att_units):\n",
    "        super().__init__()\n",
    "        self.scoring_function = scoring_function\n",
    "\n",
    "        if self.scoring_function=='dot':\n",
    "            self.dot = Dot(axes = (1, 2))\n",
    "      \n",
    "        if scoring_function == 'general':\n",
    "            self.dense_1 = Dense(att_units)\n",
    "            self.dot = Dot(axes = (1, 2))\n",
    "      \n",
    "        elif scoring_function == 'concat':\n",
    "            self.dense_2 = Dense(att_units)\n",
    "            self.dense_3 = Dense(att_units)\n",
    "            self.dense_4 = Dense(1)\n",
    "    \n",
    "    \n",
    "    def call(self,decoder_hidden_state,encoder_output):\n",
    "        \n",
    "        decoder_hidden_state = tf.expand_dims(decoder_hidden_state, 1)\n",
    "        \n",
    "        if self.scoring_function == 'dot':\n",
    "            res = tf.transpose(self.dot([tf.transpose(decoder_hidden_state, (0, 2, 1)), encoder_output]), (0, 2,1))\n",
    "\n",
    "        elif self.scoring_function == 'general':\n",
    "            mul = self.dense_1(encoder_output)\n",
    "            res = tf.transpose(self.dot([tf.transpose(decoder_hidden_state, (0, 2, 1)), mul]), (0, 2,1))\n",
    "      \n",
    "        elif self.scoring_function == 'concat':\n",
    "            i = self.dense_2(decoder_hidden_state) + self.dense_3(encoder_output)\n",
    "            act = tf.nn.tanh(i)\n",
    "            res = self.dense_4(act)\n",
    "      \n",
    "        weights = tf.nn.softmax(res, axis =1)\n",
    "        con_vector = weights * encoder_output\n",
    "        con_vector = tf.reduce_sum(con_vector, axis=1)\n",
    "        \n",
    "        return con_vector, weights"
   ]
  },
  {
   "cell_type": "markdown",
   "metadata": {
    "id": "ExQDlxI9LuqK"
   },
   "source": [
    "<font color='cyan'>**Grader function - 2**</font>"
   ]
  },
  {
   "cell_type": "code",
   "execution_count": 36,
   "metadata": {
    "colab": {
     "base_uri": "https://localhost:8080/"
    },
    "execution": {
     "iopub.execute_input": "2023-01-24T12:44:36.737077Z",
     "iopub.status.busy": "2023-01-24T12:44:36.736387Z",
     "iopub.status.idle": "2023-01-24T12:44:36.773824Z",
     "shell.execute_reply": "2023-01-24T12:44:36.772740Z",
     "shell.execute_reply.started": "2023-01-24T12:44:36.737041Z"
    },
    "id": "51x50h_TLrl9",
    "outputId": "2e472142-ec90-4499-f0d8-6382062dce84"
   },
   "outputs": [
    {
     "name": "stdout",
     "output_type": "stream",
     "text": [
      "True\n",
      "True\n",
      "True\n"
     ]
    }
   ],
   "source": [
    "def grader_check_attention(scoring_fun):\n",
    "    \n",
    "    ''' \n",
    "        att_units: Used in matrix multiplications for scoring functions,\n",
    "        input_length: Length of the input sentence,\n",
    "        batch_size\n",
    "    '''\n",
    "    \n",
    "    input_length=10\n",
    "    batch_size=16\n",
    "    att_units=32\n",
    "    \n",
    "    state_h=tf.random.uniform(shape=[batch_size,att_units])\n",
    "    encoder_output=tf.random.uniform(shape=[batch_size,input_length,att_units])\n",
    "    attention=Attention(scoring_fun,att_units)\n",
    "    context_vector,attention_weights=attention(state_h,encoder_output)\n",
    "    assert(context_vector.shape==(batch_size,att_units) and attention_weights.shape==(batch_size,input_length,1))\n",
    "    return True\n",
    "print(grader_check_attention('dot'))\n",
    "print(grader_check_attention('general'))\n",
    "print(grader_check_attention('concat'))"
   ]
  },
  {
   "cell_type": "markdown",
   "metadata": {
    "id": "ic-FNEbfL2DN"
   },
   "source": [
    "<font color='blue'>**OneStepDecoder**</font>"
   ]
  },
  {
   "cell_type": "code",
   "execution_count": 37,
   "metadata": {
    "execution": {
     "iopub.execute_input": "2023-01-24T12:44:48.978769Z",
     "iopub.status.busy": "2023-01-24T12:44:48.978362Z",
     "iopub.status.idle": "2023-01-24T12:44:48.988444Z",
     "shell.execute_reply": "2023-01-24T12:44:48.987520Z",
     "shell.execute_reply.started": "2023-01-24T12:44:48.978734Z"
    },
    "id": "r8QqGj6MnO90"
   },
   "outputs": [],
   "source": [
    "class One_Step_Decoder(tf.keras.Model):\n",
    "    def __init__(self,tar_vocab_size, embedding_dim, input_length, dec_units ,score_fun ,att_units):\n",
    "        super().__init__()\n",
    "        self.embed_decoder = Embedding(input_dim = tar_vocab_size, output_dim = embedding_dim)\n",
    "        self.lstm = LSTM(dec_units, return_sequences = True, return_state = True)\n",
    "        self.attention = Attention(scoring_function = score_fun, att_units = att_units)\n",
    "        self.fc = Dense(tar_vocab_size)\n",
    "\n",
    "\n",
    "    def call(self,input_to_decoder, encoder_output, state_h,state_c):\n",
    "        embedding = self.embed_decoder(input_to_decoder)\n",
    "        con_vector, weights = self.attention(state_h, encoder_output)    \n",
    "        input = tf.concat([tf.expand_dims(con_vector, 1), embedding], axis = -1)\n",
    "        res, decoder_h, decoder_c = self.lstm(input, [state_h, state_c])\n",
    "        res = tf.reshape(res, (-1, res.shape[2]))\n",
    "        output = self.fc(res)\n",
    "        return output, decoder_h, decoder_c, weights, con_vector\n"
   ]
  },
  {
   "cell_type": "markdown",
   "metadata": {
    "id": "R_I8I4EIMAXq"
   },
   "source": [
    "<font color='cyan'>**Grader function - 3**</font>"
   ]
  },
  {
   "cell_type": "code",
   "execution_count": 38,
   "metadata": {
    "colab": {
     "base_uri": "https://localhost:8080/"
    },
    "execution": {
     "iopub.execute_input": "2023-01-24T12:44:52.196574Z",
     "iopub.status.busy": "2023-01-24T12:44:52.196225Z",
     "iopub.status.idle": "2023-01-24T12:44:52.278859Z",
     "shell.execute_reply": "2023-01-24T12:44:52.277750Z",
     "shell.execute_reply.started": "2023-01-24T12:44:52.196544Z"
    },
    "id": "uLEXhChnMC1k",
    "outputId": "32a48db4-6f79-4846-fbc5-946761426261"
   },
   "outputs": [
    {
     "name": "stdout",
     "output_type": "stream",
     "text": [
      "True\n",
      "True\n",
      "True\n"
     ]
    }
   ],
   "source": [
    "def grader_onestepdecoder(score_fun):\n",
    "    \n",
    "    '''\n",
    "        tar_vocab_size: Unique words of the target language,\n",
    "        embedding_dim: output embedding dimension for each word after embedding layer,\n",
    "        dec_units: Number of lstm units in decoder,\n",
    "        att_units: Used in matrix multiplications for scoring functions in attention class,\n",
    "        input_length: Length of the target sentence,\n",
    "        batch_size\n",
    "        \n",
    "    \n",
    "    '''\n",
    "    \n",
    "    tar_vocab_size=13 \n",
    "    embedding_dim=12 \n",
    "    input_length=10\n",
    "    dec_units=16 \n",
    "    att_units=16\n",
    "    batch_size=32\n",
    "    onestepdecoder=OneStepDecoder(tar_vocab_size, embedding_dim, input_length, dec_units ,score_fun ,att_units)\n",
    "    input_to_decoder=tf.random.uniform(shape=(batch_size,1),maxval=10,minval=0,dtype=tf.int32)\n",
    "    encoder_output=tf.random.uniform(shape=[batch_size,input_length,dec_units])\n",
    "    state_h=tf.random.uniform(shape=[batch_size,dec_units])\n",
    "    state_c=tf.random.uniform(shape=[batch_size,dec_units])\n",
    "    output,state_h,state_c,attention_weights,context_vector=onestepdecoder(input_to_decoder,encoder_output,state_h,state_c)\n",
    "    assert(output.shape==(batch_size,tar_vocab_size))\n",
    "    assert(state_h.shape==(batch_size,dec_units))\n",
    "    assert(state_c.shape==(batch_size,dec_units))\n",
    "    assert(attention_weights.shape==(batch_size,input_length,1))\n",
    "    assert(context_vector.shape==(batch_size,dec_units))\n",
    "    return True\n",
    "    \n",
    "print(grader_onestepdecoder('dot'))\n",
    "print(grader_onestepdecoder('general'))\n",
    "print(grader_onestepdecoder('concat'))\n",
    "    "
   ]
  },
  {
   "cell_type": "markdown",
   "metadata": {
    "id": "6FHrurjUMGAi"
   },
   "source": [
    "<font color='blue'>**Decoder**</font>"
   ]
  },
  {
   "cell_type": "code",
   "execution_count": 39,
   "metadata": {
    "execution": {
     "iopub.execute_input": "2023-01-24T12:44:56.306458Z",
     "iopub.status.busy": "2023-01-24T12:44:56.306112Z",
     "iopub.status.idle": "2023-01-24T12:44:56.316800Z",
     "shell.execute_reply": "2023-01-24T12:44:56.315613Z",
     "shell.execute_reply.started": "2023-01-24T12:44:56.306428Z"
    },
    "id": "syrQHkPtq0bs"
   },
   "outputs": [],
   "source": [
    "class Decoder(tf.keras.Model):\n",
    "    def __init__(self,out_vocab_size, embedding_dim, input_length, dec_units ,score_fun ,att_units):\n",
    "        super().__init__()\n",
    "        self.vocab_size = out_vocab_size\n",
    "        self.embedding_dim = embedding_dim\n",
    "        self.input_length = input_length\n",
    "        self.dec_units = dec_units\n",
    "        self.score_fun = score_fun\n",
    "        self.att_units = att_units\n",
    "        self.onestep_decoder = One_Step_Decoder(self.vocab_size, self.embedding_dim, self.input_length, self.dec_units, self.score_fun, self.att_units)\n",
    "\n",
    "        \n",
    "    def call(self, input_to_decoder,encoder_output,decoder_hidden_state,decoder_cell_state ):\n",
    "\n",
    "        #Initialize an empty Tensor array, that will store the outputs at each and every time step\n",
    "        array = tf.TensorArray(dtype = tf.float32, size= len(input_to_decoder[0]), name='tensor decoder')\n",
    "\n",
    "        #Iterate till the length of the decoder input\n",
    "        for i in range(input_to_decoder.shape[1]):\n",
    "            output, decoder_hidden_state, decoder_cell_state, _, _ = self.onestep_decoder(input_to_decoder[:,i:i+1],encoder_output, decoder_hidden_state, decoder_cell_state)\n",
    "            array = array.write(i, output)\n",
    "        \n",
    "        array = tf.transpose(array.stack(),(1,0,2))\n",
    "        \n",
    "        # Return the tensor array\n",
    "        return array"
   ]
  },
  {
   "cell_type": "markdown",
   "metadata": {
    "id": "FxrL-P8bMJH6"
   },
   "source": [
    "<font color='cyan'>**Grader function - 4**</font>"
   ]
  },
  {
   "cell_type": "code",
   "execution_count": 40,
   "metadata": {
    "colab": {
     "base_uri": "https://localhost:8080/"
    },
    "execution": {
     "iopub.execute_input": "2023-01-24T12:45:00.599868Z",
     "iopub.status.busy": "2023-01-24T12:45:00.599496Z",
     "iopub.status.idle": "2023-01-24T12:45:00.875404Z",
     "shell.execute_reply": "2023-01-24T12:45:00.874348Z",
     "shell.execute_reply.started": "2023-01-24T12:45:00.599837Z"
    },
    "id": "rtbx6onFMJXb",
    "outputId": "2ec7beb9-9d26-4d49-8f80-f4c938fd2dca"
   },
   "outputs": [
    {
     "name": "stdout",
     "output_type": "stream",
     "text": [
      "True\n",
      "True\n",
      "True\n"
     ]
    }
   ],
   "source": [
    "def grader_decoder(score_fun):\n",
    "    \n",
    "    '''\n",
    "        out_vocab_size: Unique words of the target language,\n",
    "        embedding_dim: output embedding dimension for each word after embedding layer,\n",
    "        dec_units: Number of lstm units in decoder,\n",
    "        att_units: Used in matrix multiplications for scoring functions in attention class,\n",
    "        input_length: Length of the target sentence,\n",
    "        batch_size\n",
    "        \n",
    "    \n",
    "    '''\n",
    "    \n",
    "    out_vocab_size=13 \n",
    "    embedding_dim=12 \n",
    "    input_length=11\n",
    "    dec_units=16 \n",
    "    att_units=16\n",
    "    batch_size=32\n",
    "    \n",
    "    target_sentences=tf.random.uniform(shape=(batch_size,input_length),maxval=10,minval=0,dtype=tf.int32)\n",
    "    encoder_output=tf.random.uniform(shape=[batch_size,input_length,dec_units])\n",
    "    state_h=tf.random.uniform(shape=[batch_size,dec_units])\n",
    "    state_c=tf.random.uniform(shape=[batch_size,dec_units])\n",
    "    \n",
    "    decoder=Decoder(out_vocab_size, embedding_dim, input_length, dec_units ,score_fun ,att_units)\n",
    "    output=decoder(target_sentences,encoder_output, state_h, state_c)\n",
    "    assert(output.shape==(batch_size,input_length,out_vocab_size))\n",
    "    return True\n",
    "print(grader_decoder('dot'))\n",
    "print(grader_decoder('general'))\n",
    "print(grader_decoder('concat'))"
   ]
  },
  {
   "cell_type": "markdown",
   "metadata": {
    "id": "fC1T1EOoMTqC"
   },
   "source": [
    "<font color='blue'>**Encoder Decoder model**</font>"
   ]
  },
  {
   "cell_type": "code",
   "execution_count": 46,
   "metadata": {
    "execution": {
     "iopub.execute_input": "2023-01-24T12:47:20.624668Z",
     "iopub.status.busy": "2023-01-24T12:47:20.624309Z",
     "iopub.status.idle": "2023-01-24T12:47:20.632827Z",
     "shell.execute_reply": "2023-01-24T12:47:20.631814Z",
     "shell.execute_reply.started": "2023-01-24T12:47:20.624636Z"
    },
    "id": "4jpfikYfZkaj"
   },
   "outputs": [],
   "source": [
    "class Encoder_decoder(tf.keras.Model):\n",
    "    \n",
    "    def __init__(self, inp_length ,out_length, batch_size, att_units, score):\n",
    "        super().__init__() # https://stackoverflow.com/a/27134600/4084039\n",
    "        self.inp_length = inp_length\n",
    "        self.out_length = out_length\n",
    "        self.batch_size = batch_size\n",
    "        self.att_units = att_units\n",
    "        self.score = score\n",
    "        \n",
    "        self.encoder = Encoder(inp_vocab_size=vocab_size_ita+1, embedding_size=50, lstm_size=256, input_length=inp_length)\n",
    "        self.decoder = Decoder(out_vocab_size=vocab_size_eng+1,embedding_dim=100, input_length=self.out_length, dec_units=256, score_fun=self.score ,att_units=self.att_units)\n",
    "        self.initial_state = self.encoder.initialize_states(self.batch_size)\n",
    "\n",
    "\n",
    "    \n",
    "    def call(self,data):\n",
    "        '''\n",
    "        A. Pass the input sequence to Encoder layer -- Return encoder_output,encoder_final_state_h,encoder_final_state_c\n",
    "        B. Pass the target sequence to Decoder layer with intial states as encoder_final_state_h,encoder_final_state_C\n",
    "        C. Pass the decoder_outputs into Dense layer \n",
    "        \n",
    "        Return decoder_outputs\n",
    "        '''\n",
    "        input,output = data[0], data[1]\n",
    "        encoder_output, encoder_h, encoder_c = self.encoder(input, [self.initial_state, self.initial_state])\n",
    "        decoder_output = self.decoder(output, [encoder_h, encoder_c])\n",
    "        \n",
    "        return output"
   ]
  },
  {
   "cell_type": "markdown",
   "metadata": {
    "id": "WVRxB-FDMJWL"
   },
   "source": [
    "<font color='blue'>**Custom loss function**</font>"
   ]
  },
  {
   "cell_type": "code",
   "execution_count": 47,
   "metadata": {
    "execution": {
     "iopub.execute_input": "2023-01-24T12:47:22.853385Z",
     "iopub.status.busy": "2023-01-24T12:47:22.853013Z",
     "iopub.status.idle": "2023-01-24T12:47:22.859423Z",
     "shell.execute_reply": "2023-01-24T12:47:22.858347Z",
     "shell.execute_reply.started": "2023-01-24T12:47:22.853351Z"
    },
    "id": "SfZET6OSxou8"
   },
   "outputs": [],
   "source": [
    "#https://www.tensorflow.org/tutorials/text/image_captioning#model\n",
    "loss_object = tf.keras.losses.SparseCategoricalCrossentropy(from_logits=True, reduction='none')\n",
    "\n",
    "def loss_function(real, pred):\n",
    "    \"\"\" Custom loss function that will not consider the loss for padded zeros.\n",
    "    why are we using this, can't we use simple sparse categorical crossentropy?\n",
    "    Yes, you can use simple sparse categorical crossentropy as loss like we did in task-1. But in this loss function we are ignoring the loss\n",
    "    for the padded zeros. i.e when the input is zero then we donot need to worry what the output is. This padded zeros are added from our end\n",
    "    during preprocessing to make equal length for all the sentences.\n",
    "\n",
    "    \"\"\"\n",
    "    mask = tf.math.logical_not(tf.math.equal(real, 0))\n",
    "    loss_ = loss_object(real, pred)\n",
    "\n",
    "    mask = tf.cast(mask, dtype=loss_.dtype)\n",
    "    loss_ *= mask\n",
    "\n",
    "    return tf.reduce_mean(loss_)"
   ]
  },
  {
   "cell_type": "markdown",
   "metadata": {
    "id": "2QlbWAqNNlqe"
   },
   "source": [
    "<font color='blue'>**Training**</font>"
   ]
  },
  {
   "cell_type": "markdown",
   "metadata": {
    "id": "wqtZUQF2NuZE"
   },
   "source": [
    "Implement dot function here."
   ]
  },
  {
   "cell_type": "code",
   "execution_count": 48,
   "metadata": {
    "execution": {
     "iopub.execute_input": "2023-01-24T12:47:25.028027Z",
     "iopub.status.busy": "2023-01-24T12:47:25.027650Z",
     "iopub.status.idle": "2023-01-24T12:47:25.040997Z",
     "shell.execute_reply": "2023-01-24T12:47:25.039838Z",
     "shell.execute_reply.started": "2023-01-24T12:47:25.027994Z"
    },
    "id": "Bnt1Xrluxz3i"
   },
   "outputs": [],
   "source": [
    "class Dataset:\n",
    "    def __init__(self, data, tknizer_ita, tknizer_eng, max_len):\n",
    "        self.encoder_inps = data['italian'].values\n",
    "        self.decoder_inps = data['english_inp'].values\n",
    "        self.decoder_outs = data['english_out'].values\n",
    "        self.tknizer_eng = tknizer_eng\n",
    "        self.tknizer_ita = tknizer_ita\n",
    "        self.max_len = max_len\n",
    "\n",
    "    def __getitem__(self, i):\n",
    "        self.encoder_seq = self.tknizer_ita.texts_to_sequences([self.encoder_inps[i]]) # need to pass list of values\n",
    "        self.decoder_inp_seq = self.tknizer_eng.texts_to_sequences([self.decoder_inps[i]])\n",
    "        self.decoder_out_seq = self.tknizer_eng.texts_to_sequences([self.decoder_outs[i]])\n",
    "\n",
    "        self.encoder_seq = pad_sequences(self.encoder_seq, maxlen=self.max_len, dtype='int32', padding='post')\n",
    "        self.decoder_inp_seq = pad_sequences(self.decoder_inp_seq, maxlen=self.max_len, dtype='int32', padding='post')\n",
    "        self.decoder_out_seq = pad_sequences(self.decoder_out_seq, maxlen=self.max_len, dtype='int32', padding='post')\n",
    "        return self.encoder_seq, self.decoder_inp_seq, self.decoder_out_seq\n",
    "\n",
    "    def __len__(self): # your model.fit_gen requires this function\n",
    "        return len(self.encoder_inps)\n",
    "\n",
    "    \n",
    "class Dataloder(tf.keras.utils.Sequence):    \n",
    "    def __init__(self, dataset, batch_size=1):\n",
    "        self.dataset = dataset\n",
    "        self.batch_size = batch_size\n",
    "        self.indexes = np.arange(len(self.dataset.encoder_inps))\n",
    "\n",
    "\n",
    "    def __getitem__(self, i):\n",
    "        start = i * self.batch_size\n",
    "        stop = (i + 1) * self.batch_size\n",
    "        data = []\n",
    "        for j in range(start, stop):\n",
    "            data.append(self.dataset[j])\n",
    "\n",
    "        batch = [np.squeeze(np.stack(samples, axis=1), axis=0) for samples in zip(*data)]\n",
    "        # we are creating data like ([italian, english_inp], english_out) these are already converted into seq\n",
    "        return tuple([[batch[0],batch[1]],batch[2]])\n",
    "\n",
    "    def __len__(self):  # your model.fit_gen requires this function\n",
    "        return len(self.indexes) // self.batch_size\n",
    "\n",
    "    def on_epoch_end(self):\n",
    "        self.indexes = np.random.permutation(self.indexes)\n"
   ]
  },
  {
   "cell_type": "code",
   "execution_count": 49,
   "metadata": {
    "colab": {
     "base_uri": "https://localhost:8080/"
    },
    "execution": {
     "iopub.execute_input": "2023-01-24T12:47:25.816798Z",
     "iopub.status.busy": "2023-01-24T12:47:25.816405Z",
     "iopub.status.idle": "2023-01-24T12:47:26.156638Z",
     "shell.execute_reply": "2023-01-24T12:47:26.155539Z",
     "shell.execute_reply.started": "2023-01-24T12:47:25.816764Z"
    },
    "id": "WHejgRtSx6uB",
    "outputId": "73e7dd1a-a0e7-49df-c6f4-6b9512f77a37"
   },
   "outputs": [
    {
     "name": "stdout",
     "output_type": "stream",
     "text": [
      "(1024, 20) (1024, 20) (1024, 20)\n"
     ]
    }
   ],
   "source": [
    "train_dataset_1 = Dataset(train, tknizer_ita, tknizer_eng, 20)\n",
    "test_dataset_1  = Dataset(validation, tknizer_ita, tknizer_eng, 20)\n",
    "\n",
    "train_dataloader_1 = Dataloder(train_dataset_1, batch_size=1024)\n",
    "test_dataloader_1 = Dataloder(test_dataset_1, batch_size=1024)\n",
    "\n",
    "\n",
    "print(train_dataloader_1[0][0][0].shape, train_dataloader_1[0][0][1].shape, train_dataloader_1[0][1].shape)"
   ]
  },
  {
   "cell_type": "code",
   "execution_count": 50,
   "metadata": {
    "execution": {
     "iopub.execute_input": "2023-01-24T12:47:27.510710Z",
     "iopub.status.busy": "2023-01-24T12:47:27.510333Z",
     "iopub.status.idle": "2023-01-24T12:47:27.533919Z",
     "shell.execute_reply": "2023-01-24T12:47:27.533074Z",
     "shell.execute_reply.started": "2023-01-24T12:47:27.510656Z"
    },
    "id": "OVWZraF9tzVK"
   },
   "outputs": [],
   "source": [
    "model_1 = encoder_decoder(input_len=20, output_len=20, score='dot', att_units=128, batch_size=32)\n",
    "model_1.compile(optimizer=tf.keras.optimizers.Adam(), loss='sparse_categorical_crossentropy')\n",
    "train_steps_1 = train.shape[0]//1024\n",
    "valid_steps_1 = validation.shape[0]//1024"
   ]
  },
  {
   "cell_type": "code",
   "execution_count": 53,
   "metadata": {
    "colab": {
     "base_uri": "https://localhost:8080/"
    },
    "execution": {
     "iopub.execute_input": "2023-01-24T12:48:01.349017Z",
     "iopub.status.busy": "2023-01-24T12:48:01.348638Z",
     "iopub.status.idle": "2023-01-24T13:37:38.923886Z",
     "shell.execute_reply": "2023-01-24T13:37:38.922673Z",
     "shell.execute_reply.started": "2023-01-24T12:48:01.348987Z"
    },
    "id": "9BqHntxXomk2",
    "outputId": "1fe42c45-b96c-4ea2-fd37-058e344d9a2d"
   },
   "outputs": [
    {
     "name": "stdout",
     "output_type": "stream",
     "text": [
      "Epoch 1/25\n"
     ]
    },
    {
     "name": "stderr",
     "output_type": "stream",
     "text": [
      "2023-01-24 12:48:06.565732: E tensorflow/core/grappler/optimizers/meta_optimizer.cc:801] function_optimizer failed: Invalid argument: Input 1 of node encoder_decoder_2/decoder_5/while/body/_1/encoder_decoder_2/decoder_5/while/TensorListPushBack_10 was passed float from encoder_decoder_2/decoder_5/while/body/_1/encoder_decoder_2/decoder_5/while/one_step_decoder_6/osd_LSTM/PartitionedCall:7 incompatible with expected variant.\n",
      "2023-01-24 12:48:06.717608: E tensorflow/core/grappler/optimizers/meta_optimizer.cc:801] layout failed: Out of range: src_output = 30, but num_outputs is only 30\n",
      "2023-01-24 12:48:06.825360: E tensorflow/core/grappler/optimizers/meta_optimizer.cc:801] function_optimizer failed: Invalid argument: Input 1 of node encoder_decoder_2/decoder_5/while/body/_1/encoder_decoder_2/decoder_5/while/TensorListPushBack_10 was passed float from encoder_decoder_2/decoder_5/while/body/_1/encoder_decoder_2/decoder_5/while/one_step_decoder_6/osd_LSTM/PartitionedCall:7 incompatible with expected variant.\n",
      "2023-01-24 12:48:06.934441: W tensorflow/core/common_runtime/process_function_library_runtime.cc:841] Ignoring multi-device function optimization failure: Invalid argument: Input 1 of node encoder_decoder_2/decoder_5/while/body/_1/encoder_decoder_2/decoder_5/while/TensorListPushBack_10 was passed float from encoder_decoder_2/decoder_5/while/body/_1/encoder_decoder_2/decoder_5/while/one_step_decoder_6/osd_LSTM/PartitionedCall:7 incompatible with expected variant.\n"
     ]
    },
    {
     "name": "stdout",
     "output_type": "stream",
     "text": [
      "279/279 [==============================] - 124s 423ms/step - loss: 2.3147 - val_loss: 2.3128\n",
      "Epoch 2/25\n",
      "279/279 [==============================] - 118s 422ms/step - loss: 2.0138 - val_loss: 2.2194\n",
      "Epoch 3/25\n",
      "279/279 [==============================] - 118s 424ms/step - loss: 1.9776 - val_loss: 2.1297\n",
      "Epoch 4/25\n",
      "279/279 [==============================] - 119s 426ms/step - loss: 1.9731 - val_loss: 2.1206\n",
      "Epoch 5/25\n",
      "279/279 [==============================] - 118s 422ms/step - loss: 1.9015 - val_loss: 2.1110\n",
      "Epoch 6/25\n",
      "279/279 [==============================] - 119s 425ms/step - loss: 1.8728 - val_loss: 2.3261\n",
      "Epoch 7/25\n",
      "279/279 [==============================] - 118s 423ms/step - loss: 1.9492 - val_loss: 2.1334\n",
      "Epoch 8/25\n",
      "279/279 [==============================] - 118s 424ms/step - loss: 1.8454 - val_loss: 2.1042\n",
      "Epoch 9/25\n",
      "279/279 [==============================] - 117s 419ms/step - loss: 1.8755 - val_loss: 2.1359\n",
      "Epoch 10/25\n",
      "279/279 [==============================] - 118s 422ms/step - loss: 1.9024 - val_loss: 2.0911\n",
      "Epoch 11/25\n",
      "279/279 [==============================] - 118s 423ms/step - loss: 1.8805 - val_loss: 2.0918\n",
      "Epoch 12/25\n",
      "279/279 [==============================] - 117s 420ms/step - loss: 1.8088 - val_loss: 2.0823\n",
      "Epoch 13/25\n",
      "279/279 [==============================] - 118s 422ms/step - loss: 1.7967 - val_loss: 2.1217\n",
      "Epoch 14/25\n",
      "279/279 [==============================] - 118s 423ms/step - loss: 1.8327 - val_loss: 2.1240\n",
      "Epoch 15/25\n",
      "279/279 [==============================] - 117s 421ms/step - loss: 1.8214 - val_loss: 2.1417\n",
      "Epoch 16/25\n",
      "279/279 [==============================] - 119s 425ms/step - loss: 1.8689 - val_loss: 2.1372\n",
      "Epoch 17/25\n",
      "279/279 [==============================] - 117s 420ms/step - loss: 1.8453 - val_loss: 2.1598\n",
      "Epoch 18/25\n",
      "279/279 [==============================] - 116s 416ms/step - loss: 1.7820 - val_loss: 2.1691\n",
      "Epoch 19/25\n",
      "279/279 [==============================] - 118s 422ms/step - loss: 1.7997 - val_loss: 2.1364\n",
      "Epoch 20/25\n",
      "279/279 [==============================] - 118s 424ms/step - loss: 1.8423 - val_loss: 2.1552\n",
      "Epoch 21/25\n",
      "279/279 [==============================] - 118s 422ms/step - loss: 1.7534 - val_loss: 2.1294\n",
      "Epoch 22/25\n",
      "279/279 [==============================] - 118s 422ms/step - loss: 1.7864 - val_loss: 2.1721\n",
      "Epoch 23/25\n",
      "279/279 [==============================] - 118s 422ms/step - loss: 1.8649 - val_loss: 2.1371\n",
      "Epoch 24/25\n",
      "279/279 [==============================] - 118s 422ms/step - loss: 1.7809 - val_loss: 2.1308\n",
      "Epoch 25/25\n",
      "279/279 [==============================] - 117s 420ms/step - loss: 1.7648 - val_loss: 2.1321\n"
     ]
    },
    {
     "data": {
      "text/plain": [
       "<keras.callbacks.History at 0x7f4abb27af10>"
      ]
     },
     "execution_count": 53,
     "metadata": {},
     "output_type": "execute_result"
    }
   ],
   "source": [
    "model_1.fit(train_dataloader_1, steps_per_epoch=train_steps_1, epochs=25, validation_data=train_dataloader_1, validation_steps=valid_steps_1)"
   ]
  },
  {
   "cell_type": "code",
   "execution_count": 54,
   "metadata": {
    "colab": {
     "base_uri": "https://localhost:8080/"
    },
    "execution": {
     "iopub.execute_input": "2023-01-24T13:39:25.467784Z",
     "iopub.status.busy": "2023-01-24T13:39:25.467369Z",
     "iopub.status.idle": "2023-01-24T13:39:25.474831Z",
     "shell.execute_reply": "2023-01-24T13:39:25.473735Z",
     "shell.execute_reply.started": "2023-01-24T13:39:25.467749Z"
    },
    "id": "oLxgpthTyDiU",
    "outputId": "165e98cc-330a-43f2-d76e-41c4cfd39d9f"
   },
   "outputs": [
    {
     "name": "stdout",
     "output_type": "stream",
     "text": [
      "Model: \"encoder_decoder_2\"\n",
      "_________________________________________________________________\n",
      "Layer (type)                 Output Shape              Param #   \n",
      "=================================================================\n",
      "encoder_4 (Encoder)          multiple                  1652818   \n",
      "_________________________________________________________________\n",
      "decoder_5 (Decoder)          multiple                  5333329   \n",
      "=================================================================\n",
      "Total params: 6,986,147\n",
      "Trainable params: 6,986,147\n",
      "Non-trainable params: 0\n",
      "_________________________________________________________________\n"
     ]
    }
   ],
   "source": [
    "model_1.summary()"
   ]
  },
  {
   "cell_type": "markdown",
   "metadata": {
    "id": "6DpC9zlzMcXp"
   },
   "source": [
    "## <font color='blue'>**Inference**</font>"
   ]
  },
  {
   "cell_type": "markdown",
   "metadata": {
    "id": "Z5NhESYyMW_t"
   },
   "source": [
    "<font color='blue'>**Plot attention weights**</font>"
   ]
  },
  {
   "cell_type": "code",
   "execution_count": 56,
   "metadata": {
    "execution": {
     "iopub.execute_input": "2023-01-24T13:39:52.072177Z",
     "iopub.status.busy": "2023-01-24T13:39:52.071568Z",
     "iopub.status.idle": "2023-01-24T13:39:52.079183Z",
     "shell.execute_reply": "2023-01-24T13:39:52.078241Z",
     "shell.execute_reply.started": "2023-01-24T13:39:52.072140Z"
    },
    "id": "2ACiW1nryJB0"
   },
   "outputs": [],
   "source": [
    "#Refer: https://www.tensorflow.org/tutorials/text/nmt_with_attention#translate\n",
    "import matplotlib.ticker as ticker\n",
    "def plot_attention(attention,act,pred):\n",
    "  \n",
    "  pred,_=predict(act,plot_t2='dot')\n",
    "  plot_att=attention[:len(pred.split(' ')),len(act.split(' '))]\n",
    "  fig,ax = plt.subplots(figsize=(8,6))\n",
    "  ax.matshow(attention,cmap='Blues')\n",
    "  ax.set_xticklabels([''] + act.split(' '), rotation=90)\n",
    "  ax.set_yticklabels([''] + pred.split(' '))\n",
    "  plt.show() \n",
    "  "
   ]
  },
  {
   "cell_type": "markdown",
   "metadata": {
    "id": "e1IhdBrgQYJr"
   },
   "source": [
    "<font color='blue'>**Predict the sentence translation**</font>"
   ]
  },
  {
   "cell_type": "code",
   "execution_count": 63,
   "metadata": {
    "execution": {
     "iopub.execute_input": "2023-01-24T13:41:44.088068Z",
     "iopub.status.busy": "2023-01-24T13:41:44.087710Z",
     "iopub.status.idle": "2023-01-24T13:41:44.097546Z",
     "shell.execute_reply": "2023-01-24T13:41:44.096395Z",
     "shell.execute_reply.started": "2023-01-24T13:41:44.088037Z"
    },
    "id": "mR3rkRujyQoQ"
   },
   "outputs": [],
   "source": [
    "# ref.: https://github.com/AbhijeetWaghchaure/NLP-Attention-Mechanism/blob/ \n",
    "def predict(input_sentence,plot_1):\n",
    "\n",
    "    token = tknizer_ita.texts_to_sequences([input_sentence])\n",
    "    pad = pad_sequences(token,maxlen=20,padding='post',truncating='post',dtype='int32')\n",
    "    encoder_1 = model_1.layers[0].initialize_states(pad.shape[0])\n",
    "    encoder_ouput_1, encoder_state_h1, encoder_state_c1 = model_1.layers[0](pad, encoder_1)\n",
    "    init_idx = tknizer_eng.word_index['<start>']\n",
    "    init_idx = tf.expand_dims([in_indexs],0)\n",
    "    att = np.zeros((20,20))\n",
    "    \n",
    "    pred_sent = []\n",
    "    for i in range(pad.shape[1]):\n",
    "    decoder_output, decoder_state_h1, decoder_state_c1, w, cv = model_1.layers[1].onestep_decoder(init_idx, encoder_ouput_1,encoder_state_h1,encoder_state_c1)\n",
    "    output_1 = model_1.layers[1](init_idx, encoder_ouput_1, encoder_state_h1, encoder_state_c1)\n",
    "    output_idx = np.argmax(output_1)\n",
    "    wt = tf.reshape(w,(-1, ))\n",
    "    att[j] = wt.numpy()\n",
    "    init_idxs = np.reshape(output_idx,(1,1))\n",
    "    pred_sent.append(tknizer_eng.index_word[output_idx])\n",
    "    \n",
    "    if tknizer_eng.index_word[output_idx]=='<end>':\n",
    "        break\n",
    "    return ' '.join(pred_sent), att\n"
   ]
  },
  {
   "cell_type": "markdown",
   "metadata": {
    "id": "usOCV-6Pkk5X"
   },
   "source": [
    "**ATTETNTION PLOTS**"
   ]
  },
  {
   "cell_type": "code",
   "execution_count": 64,
   "metadata": {
    "colab": {
     "base_uri": "https://localhost:8080/",
     "height": 374
    },
    "execution": {
     "iopub.execute_input": "2023-01-24T13:41:46.125640Z",
     "iopub.status.busy": "2023-01-24T13:41:46.125285Z",
     "iopub.status.idle": "2023-01-24T13:41:46.431360Z",
     "shell.execute_reply": "2023-01-24T13:41:46.430172Z",
     "shell.execute_reply.started": "2023-01-24T13:41:46.125610Z"
    },
    "id": "pQeh7GV2j6W_",
    "outputId": "a3a080c4-0cd6-4107-dc7f-4a50317ae48b"
   },
   "outputs": [
    {
     "data": {
      "image/png": "[encoded data removed]",
      "text/plain": [
       "<Figure size 576x432 with 1 Axes>"
      ]
     },
     "metadata": {
      "needs_background": "light"
     },
     "output_type": "display_data"
    }
   ],
   "source": [
    "pred,attention=predict('1 2 3 4','dot')\n",
    "plot_attention(attention,'1 2 3 4',pred)"
   ]
  },
  {
   "cell_type": "markdown",
   "metadata": {
    "id": "jmxIVOOQPWMu"
   },
   "source": [
    "<font color='blue'>**Calculate BLEU score**</font>"
   ]
  },
  {
   "cell_type": "code",
   "execution_count": 66,
   "metadata": {
    "colab": {
     "base_uri": "https://localhost:8080/"
    },
    "execution": {
     "iopub.execute_input": "2023-01-24T13:44:56.062591Z",
     "iopub.status.busy": "2023-01-24T13:44:56.061563Z",
     "iopub.status.idle": "2023-01-24T13:47:20.988834Z",
     "shell.execute_reply": "2023-01-24T13:47:20.987854Z",
     "shell.execute_reply.started": "2023-01-24T13:44:56.062521Z"
    },
    "id": "iZr7et_Eycbt",
    "outputId": "607a3d48-1726-441c-cb0d-7d5bc34e9711"
   },
   "outputs": [
    {
     "name": "stdout",
     "output_type": "stream",
     "text": [
      "Bleu Score:  1.351865196330822e-231\n"
     ]
    }
   ],
   "source": [
    "italian = validation['italian'].values[:1000]\n",
    "english = validation['english_out'].values[:1000]\n",
    "bleu_score = []\n",
    "\n",
    "for i in range(1000):\n",
    "    pred,att = predict(italian[i],'dot')\n",
    "    bleu_score.append(sentence_bleu(english[i],pred))\n",
    "\n",
    "print('Bleu Score: ', np.average(bleu_score))"
   ]
  },
  {
   "cell_type": "markdown",
   "metadata": {
    "id": "SWg2ferDQvT3"
   },
   "source": [
    "<font color='blue'>**Repeat the same steps for General scoring function**</font>"
   ]
  },
  {
   "cell_type": "code",
   "execution_count": 68,
   "metadata": {
    "execution": {
     "iopub.execute_input": "2023-01-24T13:48:05.704258Z",
     "iopub.status.busy": "2023-01-24T13:48:05.703561Z",
     "iopub.status.idle": "2023-01-24T14:41:06.539742Z",
     "shell.execute_reply": "2023-01-24T14:41:06.538823Z",
     "shell.execute_reply.started": "2023-01-24T13:48:05.704222Z"
    },
    "id": "AKqBjrlOLNRn"
   },
   "outputs": [
    {
     "name": "stdout",
     "output_type": "stream",
     "text": [
      "Epoch 1/25\n"
     ]
    },
    {
     "name": "stderr",
     "output_type": "stream",
     "text": [
      "2023-01-24 13:48:10.819064: E tensorflow/core/grappler/optimizers/meta_optimizer.cc:801] function_optimizer failed: Invalid argument: Input 1 of node encoder_decoder_4/decoder_7/while/body/_1/encoder_decoder_4/decoder_7/while/TensorListPushBack_10 was passed float from encoder_decoder_4/decoder_7/while/body/_1/encoder_decoder_4/decoder_7/while/one_step_decoder_8/osd_LSTM/PartitionedCall:7 incompatible with expected variant.\n",
      "2023-01-24 13:48:10.942013: E tensorflow/core/grappler/optimizers/meta_optimizer.cc:801] layout failed: Out of range: src_output = 30, but num_outputs is only 30\n",
      "2023-01-24 13:48:11.058775: E tensorflow/core/grappler/optimizers/meta_optimizer.cc:801] function_optimizer failed: Invalid argument: Input 1 of node encoder_decoder_4/decoder_7/while/body/_1/encoder_decoder_4/decoder_7/while/TensorListPushBack_10 was passed float from encoder_decoder_4/decoder_7/while/body/_1/encoder_decoder_4/decoder_7/while/one_step_decoder_8/osd_LSTM/PartitionedCall:7 incompatible with expected variant.\n",
      "2023-01-24 13:48:11.180502: W tensorflow/core/common_runtime/process_function_library_runtime.cc:841] Ignoring multi-device function optimization failure: Invalid argument: Input 1 of node encoder_decoder_4/decoder_7/while/body/_1/encoder_decoder_4/decoder_7/while/TensorListPushBack_10 was passed float from encoder_decoder_4/decoder_7/while/body/_1/encoder_decoder_4/decoder_7/while/one_step_decoder_8/osd_LSTM/PartitionedCall:7 incompatible with expected variant.\n"
     ]
    },
    {
     "name": "stdout",
     "output_type": "stream",
     "text": [
      "279/279 [==============================] - 133s 457ms/step - loss: 2.2350 - val_loss: 2.0873\n",
      "Epoch 2/25\n",
      "279/279 [==============================] - 125s 448ms/step - loss: 1.9612 - val_loss: 2.0698\n",
      "Epoch 3/25\n",
      "279/279 [==============================] - 125s 448ms/step - loss: 1.9098 - val_loss: 2.0615\n",
      "Epoch 4/25\n",
      "279/279 [==============================] - 126s 452ms/step - loss: 1.9059 - val_loss: 2.1039\n",
      "Epoch 5/25\n",
      "279/279 [==============================] - 125s 448ms/step - loss: 1.9278 - val_loss: 2.1178\n",
      "Epoch 6/25\n",
      "279/279 [==============================] - 126s 451ms/step - loss: 2.0238 - val_loss: 2.1755\n",
      "Epoch 7/25\n",
      "279/279 [==============================] - 126s 452ms/step - loss: 1.8825 - val_loss: 2.1850\n",
      "Epoch 8/25\n",
      "279/279 [==============================] - 125s 447ms/step - loss: 1.9009 - val_loss: 2.1208\n",
      "Epoch 9/25\n",
      "279/279 [==============================] - 126s 450ms/step - loss: 2.0083 - val_loss: 2.1451\n",
      "Epoch 10/25\n",
      "279/279 [==============================] - 127s 454ms/step - loss: 1.8548 - val_loss: 2.3574\n",
      "Epoch 11/25\n",
      "279/279 [==============================] - 127s 455ms/step - loss: 2.1019 - val_loss: 2.2619\n",
      "Epoch 12/25\n",
      "279/279 [==============================] - 126s 453ms/step - loss: 1.9517 - val_loss: 2.1010\n",
      "Epoch 13/25\n",
      "279/279 [==============================] - 127s 454ms/step - loss: 1.8293 - val_loss: 2.0694\n",
      "Epoch 14/25\n",
      "279/279 [==============================] - 127s 455ms/step - loss: 1.8394 - val_loss: 2.1194\n",
      "Epoch 15/25\n",
      "279/279 [==============================] - 128s 458ms/step - loss: 1.8068 - val_loss: 2.0963\n",
      "Epoch 16/25\n",
      "279/279 [==============================] - 127s 455ms/step - loss: 1.8258 - val_loss: 2.1141\n",
      "Epoch 17/25\n",
      "279/279 [==============================] - 126s 452ms/step - loss: 1.8448 - val_loss: 2.0861\n",
      "Epoch 18/25\n",
      "279/279 [==============================] - 126s 452ms/step - loss: 1.8016 - val_loss: 2.0670\n",
      "Epoch 19/25\n",
      "279/279 [==============================] - 126s 452ms/step - loss: 1.7685 - val_loss: 2.0877\n",
      "Epoch 20/25\n",
      "279/279 [==============================] - 127s 455ms/step - loss: 1.7833 - val_loss: 2.0838\n",
      "Epoch 21/25\n",
      "279/279 [==============================] - 127s 454ms/step - loss: 1.8221 - val_loss: 2.0869\n",
      "Epoch 22/25\n",
      "279/279 [==============================] - 127s 454ms/step - loss: 1.7748 - val_loss: 2.0761\n",
      "Epoch 23/25\n",
      "279/279 [==============================] - 126s 452ms/step - loss: 1.7289 - val_loss: 2.0959\n",
      "Epoch 24/25\n",
      "279/279 [==============================] - 127s 454ms/step - loss: 1.7795 - val_loss: 2.1230\n",
      "Epoch 25/25\n",
      "279/279 [==============================] - 125s 447ms/step - loss: 1.7799 - val_loss: 2.1063\n"
     ]
    },
    {
     "data": {
      "text/plain": [
       "<keras.callbacks.History at 0x7f46adfccc90>"
      ]
     },
     "execution_count": 68,
     "metadata": {},
     "output_type": "execute_result"
    }
   ],
   "source": [
    "model_2 = encoder_decoder(input_len=20, output_len=20, score='general', att_units=256, batch_size=32)\n",
    "model_2.compile(optimizer=tf.keras.optimizers.Adam(),loss='sparse_categorical_crossentropy')\n",
    "train_steps_2 = train.shape[0]//1024\n",
    "valid_steps_2 = validation.shape[0]//1024\n",
    "\n",
    "model_2.fit(train_dataloader_2, steps_per_epoch=train_steps_2, epochs=25, validation_data=train_dataloader_2, validation_steps=valid_steps_2)"
   ]
  },
  {
   "cell_type": "code",
   "execution_count": 69,
   "metadata": {
    "colab": {
     "base_uri": "https://localhost:8080/"
    },
    "execution": {
     "iopub.execute_input": "2023-01-24T14:41:10.308791Z",
     "iopub.status.busy": "2023-01-24T14:41:10.308400Z",
     "iopub.status.idle": "2023-01-24T14:41:10.318596Z",
     "shell.execute_reply": "2023-01-24T14:41:10.314640Z",
     "shell.execute_reply.started": "2023-01-24T14:41:10.308756Z"
    },
    "id": "Jgo0iw8uy1UJ",
    "outputId": "8ccbfd0e-93e9-483b-8643-519d5fa0f5db"
   },
   "outputs": [
    {
     "name": "stdout",
     "output_type": "stream",
     "text": [
      "Model: \"encoder_decoder_4\"\n",
      "_________________________________________________________________\n",
      "Layer (type)                 Output Shape              Param #   \n",
      "=================================================================\n",
      "encoder_6 (Encoder)          multiple                  1652818   \n",
      "_________________________________________________________________\n",
      "decoder_7 (Decoder)          multiple                  5399121   \n",
      "=================================================================\n",
      "Total params: 7,051,939\n",
      "Trainable params: 7,051,939\n",
      "Non-trainable params: 0\n",
      "_________________________________________________________________\n"
     ]
    }
   ],
   "source": [
    "model_2.summary()"
   ]
  },
  {
   "cell_type": "code",
   "execution_count": 70,
   "metadata": {
    "execution": {
     "iopub.execute_input": "2023-01-24T14:41:12.190056Z",
     "iopub.status.busy": "2023-01-24T14:41:12.189727Z",
     "iopub.status.idle": "2023-01-24T14:41:12.196634Z",
     "shell.execute_reply": "2023-01-24T14:41:12.195705Z",
     "shell.execute_reply.started": "2023-01-24T14:41:12.190028Z"
    },
    "id": "2GqDAETzy0x2"
   },
   "outputs": [],
   "source": [
    "import matplotlib.ticker as ticker\n",
    "def plot_attention(attention,act,pred):\n",
    "  #Refer: https://www.tensorflow.org/tutorials/text/nmt_with_attention#translate\n",
    "\n",
    "  pred,_=predict(act,plot_t2='general')\n",
    "  plot_att=attention[:len(pred.split(' ')),len(act.split(' '))]\n",
    "  fig,ax = plt.subplots(figsize=(8,6))\n",
    "  ax.matshow(attention,cmap='Blues')\n",
    "  ax.set_xticklabels([''] + act.split(' '), rotation=90)\n",
    "  ax.set_yticklabels([''] + pred.split(' '))\n",
    "  plt.show() \n",
    "  "
   ]
  },
  {
   "cell_type": "code",
   "execution_count": 71,
   "metadata": {
    "colab": {
     "base_uri": "https://localhost:8080/",
     "height": 374
    },
    "execution": {
     "iopub.execute_input": "2023-01-24T14:41:13.728795Z",
     "iopub.status.busy": "2023-01-24T14:41:13.728409Z",
     "iopub.status.idle": "2023-01-24T14:41:14.083323Z",
     "shell.execute_reply": "2023-01-24T14:41:14.079689Z",
     "shell.execute_reply.started": "2023-01-24T14:41:13.728761Z"
    },
    "id": "-GW2mb4cYneK",
    "outputId": "c1651131-6d8c-4f60-8182-e10e872ac58c"
   },
   "outputs": [
    {
     "data": {
      "image/png": "[encoded data removed]",
      "text/plain": [
       "<Figure size 576x432 with 1 Axes>"
      ]
     },
     "metadata": {
      "needs_background": "light"
     },
     "output_type": "display_data"
    }
   ],
   "source": [
    "pred,attention=predict('1 2 3 4','general')\n",
    "plot_attention(attention,'1 2 3 4',pred)"
   ]
  },
  {
   "cell_type": "code",
   "execution_count": 72,
   "metadata": {
    "execution": {
     "iopub.execute_input": "2023-01-24T14:41:15.664511Z",
     "iopub.status.busy": "2023-01-24T14:41:15.664157Z",
     "iopub.status.idle": "2023-01-24T14:41:15.673721Z",
     "shell.execute_reply": "2023-01-24T14:41:15.672247Z",
     "shell.execute_reply.started": "2023-01-24T14:41:15.664481Z"
    },
    "id": "7PxiQuDby41L"
   },
   "outputs": [],
   "source": [
    "def predict(input_sentence,plot_1):\n",
    "\n",
    "    token = tknizer_ita.texts_to_sequences([input_sentence])\n",
    "    pad = pad_sequences(token,maxlen=20,padding='post',truncating='post',dtype='int32')\n",
    "    encoder_1 = model_1.layers[0].initialize_states(pad.shape[0])\n",
    "    encoder_ouput_1, encoder_state_h1, encoder_state_c1 = model_1.layers[0](pad, encoder_1)\n",
    "    init_idx = tknizer_eng.word_index['<start>']\n",
    "    init_idx = tf.expand_dims([in_indexs],0)\n",
    "    att = np.zeros((20,20))\n",
    "    \n",
    "    pred_sent = []\n",
    "    for i in range(pad.shape[1]):\n",
    "    decoder_output, decoder_state_h1, decoder_state_c1, w, cv = model_1.layers[1].onestep_decoder(init_idx, encoder_ouput_1,encoder_state_h1,encoder_state_c1)\n",
    "    output_1 = model_1.layers[1](init_idx, encoder_ouput_1, encoder_state_h1, encoder_state_c1)\n",
    "    output_idx = np.argmax(output_1)\n",
    "    wt = tf.reshape(w,(-1, ))\n",
    "    att[j] = wt.numpy()\n",
    "    init_idxs = np.reshape(output_idx,(1,1))\n",
    "    pred_sent.append(tknizer_eng.index_word[output_idx])\n",
    "    \n",
    "    if tknizer_eng.index_word[output_idx]=='<end>':\n",
    "        break\n",
    "    return ' '.join(pred_sent), att\n"
   ]
  },
  {
   "cell_type": "code",
   "execution_count": 75,
   "metadata": {
    "colab": {
     "base_uri": "https://localhost:8080/"
    },
    "execution": {
     "iopub.execute_input": "2023-01-24T14:43:04.196545Z",
     "iopub.status.busy": "2023-01-24T14:43:04.196177Z",
     "iopub.status.idle": "2023-01-24T14:44:25.273976Z",
     "shell.execute_reply": "2023-01-24T14:44:25.272943Z",
     "shell.execute_reply.started": "2023-01-24T14:43:04.196513Z"
    },
    "id": "NJIATpUjkPji",
    "outputId": "abbf360c-3512-4aae-c928-eb4e339d79a5"
   },
   "outputs": [
    {
     "name": "stdout",
     "output_type": "stream",
     "text": [
      "Bleu Score:  1.590842458919906e-231\n"
     ]
    }
   ],
   "source": [
    "italian = validation['italian'].values[:1000]\n",
    "english = validation['english_out'].values[:1000]\n",
    "bleu_score = []\n",
    "\n",
    "for i in range(1000):\n",
    "    pred,att = predict(italian[i],'general')\n",
    "    bleu_score.append(sentence_bleu(english[i],pred))\n",
    "\n",
    "print('Bleu Score: ', np.average(bleu_score))"
   ]
  },
  {
   "cell_type": "markdown",
   "metadata": {
    "id": "VB1jRUqZQ9AM"
   },
   "source": [
    "<font color='blue'>**Repeat the same steps for Concat scoring function**</font>"
   ]
  },
  {
   "cell_type": "code",
   "execution_count": 76,
   "metadata": {
    "execution": {
     "iopub.execute_input": "2023-01-24T14:44:55.094484Z",
     "iopub.status.busy": "2023-01-24T14:44:55.094129Z",
     "iopub.status.idle": "2023-01-24T14:44:55.120172Z",
     "shell.execute_reply": "2023-01-24T14:44:55.119302Z",
     "shell.execute_reply.started": "2023-01-24T14:44:55.094453Z"
    },
    "id": "P6C2dI4lZSB4"
   },
   "outputs": [],
   "source": [
    "model_3 = encoder_decoder(input_len=20, output_len=20, score='concat', att_units=256, batch_size=32)\n",
    "model_3.compile(optimizer=tf.keras.optimizers.Adam(),loss='sparse_categorical_crossentropy')\n",
    "train_steps_3 = train.shape[0]//1024\n",
    "valid_steps_3 = validation.shape[0]//1024"
   ]
  },
  {
   "cell_type": "code",
   "execution_count": 77,
   "metadata": {
    "colab": {
     "base_uri": "https://localhost:8080/"
    },
    "execution": {
     "iopub.execute_input": "2023-01-24T14:44:56.374128Z",
     "iopub.status.busy": "2023-01-24T14:44:56.373510Z",
     "iopub.status.idle": "2023-01-24T15:40:16.135617Z",
     "shell.execute_reply": "2023-01-24T15:40:16.134610Z",
     "shell.execute_reply.started": "2023-01-24T14:44:56.374095Z"
    },
    "id": "I7G4n0NUZVrL",
    "outputId": "5e0c3e9c-a1c5-4c65-9712-a4c7dd623f04"
   },
   "outputs": [
    {
     "name": "stdout",
     "output_type": "stream",
     "text": [
      "Epoch 1/25\n"
     ]
    },
    {
     "name": "stderr",
     "output_type": "stream",
     "text": [
      "2023-01-24 14:45:01.170146: E tensorflow/core/grappler/optimizers/meta_optimizer.cc:801] function_optimizer failed: Invalid argument: Input 1 of node encoder_decoder_5/decoder_8/while/body/_1/encoder_decoder_5/decoder_8/while/TensorListPushBack_10 was passed float from encoder_decoder_5/decoder_8/while/body/_1/encoder_decoder_5/decoder_8/while/one_step_decoder_9/osd_LSTM/PartitionedCall:7 incompatible with expected variant.\n",
      "2023-01-24 14:45:01.302782: E tensorflow/core/grappler/optimizers/meta_optimizer.cc:801] layout failed: Out of range: src_output = 30, but num_outputs is only 30\n",
      "2023-01-24 14:45:01.427288: E tensorflow/core/grappler/optimizers/meta_optimizer.cc:801] function_optimizer failed: Invalid argument: Input 1 of node encoder_decoder_5/decoder_8/while/body/_1/encoder_decoder_5/decoder_8/while/TensorListPushBack_10 was passed float from encoder_decoder_5/decoder_8/while/body/_1/encoder_decoder_5/decoder_8/while/one_step_decoder_9/osd_LSTM/PartitionedCall:7 incompatible with expected variant.\n",
      "2023-01-24 14:45:01.564981: W tensorflow/core/common_runtime/process_function_library_runtime.cc:841] Ignoring multi-device function optimization failure: Invalid argument: Input 1 of node encoder_decoder_5/decoder_8/while/body/_1/encoder_decoder_5/decoder_8/while/TensorListPushBack_10 was passed float from encoder_decoder_5/decoder_8/while/body/_1/encoder_decoder_5/decoder_8/while/one_step_decoder_9/osd_LSTM/PartitionedCall:7 incompatible with expected variant.\n"
     ]
    },
    {
     "name": "stdout",
     "output_type": "stream",
     "text": [
      "279/279 [==============================] - 139s 477ms/step - loss: 8.5265 - val_loss: 8.4068\n",
      "Epoch 2/25\n",
      "279/279 [==============================] - 132s 474ms/step - loss: 8.3051 - val_loss: 8.3689\n",
      "Epoch 3/25\n",
      "279/279 [==============================] - 132s 472ms/step - loss: 8.2730 - val_loss: 8.3676\n",
      "Epoch 4/25\n",
      "279/279 [==============================] - 132s 474ms/step - loss: 8.2516 - val_loss: 8.4113\n",
      "Epoch 5/25\n",
      "279/279 [==============================] - 130s 466ms/step - loss: 8.3320 - val_loss: 8.4037\n",
      "Epoch 6/25\n",
      "279/279 [==============================] - 132s 473ms/step - loss: 8.3001 - val_loss: 8.3632\n",
      "Epoch 7/25\n",
      "279/279 [==============================] - 132s 472ms/step - loss: 8.2687 - val_loss: 8.3257\n",
      "Epoch 8/25\n",
      "279/279 [==============================] - 131s 470ms/step - loss: 8.2337 - val_loss: 8.3284\n",
      "Epoch 9/25\n",
      "279/279 [==============================] - 132s 472ms/step - loss: 8.2621 - val_loss: 8.3592\n",
      "Epoch 10/25\n",
      "279/279 [==============================] - 131s 470ms/step - loss: 8.2110 - val_loss: 8.3311\n",
      "Epoch 11/25\n",
      "279/279 [==============================] - 132s 474ms/step - loss: 8.1897 - val_loss: 8.3417\n",
      "Epoch 12/25\n",
      "279/279 [==============================] - 133s 477ms/step - loss: 8.1490 - val_loss: 8.3977\n",
      "Epoch 13/25\n",
      "279/279 [==============================] - 131s 470ms/step - loss: 8.1657 - val_loss: 8.4171\n",
      "Epoch 14/25\n",
      "279/279 [==============================] - 132s 473ms/step - loss: 8.2849 - val_loss: 8.4019\n",
      "Epoch 15/25\n",
      "279/279 [==============================] - 132s 472ms/step - loss: 8.2480 - val_loss: 8.3450\n",
      "Epoch 16/25\n",
      "279/279 [==============================] - 131s 469ms/step - loss: 8.1787 - val_loss: 8.3456\n",
      "Epoch 17/25\n",
      "279/279 [==============================] - 130s 467ms/step - loss: 8.1766 - val_loss: 8.3840\n",
      "Epoch 18/25\n",
      "279/279 [==============================] - 132s 473ms/step - loss: 8.1398 - val_loss: 8.3352\n",
      "Epoch 19/25\n",
      "279/279 [==============================] - 132s 473ms/step - loss: 8.0900 - val_loss: 8.3258\n",
      "Epoch 20/25\n",
      "279/279 [==============================] - 132s 471ms/step - loss: 8.0807 - val_loss: 8.3420\n",
      "Epoch 21/25\n",
      "279/279 [==============================] - 132s 472ms/step - loss: 8.1308 - val_loss: 8.3571\n",
      "Epoch 22/25\n",
      "279/279 [==============================] - 130s 466ms/step - loss: 8.1306 - val_loss: 8.3349\n",
      "Epoch 23/25\n",
      "279/279 [==============================] - 131s 471ms/step - loss: 8.2144 - val_loss: 8.3291\n",
      "Epoch 24/25\n",
      "279/279 [==============================] - 131s 470ms/step - loss: 8.2101 - val_loss: 8.3552\n",
      "Epoch 25/25\n",
      "279/279 [==============================] - 132s 471ms/step - loss: 8.1360 - val_loss: 8.4136\n"
     ]
    },
    {
     "data": {
      "text/plain": [
       "<keras.callbacks.History at 0x7f46abd14d90>"
      ]
     },
     "execution_count": 77,
     "metadata": {},
     "output_type": "execute_result"
    }
   ],
   "source": [
    "model_3.fit(train_dataloader_3, steps_per_epoch=train_steps_3, epochs=25, validation_data=train_dataloader_3, validation_steps=valid_steps_3)"
   ]
  },
  {
   "cell_type": "code",
   "execution_count": 78,
   "metadata": {
    "colab": {
     "base_uri": "https://localhost:8080/"
    },
    "execution": {
     "iopub.execute_input": "2023-01-24T15:40:16.138041Z",
     "iopub.status.busy": "2023-01-24T15:40:16.137663Z",
     "iopub.status.idle": "2023-01-24T15:40:16.144862Z",
     "shell.execute_reply": "2023-01-24T15:40:16.143818Z",
     "shell.execute_reply.started": "2023-01-24T15:40:16.138005Z"
    },
    "id": "MRbRL2K8zGxM",
    "outputId": "3eeb0bc4-3132-4f45-9989-59451c0ffb0d"
   },
   "outputs": [
    {
     "name": "stdout",
     "output_type": "stream",
     "text": [
      "Model: \"encoder_decoder_5\"\n",
      "_________________________________________________________________\n",
      "Layer (type)                 Output Shape              Param #   \n",
      "=================================================================\n",
      "encoder_7 (Encoder)          multiple                  1652818   \n",
      "_________________________________________________________________\n",
      "decoder_8 (Decoder)          multiple                  5465170   \n",
      "=================================================================\n",
      "Total params: 7,117,988\n",
      "Trainable params: 7,117,988\n",
      "Non-trainable params: 0\n",
      "_________________________________________________________________\n"
     ]
    }
   ],
   "source": [
    "model_3.summary()"
   ]
  },
  {
   "cell_type": "code",
   "execution_count": 79,
   "metadata": {
    "execution": {
     "iopub.execute_input": "2023-01-24T15:40:16.147050Z",
     "iopub.status.busy": "2023-01-24T15:40:16.146363Z",
     "iopub.status.idle": "2023-01-24T15:40:16.158015Z",
     "shell.execute_reply": "2023-01-24T15:40:16.157114Z",
     "shell.execute_reply.started": "2023-01-24T15:40:16.147015Z"
    },
    "id": "5LRVqM68Z9Fz"
   },
   "outputs": [],
   "source": [
    "# ref.: https://github.com/AbhijeetWaghchaure/NLP-Attention-Mechanism/blob/ \n",
    "def predict(input_sentence,plot_1):\n",
    "\n",
    "    token = tknizer_ita.texts_to_sequences([input_sentence])\n",
    "    pad = pad_sequences(token,maxlen=20,padding='post',truncating='post',dtype='int32')\n",
    "    encoder_1 = model_1.layers[0].initialize_states(pad.shape[0])\n",
    "    encoder_ouput_1, encoder_state_h1, encoder_state_c1 = model_1.layers[0](pad, encoder_1)\n",
    "    init_idx = tknizer_eng.word_index['<start>']\n",
    "    init_idx = tf.expand_dims([in_indexs],0)\n",
    "    att = np.zeros((20,20))\n",
    "    \n",
    "    pred_sent = []\n",
    "    for i in range(pad.shape[1]):\n",
    "    decoder_output, decoder_state_h1, decoder_state_c1, w, cv = model_1.layers[1].onestep_decoder(init_idx, encoder_ouput_1,encoder_state_h1,encoder_state_c1)\n",
    "    output_1 = model_1.layers[1](init_idx, encoder_ouput_1, encoder_state_h1, encoder_state_c1)\n",
    "    output_idx = np.argmax(output_1)\n",
    "    wt = tf.reshape(w,(-1, ))\n",
    "    att[j] = wt.numpy()\n",
    "    init_idxs = np.reshape(output_idx,(1,1))\n",
    "    pred_sent.append(tknizer_eng.index_word[output_idx])\n",
    "    \n",
    "    if tknizer_eng.index_word[output_idx]=='<end>':\n",
    "        break\n",
    "    return ' '.join(pred_sent), att\n"
   ]
  },
  {
   "cell_type": "code",
   "execution_count": 80,
   "metadata": {
    "execution": {
     "iopub.execute_input": "2023-01-24T15:40:16.161076Z",
     "iopub.status.busy": "2023-01-24T15:40:16.160579Z",
     "iopub.status.idle": "2023-01-24T15:40:16.168791Z",
     "shell.execute_reply": "2023-01-24T15:40:16.167738Z",
     "shell.execute_reply.started": "2023-01-24T15:40:16.161042Z"
    },
    "id": "P8-4XDE5zKrh"
   },
   "outputs": [],
   "source": [
    "import matplotlib.ticker as ticker\n",
    "def plot_attention(attention,act,pred):\n",
    "  #Refer: https://www.tensorflow.org/tutorials/text/nmt_with_attention#translate\n",
    "\n",
    "  pred,_=predict(act,plot_t2='concat')\n",
    "  plot_att=attention[:len(pred.split(' ')),len(act.split(' '))]\n",
    "  fig,ax = plt.subplots(figsize=(8,6))\n",
    "  ax.matshow(attention,cmap='Blues')\n",
    "  ax.set_xticklabels([''] + act.split(' '), rotation=90)\n",
    "  ax.set_yticklabels([''] + pred.split(' '))\n",
    "  plt.show() \n",
    "  "
   ]
  },
  {
   "cell_type": "code",
   "execution_count": 81,
   "metadata": {
    "colab": {
     "base_uri": "https://localhost:8080/",
     "height": 374
    },
    "execution": {
     "iopub.execute_input": "2023-01-24T15:40:16.171312Z",
     "iopub.status.busy": "2023-01-24T15:40:16.170851Z",
     "iopub.status.idle": "2023-01-24T15:40:17.164659Z",
     "shell.execute_reply": "2023-01-24T15:40:17.163508Z",
     "shell.execute_reply.started": "2023-01-24T15:40:16.171217Z"
    },
    "id": "LLQlEDEGaI_j",
    "outputId": "21c843a9-f7a5-49b8-e3b2-c68f1a6cf61d"
   },
   "outputs": [
    {
     "data": {
      "image/png": "[encoded data removed]",
      "text/plain": [
       "<Figure size 576x432 with 1 Axes>"
      ]
     },
     "metadata": {
      "needs_background": "light"
     },
     "output_type": "display_data"
    }
   ],
   "source": [
    "pred,attention=predict('1 2 3 4','concat')\n",
    "plot_attention(attention,'1 2 3 4',pred)"
   ]
  },
  {
   "cell_type": "code",
   "execution_count": 82,
   "metadata": {
    "colab": {
     "base_uri": "https://localhost:8080/"
    },
    "execution": {
     "iopub.execute_input": "2023-01-24T15:40:17.166668Z",
     "iopub.status.busy": "2023-01-24T15:40:17.166047Z",
     "iopub.status.idle": "2023-01-24T15:44:47.800434Z",
     "shell.execute_reply": "2023-01-24T15:44:47.798844Z",
     "shell.execute_reply.started": "2023-01-24T15:40:17.166631Z"
    },
    "id": "sbmmEMtazNyT",
    "outputId": "5da81fa6-32ca-4580-d0c2-726e8030ae78"
   },
   "outputs": [
    {
     "name": "stdout",
     "output_type": "stream",
     "text": [
      "Bleu Score:  1.1453589005092468e-231\n"
     ]
    }
   ],
   "source": [
    "italian = validation['italian'].values[:1000]\n",
    "english = validation['english_out'].values[:1000]\n",
    "bleu_score = []\n",
    "\n",
    "for i in range(1000):\n",
    "    pred,att = predict(italian[i],'concat')\n",
    "    bleu_score.append(sentence_bleu(english[i],pred))\n",
    "\n",
    "print('Bleu Score: ', np.average(bleu_score))"
   ]
  },
  {
   "cell_type": "markdown",
   "metadata": {
    "id": "GLo30Q7Istma"
   },
   "source": [
    "**OBSERVATIONS OF ATTENTION MECHANISM**"
   ]
  },
  {
   "cell_type": "code",
   "execution_count": 3,
   "metadata": {
    "execution": {
     "iopub.execute_input": "2023-01-24T17:26:26.204191Z",
     "iopub.status.busy": "2023-01-24T17:26:26.203798Z",
     "iopub.status.idle": "2023-01-24T17:26:26.211642Z",
     "shell.execute_reply": "2023-01-24T17:26:26.210657Z",
     "shell.execute_reply.started": "2023-01-24T17:26:26.204158Z"
    }
   },
   "outputs": [
    {
     "name": "stdout",
     "output_type": "stream",
     "text": [
      "+---------+------------------+------------+\n",
      "| Sr. No. | Scoring Function | Bleu Score |\n",
      "+---------+------------------+------------+\n",
      "|    1    |       DOT        |   1.3518   |\n",
      "|    2    |     GENERAL      |   1.5908   |\n",
      "|    3    |      CONCAT      |   1.1453   |\n",
      "+---------+------------------+------------+\n"
     ]
    }
   ],
   "source": [
    "from prettytable import PrettyTable\n",
    "  \n",
    "# Specify the Column Names while initializing the Table\n",
    "Table = PrettyTable([\"Sr. No.\", \"Scoring Function\", \"Bleu Score\"])\n",
    "  \n",
    "# Add rows\n",
    "Table.add_row([\"1\", \"DOT\", \"1.3518\"])\n",
    "Table.add_row([\"2\", \"GENERAL\", \"1.5908\"])\n",
    "Table.add_row([\"3\", \"CONCAT\", \"1.1453\"])\n",
    "                     \n",
    "print(Table)"
   ]
  }
 ],
 "metadata": {
  "accelerator": "GPU",
  "colab": {
   "provenance": []
  },
  "gpuClass": "standard",
  "kernelspec": {
   "display_name": "Python 3 (ipykernel)",
   "language": "python",
   "name": "python3"
  },
  "language_info": {
   "codemirror_mode": {
    "name": "ipython",
    "version": 3
   },
   "file_extension": ".py",
   "mimetype": "text/x-python",
   "name": "python",
   "nbconvert_exporter": "python",
   "pygments_lexer": "ipython3",
   "version": "3.9.13"
  }
 },
 "nbformat": 4,
 "nbformat_minor": 4
}
