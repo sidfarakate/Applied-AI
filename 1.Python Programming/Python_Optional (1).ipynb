{
 "cells": [
  {
   "cell_type": "markdown",
   "metadata": {},
   "source": [
    "1. Write a function that inputs a number and prints the multiplication table of that number\n"
   ]
  },
  {
   "cell_type": "code",
   "execution_count": 1,
   "metadata": {},
   "outputs": [
    {
     "name": "stdout",
     "output_type": "stream",
     "text": [
      "Multiplication Table for: 7\n",
      "7 x 1 = 7\n",
      "7 x 2 = 14\n",
      "7 x 3 = 21\n",
      "7 x 4 = 28\n",
      "7 x 5 = 35\n",
      "7 x 6 = 42\n",
      "7 x 7 = 49\n",
      "7 x 8 = 56\n",
      "7 x 9 = 63\n",
      "7 x 10 = 70\n"
     ]
    }
   ],
   "source": [
    "def Mul_table(num):\n",
    "    print(\"Multiplication Table for:\", num)\n",
    "\n",
    "    for i in range(1,11):\n",
    "        print(num, 'x', i, '=', num*i)\n",
    "        \n",
    "Mul_table(7)"
   ]
  },
  {
   "cell_type": "markdown",
   "metadata": {},
   "source": [
    "2. Write a program to print twin primes less than 1000. If two consecutive odd numbers are\n",
    "both prime then they are known as twin primes"
   ]
  },
  {
   "cell_type": "code",
   "execution_count": 2,
   "metadata": {},
   "outputs": [
    {
     "name": "stdout",
     "output_type": "stream",
     "text": [
      "Twin Prime Numbers between 1 to 1000 : \n",
      "(3, 5)\n",
      "(5, 7)\n",
      "(11, 13)\n",
      "(17, 19)\n",
      "(29, 31)\n",
      "(41, 43)\n",
      "(59, 61)\n",
      "(71, 73)\n",
      "(101, 103)\n",
      "(107, 109)\n",
      "(137, 139)\n",
      "(149, 151)\n",
      "(179, 181)\n",
      "(191, 193)\n",
      "(197, 199)\n",
      "(227, 229)\n",
      "(239, 241)\n",
      "(269, 271)\n",
      "(281, 283)\n",
      "(311, 313)\n",
      "(347, 349)\n",
      "(419, 421)\n",
      "(431, 433)\n",
      "(461, 463)\n",
      "(521, 523)\n",
      "(569, 571)\n",
      "(599, 601)\n",
      "(617, 619)\n",
      "(641, 643)\n",
      "(659, 661)\n",
      "(809, 811)\n",
      "(821, 823)\n",
      "(827, 829)\n",
      "(857, 859)\n",
      "(881, 883)\n"
     ]
    }
   ],
   "source": [
    "def prime(n):\n",
    "    isdivisible = False\n",
    "    \n",
    "    for i in range(2, (n//2)+1):\n",
    "        if (n%i == 0):\n",
    "            isdivisible = True\n",
    "            break\n",
    "    return isdivisible\n",
    "    \n",
    "    \n",
    "print(\"Twin Prime Numbers between 1 to 1000 : \")\n",
    "\n",
    "for i in range(2,1000):\n",
    "    if prime(i) == 0 and prime(i+2) == 0:\n",
    "        print((i, i+2))"
   ]
  },
  {
   "cell_type": "markdown",
   "metadata": {},
   "source": [
    "3. Write a program to find out the prime factors of a number. Example: prime factors of 56 -\n",
    "2, 2, 2, 7"
   ]
  },
  {
   "cell_type": "code",
   "execution_count": 3,
   "metadata": {},
   "outputs": [
    {
     "name": "stdout",
     "output_type": "stream",
     "text": [
      "2, 2, 2, 7, "
     ]
    }
   ],
   "source": [
    "def prime_factor(num):\n",
    "    i = 2\n",
    "    while num > 1:\n",
    "        if num % i == 0:\n",
    "            print(i ,end= \", \")\n",
    "            num = (num // i)\n",
    "        else:\n",
    "            i+= 1\n",
    "            \n",
    "\n",
    "prime_factor(56)"
   ]
  },
  {
   "cell_type": "markdown",
   "metadata": {},
   "source": [
    "4. Write a program to implement these formulae of permutations and combinations.\n",
    "Number of permutations of n objects taken r at a time: p(n, r) = n! / (n-r)!. Number of\n",
    "combinations of n objects taken r at a time is: c(n, r) = n! / (r!*(n-r)!) = p(n,r) / r!\n"
   ]
  },
  {
   "cell_type": "code",
   "execution_count": 4,
   "metadata": {},
   "outputs": [
    {
     "name": "stdout",
     "output_type": "stream",
     "text": [
      "120.0\n",
      "36.0\n"
     ]
    }
   ],
   "source": [
    "def fact(n):\n",
    "    \"\"\"\n",
    "    This is the recursive function to calculate the values\n",
    "    \"\"\"\n",
    "    return 1 if n == 1 else (n * fact(n - 1))\n",
    "\n",
    "def npr(n,r):\n",
    "    return (fact(n)/fact(n-r))\n",
    "\n",
    "def ncr(n,r):\n",
    "    return (npr(n,r)/fact(r))\n",
    "\n",
    "print(npr(6,3))\n",
    "\n",
    "print(ncr(9,2))"
   ]
  },
  {
   "cell_type": "markdown",
   "metadata": {},
   "source": [
    "5. Write a function that converts a decimal number to binary number"
   ]
  },
  {
   "cell_type": "code",
   "execution_count": 5,
   "metadata": {},
   "outputs": [
    {
     "name": "stdout",
     "output_type": "stream",
     "text": [
      "1 1 0 0 1 0 "
     ]
    }
   ],
   "source": [
    "def decimal_to_binary(num):\n",
    "    if num == 0 or num == 1:\n",
    "        print(num, end= \" \")\n",
    "        return\n",
    "    decimal_to_binary(num // 2)\n",
    "    decimal_to_binary(num % 2)\n",
    "    \n",
    "decimal_to_binary(50)"
   ]
  },
  {
   "cell_type": "markdown",
   "metadata": {},
   "source": [
    "6. Write a function cubesum() that accepts an integer and returns the sum of the cubes of\n",
    "individual digits of that number. Use this function to make functions PrintArmstrong() and\n",
    "isArmstrong() to print Armstrong numbers and to find whether is an Armstrong number."
   ]
  },
  {
   "cell_type": "code",
   "execution_count": 7,
   "metadata": {},
   "outputs": [
    {
     "name": "stdout",
     "output_type": "stream",
     "text": [
      "153\n",
      "370\n",
      "371\n",
      "407\n",
      "153 is a Armstrong number\n",
      "205 is not a Armstrong number\n"
     ]
    }
   ],
   "source": [
    "def Cubesum(n):    \n",
    "    sum = 0\n",
    "    while (n != 0): \n",
    "        sum = sum + ((n % 10)**3)\n",
    "        n = n//10\n",
    "    return sum\n",
    "   \n",
    "\n",
    "def Armstrong(n):\n",
    "    for i in range(2,n):\n",
    "        if Cubesum(i) == i:\n",
    "            print(i)\n",
    "\n",
    "Armstrong(1000)\n",
    "    \n",
    "def IsArmstrong(n):    \n",
    "    if Cubesum(n) == n:\n",
    "      print(\"{} is a Armstrong number\".format(n))\n",
    "    else:\n",
    "      print(\"{} is not a Armstrong number\".format(n))\n",
    "\n",
    "IsArmstrong(153)\n",
    "IsArmstrong(205)"
   ]
  },
  {
   "cell_type": "markdown",
   "metadata": {},
   "source": [
    "Reference:\n",
    "https://www.geeksforgeeks.org/python-program-for-sum-the-digits-of-a-given-number/"
   ]
  },
  {
   "cell_type": "markdown",
   "metadata": {},
   "source": [
    "7. Write a function prodDigits() that inputs a number and returns the product of digits of that\n",
    "number."
   ]
  },
  {
   "cell_type": "code",
   "execution_count": 8,
   "metadata": {},
   "outputs": [
    {
     "data": {
      "text/plain": [
       "48"
      ]
     },
     "execution_count": 8,
     "metadata": {},
     "output_type": "execute_result"
    }
   ],
   "source": [
    "from functools  import reduce\n",
    "\n",
    "def ProdDigits(num):\n",
    "    a = map(int, str(num))\n",
    "    \n",
    "    product = reduce(lambda x,y: x*y, a)\n",
    "    return product\n",
    "\n",
    "ProdDigits(86)"
   ]
  },
  {
   "cell_type": "markdown",
   "metadata": {},
   "source": [
    "Reference for converting a integer to list\n",
    "https://stackoverflow.com/questions/13905936/converting-integer-to-digit-list"
   ]
  },
  {
   "cell_type": "markdown",
   "metadata": {},
   "source": [
    "8. If all digits of a number n are multiplied by each other repeating with the product, the one\n",
    "digit number obtained at last is called the multiplicative digital root of n. The number of\n",
    "times digits need to be multiplied to reach one digit is called the multiplicative\n",
    "persistance of n.\n",
    "Example: 86 -> 48 -> 32 -> 6 (MDR 6, MPersistence 3)\n",
    " 341 -> 12->2 (MDR 2, MPersistence 2)\n",
    "Using the function prodDigits() of previous exercise write functions MDR() and\n",
    "MPersistence() that input a number and return its multiplicative digital root and\n",
    "multiplicative persistence respectively"
   ]
  },
  {
   "cell_type": "code",
   "execution_count": 9,
   "metadata": {},
   "outputs": [
    {
     "name": "stdout",
     "output_type": "stream",
     "text": [
      "6\n",
      "3\n"
     ]
    }
   ],
   "source": [
    "def MDR(num):\n",
    "    while(num > 9):\n",
    "        num = ProdDigits(num)\n",
    "    print(num)\n",
    "    \n",
    "        \n",
    "MDR(86)\n",
    "#MDR(341)\n",
    "\n",
    "def MPersistence(num):\n",
    "    i = 0\n",
    "    while(num > 9):\n",
    "        num = ProdDigits(num)\n",
    "        i += 1\n",
    "    print(i)\n",
    "\n",
    "MPersistence(86)\n",
    "#MPersistence(341)"
   ]
  },
  {
   "cell_type": "markdown",
   "metadata": {},
   "source": [
    "9. Write a function sumPdivisors() that finds the sum of proper divisors of a number. Proper\n",
    "divisors of a number are those numbers by which the number is divisible, except the\n",
    "number itself. For example proper divisors of 36 are 1, 2, 3, 4, 6, 9, 18"
   ]
  },
  {
   "cell_type": "code",
   "execution_count": 10,
   "metadata": {},
   "outputs": [
    {
     "data": {
      "text/plain": [
       "[1, 2, 3, 4, 6, 9, 12, 18]"
      ]
     },
     "execution_count": 10,
     "metadata": {},
     "output_type": "execute_result"
    }
   ],
   "source": [
    "def sumPdivisors(n):\n",
    "    \n",
    "    x = []\n",
    "    for i in range(1,n):\n",
    "        if n % i == 0:\n",
    "            x.append(i)\n",
    "    return x\n",
    "        \n",
    "        \n",
    "sumPdivisors(36)"
   ]
  },
  {
   "cell_type": "markdown",
   "metadata": {},
   "source": [
    "10. A number is called perfect if the sum of proper divisors of that number is equal to the\n",
    "number. For example 28 is perfect number, since 1+2+4+7+14=28. Write a program to\n",
    "print all the perfect numbers in a given range"
   ]
  },
  {
   "cell_type": "code",
   "execution_count": 11,
   "metadata": {},
   "outputs": [
    {
     "name": "stdout",
     "output_type": "stream",
     "text": [
      "6\n",
      "28\n",
      "496\n"
     ]
    }
   ],
   "source": [
    "def Perfect(n):\n",
    "    \n",
    "    x = []\n",
    "    for i in range(1,n):\n",
    "        if n % i == 0:\n",
    "            x.append(i)\n",
    "    return sum(x) \n",
    "\n",
    "def IsPerfect(n):\n",
    "    for i in range(1, n+1):\n",
    "        if Perfect(i) == i:\n",
    "            print(i)\n",
    "            \n",
    "IsPerfect(1000)"
   ]
  },
  {
   "cell_type": "markdown",
   "metadata": {},
   "source": [
    "11. Two different numbers are called amicable numbers if the sum of the proper divisors of\n",
    "each is equal to the other number. For example 220 and 284 are amicable numbers.\n",
    "Sum of proper divisors of 220 = 1+2+4+5+10+11+20+22+44+55+110 = 284\n",
    "Sum of proper divisors of 284 = 1+2+4+71+142 = 220\n",
    "Write a function to print pairs of amicable numbers in a range"
   ]
  },
  {
   "cell_type": "code",
   "execution_count": 13,
   "metadata": {},
   "outputs": [
    {
     "name": "stdout",
     "output_type": "stream",
     "text": [
      "220 and 284 are amicable numbers\n",
      "154 and 232 are not amicable numbers\n"
     ]
    }
   ],
   "source": [
    "def Amicable(n):\n",
    "    \n",
    "    x = []\n",
    "    for i in range(1,n):\n",
    "        if n % i == 0:\n",
    "            x.append(i)\n",
    "    return x\n",
    "\n",
    "def IsAmicable(x,y):\n",
    "  if (sum(Amicable(x)) == y and (sum(Amicable(y)) == x)):\n",
    "    print(\"{} and {} are amicable numbers\".format(x,y))\n",
    "  else:\n",
    "    print(\"{} and {} are not amicable numbers\".format(x,y))\n",
    "\n",
    "IsAmicable(220,284)\n",
    "IsAmicable(154,232)"
   ]
  },
  {
   "cell_type": "markdown",
   "metadata": {},
   "source": [
    "12. Write a program which can filter odd numbers in a list by using filter function"
   ]
  },
  {
   "cell_type": "code",
   "execution_count": 14,
   "metadata": {},
   "outputs": [
    {
     "name": "stdout",
     "output_type": "stream",
     "text": [
      "[1, 3, 5, 7, 9, 11, 13, 15, 17, 19, 21, 23, 25, 27, 29]\n"
     ]
    }
   ],
   "source": [
    "lst = list(range(1,30))\n",
    "# print(lst)\n",
    "\n",
    "odd_lst = list(filter(lambda x: x % 2 != 0, lst))\n",
    "print(odd_lst)"
   ]
  },
  {
   "cell_type": "markdown",
   "metadata": {},
   "source": [
    "13. Write a program which can map() to make a list whose elements are cube of elements in\n",
    "a given list"
   ]
  },
  {
   "cell_type": "code",
   "execution_count": 15,
   "metadata": {},
   "outputs": [
    {
     "name": "stdout",
     "output_type": "stream",
     "text": [
      "[1, 8, 27, 64, 125, 216, 343, 512, 729, 1000, 1331, 1728, 2197, 2744, 3375, 4096, 4913, 5832, 6859, 8000, 9261, 10648, 12167, 13824, 15625, 17576, 19683, 21952, 24389]\n"
     ]
    }
   ],
   "source": [
    "l = list(range(1,30))\n",
    "\n",
    "new_list = list(map(lambda x: x**3, l))\n",
    "print(new_list)"
   ]
  },
  {
   "cell_type": "markdown",
   "metadata": {},
   "source": [
    "14. Write a program which can map() and filter() to make a list whose elements are cube of\n",
    "even number in a given list"
   ]
  },
  {
   "cell_type": "code",
   "execution_count": 16,
   "metadata": {},
   "outputs": [
    {
     "name": "stdout",
     "output_type": "stream",
     "text": [
      "[8, 64, 216, 512, 1000, 1728, 2744, 4096, 5832, 8000, 10648, 13824, 17576, 21952]\n"
     ]
    }
   ],
   "source": [
    "list1 = list(range(1,30))\n",
    "\n",
    "new_list1 = list(map(lambda x: x**3, list1))\n",
    "\n",
    "list2 = list(filter(lambda x: x % 2 == 0, new_list1))\n",
    "print(list2)"
   ]
  },
  {
   "cell_type": "code",
   "execution_count": null,
   "metadata": {},
   "outputs": [],
   "source": []
  }
 ],
 "metadata": {
  "kernelspec": {
   "display_name": "Python 3",
   "language": "python",
   "name": "python3"
  },
  "language_info": {
   "codemirror_mode": {
    "name": "ipython",
    "version": 3
   },
   "file_extension": ".py",
   "mimetype": "text/x-python",
   "name": "python",
   "nbconvert_exporter": "python",
   "pygments_lexer": "ipython3",
   "version": "3.6.5"
  }
 },
 "nbformat": 4,
 "nbformat_minor": 2
}
