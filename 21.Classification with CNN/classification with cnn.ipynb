{
 "cells": [
  {
   "cell_type": "markdown",
   "metadata": {
    "colab_type": "text",
    "id": "mDMgSstPYv0P"
   },
   "source": [
    "# Text Classification:\n",
    "\n",
    "## Data\n",
    "<pre>\n",
    "1. we have total of 20 types of documents(Text files) and total 18828 documents(text files).\n",
    "2. You can download data from this <a href='https://drive.google.com/open?id=1rxD15nyeIPIAZ-J2VYPrDRZI66-TBWvM'>link</a>, in that you will get documents.rar folder. <br>If you unzip that, you will get total of 18828 documnets. document name is defined as'ClassLabel_DocumentNumberInThatLabel'. \n",
    "so from document name, you can extract the label for that document.\n",
    "4. Now our problem is to classify all the documents into any one of the class.\n",
    "5. Below we provided count plot of all the labels in our data. \n",
    "</pre>"
   ]
  },
  {
   "cell_type": "code",
   "execution_count": 1,
   "metadata": {},
   "outputs": [],
   "source": [
    "import matplotlib.pyplot as plt\n",
    "%matplotlib inline\n",
    "import re\n",
    "import seaborn as sns\n",
    "import pandas as pd\n",
    "import numpy as np\n",
    "import os\n",
    "import pickle\n",
    "from tqdm import tqdm\n",
    "\n",
    "from nltk import word_tokenize, pos_tag, ne_chunk\n",
    "from nltk.chunk import tree2conlltags\n",
    "\n",
    "from sklearn.model_selection import train_test_split\n",
    "from sklearn.preprocessing import OneHotEncoder\n",
    "\n",
    "import tensorflow as tf\n",
    "from tensorflow.keras.preprocessing.text import Tokenizer\n",
    "from tensorflow.keras.preprocessing.sequence import pad_sequences\n",
    "from tensorflow.keras.regularizers import l2\n",
    "from tensorflow.keras.layers import Input,Dense,Conv1D,concatenate,Embedding,Flatten,Dropout,BatchNormalization,MaxPool1D\n",
    "from tensorflow.keras.models import Model\n",
    "from tensorflow.keras.utils import plot_model\n",
    "from tensorflow.keras.callbacks import ModelCheckpoint\n",
    "from tensorflow.keras.callbacks import TensorBoard\n",
    "from tensorflow.keras.callbacks import EarlyStopping\n",
    "from tensorflow.keras.callbacks import ReduceLROnPlateau\n",
    "import datetime"
   ]
  },
  {
   "cell_type": "code",
   "execution_count": 2,
   "metadata": {},
   "outputs": [
    {
     "name": "stderr",
     "output_type": "stream",
     "text": [
      "100%|███████████████████████████████████████████████████████████████████████████| 18828/18828 [01:24<00:00, 223.55it/s]\n"
     ]
    }
   ],
   "source": [
    "Class_Label = []\n",
    "Text = []\n",
    "Document_Name = []\n",
    "\n",
    "for i in tqdm(os.listdir(r'C:\\Users\\SVF\\OneDrive\\Documents\\documents')):\n",
    "    data = []\n",
    "    Document_Name.append(i)\n",
    "    l = i.split('_')[0]\n",
    "    Class_Label.append(l) # Storing class labels\n",
    "    \n",
    "    # data contains all the contents of the file\n",
    "    with open(r'C:\\Users\\SVF\\OneDrive\\Documents\\documents/'+ i,'r',encoding='utf8', errors='replace') as f:\n",
    "        data.append(f.read())\n",
    "    Text.append(data)\n",
    "    "
   ]
  },
  {
   "cell_type": "code",
   "execution_count": 3,
   "metadata": {},
   "outputs": [
    {
     "data": {
      "text/plain": [
       "18828"
      ]
     },
     "execution_count": 3,
     "metadata": {},
     "output_type": "execute_result"
    }
   ],
   "source": [
    "len(Class_Label)"
   ]
  },
  {
   "cell_type": "code",
   "execution_count": 4,
   "metadata": {
    "colab": {},
    "colab_type": "code",
    "id": "64U9NzWFYv0V",
    "outputId": "f3f19ed2-f637-4a8c-cff7-40a603025e96"
   },
   "outputs": [
    {
     "data": {
      "image/png": "[encoded data removed]",
      "text/plain": [
       "<Figure size 936x576 with 1 Axes>"
      ]
     },
     "metadata": {},
     "output_type": "display_data"
    }
   ],
   "source": [
    "### count plot of all the class labels. \n",
    "plt.figure(figsize=(13,8))\n",
    "sns.countplot(y = Class_Label)\n",
    "plt.show()"
   ]
  },
  {
   "cell_type": "code",
   "execution_count": 5,
   "metadata": {},
   "outputs": [],
   "source": [
    "df = pd.DataFrame({'Text': Text, 'Labels': Class_Label})"
   ]
  },
  {
   "cell_type": "code",
   "execution_count": 6,
   "metadata": {},
   "outputs": [
    {
     "data": {
      "text/html": [
       "<div>\n",
       "<style scoped>\n",
       "    .dataframe tbody tr th:only-of-type {\n",
       "        vertical-align: middle;\n",
       "    }\n",
       "\n",
       "    .dataframe tbody tr th {\n",
       "        vertical-align: top;\n",
       "    }\n",
       "\n",
       "    .dataframe thead th {\n",
       "        text-align: right;\n",
       "    }\n",
       "</style>\n",
       "<table border=\"1\" class=\"dataframe\">\n",
       "  <thead>\n",
       "    <tr style=\"text-align: right;\">\n",
       "      <th></th>\n",
       "      <th>Text</th>\n",
       "      <th>Labels</th>\n",
       "    </tr>\n",
       "  </thead>\n",
       "  <tbody>\n",
       "    <tr>\n",
       "      <th>16544</th>\n",
       "      <td>[From: mau@herky.cs.uiowa.edu (Mau Napoleon)\\n...</td>\n",
       "      <td>talk.politics.mideast</td>\n",
       "    </tr>\n",
       "    <tr>\n",
       "      <th>4927</th>\n",
       "      <td>[From: ianhogg@milli.cs.umn.edu (Ian J. Hogg)\\...</td>\n",
       "      <td>comp.windows.x</td>\n",
       "    </tr>\n",
       "    <tr>\n",
       "      <th>99</th>\n",
       "      <td>[Subject: Re: A visit from the Jehovah's Witne...</td>\n",
       "      <td>alt.atheism</td>\n",
       "    </tr>\n",
       "    <tr>\n",
       "      <th>13517</th>\n",
       "      <td>[From: calzone@athena.mit.edu\\nSubject: Legali...</td>\n",
       "      <td>sci.med</td>\n",
       "    </tr>\n",
       "    <tr>\n",
       "      <th>13505</th>\n",
       "      <td>[From: banschbach@vms.ocom.okstate.edu\\nSubjec...</td>\n",
       "      <td>sci.med</td>\n",
       "    </tr>\n",
       "  </tbody>\n",
       "</table>\n",
       "</div>"
      ],
      "text/plain": [
       "                                                    Text  \\\n",
       "16544  [From: mau@herky.cs.uiowa.edu (Mau Napoleon)\\n...   \n",
       "4927   [From: ianhogg@milli.cs.umn.edu (Ian J. Hogg)\\...   \n",
       "99     [Subject: Re: A visit from the Jehovah's Witne...   \n",
       "13517  [From: calzone@athena.mit.edu\\nSubject: Legali...   \n",
       "13505  [From: banschbach@vms.ocom.okstate.edu\\nSubjec...   \n",
       "\n",
       "                      Labels  \n",
       "16544  talk.politics.mideast  \n",
       "4927          comp.windows.x  \n",
       "99               alt.atheism  \n",
       "13517                sci.med  \n",
       "13505                sci.med  "
      ]
     },
     "execution_count": 6,
     "metadata": {},
     "output_type": "execute_result"
    }
   ],
   "source": [
    "df.sample(5)"
   ]
  },
  {
   "cell_type": "markdown",
   "metadata": {
    "colab_type": "text",
    "id": "2mK4TJOFYv0h"
   },
   "source": [
    "## Assignment:"
   ]
  },
  {
   "cell_type": "markdown",
   "metadata": {
    "colab_type": "text",
    "id": "VlqYFVI3Yv0k"
   },
   "source": [
    "#### sample document\n",
    "<pre>\n",
    "<font color='blue'>\n",
    "Subject: A word of advice\n",
    "From: jcopelan@nyx.cs.du.edu (The One and Only)\n",
    "\n",
    "In article < 65882@mimsy.umd.edu > mangoe@cs.umd.edu (Charley Wingate) writes:\n",
    ">\n",
    ">I've said 100 times that there is no \"alternative\" that should think you\n",
    ">might have caught on by now.  And there is no \"alternative\", but the point\n",
    ">is, \"rationality\" isn't an alternative either.  The problems of metaphysical\n",
    ">and religious knowledge are unsolvable-- or I should say, humans cannot\n",
    ">solve them.\n",
    "\n",
    "How does that saying go: Those who say it can't be done shouldn't interrupt\n",
    "those who are doing it.\n",
    "\n",
    "Jim\n",
    "--\n",
    "Have you washed your brain today?\n",
    "</font>\n",
    "</pre>"
   ]
  },
  {
   "cell_type": "markdown",
   "metadata": {
    "colab_type": "text",
    "id": "KAR5HoR1Yv0m"
   },
   "source": [
    "### Preprocessing:\n",
    "<pre>\n",
    "useful links: <a href='http://www.pyregex.com/'>http://www.pyregex.com/</a>\n",
    "\n",
    "<font color='blue'><b>1.</b></font> Find all emails in the document and then get the text after the \"@\". and then split those texts by '.' \n",
    "after that remove the words whose length is less than or equal to 2 and also remove'com' word and then combine those words by space. \n",
    "In one doc, if we have 2 or more mails, get all.\n",
    "<b>Eg:[test@dm1.d.com, test2@dm2.dm3.com]-->[dm1.d.com, dm3.dm4.com]-->[dm1,d,com,dm2,dm3,com]-->[dm1,dm2,dm3]-->\"dm1 dm2 dm3\" </b> \n",
    "append all those into one list/array. ( This will give length of 18828 sentences i.e one list for each of the document). \n",
    "Some sample output was shown below. \n",
    "\n",
    "> In the above sample document there are emails [jcopelan@nyx.cs.du.edu, 65882@mimsy.umd.edu, mangoe@cs.umd.edu]\n",
    "\n",
    "preprocessing:\n",
    "[jcopelan@nyx.cs.du.edu, 65882@mimsy.umd.edu, mangoe@cs.umd.edu] ==> [nyx cs du edu mimsy umd edu cs umd edu] ==> \n",
    "[nyx edu mimsy umd edu umd edu]\n",
    "\n",
    "<font color='blue'><b>2.</b></font> Replace all the emails by space in the original text. \n",
    "</pre>"
   ]
  },
  {
   "cell_type": "code",
   "execution_count": null,
   "metadata": {
    "colab": {},
    "colab_type": "code",
    "id": "KavKDD9FYv0p",
    "outputId": "0b87ab7b-46df-4995-eaca-4f5831ad223e"
   },
   "outputs": [],
   "source": [
    "# we have collected all emails and preprocessed them, this is sample output\n",
    "preprocessed_email"
   ]
  },
  {
   "cell_type": "code",
   "execution_count": null,
   "metadata": {
    "colab": {},
    "colab_type": "code",
    "id": "obReqs55Yv0v",
    "outputId": "10770414-9be0-4d63-9587-5363a8c10c4d"
   },
   "outputs": [],
   "source": [
    "len(preprocessed_email)"
   ]
  },
  {
   "cell_type": "markdown",
   "metadata": {
    "colab_type": "text",
    "id": "zIovFDQzYv03"
   },
   "source": [
    "<pre>\n",
    "<font color='blue'><b>3.</b></font> Get subject of the text i.e. get the total lines where \"Subject:\" occur and remove \n",
    "the word which are before the \":\" remove the newlines, tabs, punctuations, any special chars.\n",
    "<b>Eg: if we have sentance like \"Subject: Re: Gospel Dating @ \\r\\r\\n\" --> You have to get \"Gospel Dating\"</b> \n",
    "Save all this data into another list/array. \n",
    "\n",
    "<font color='blue'><b>4.</b></font> After you store it in the list, Replace those sentances in original text by space.\n",
    "\n",
    "<font color='blue'><b>5.</b></font> Delete all the sentances where sentence starts with <b>\"Write to:\"</b> or <b>\"From:\"</b>.\n",
    "> In the above sample document check the 2nd line, we should remove that\n",
    "\n",
    "<font color='blue'><b>6.</b></font> Delete all the tags like \"< anyword >\"\n",
    "> In the above sample document check the 4nd line, we should remove that \"< 65882@mimsy.umd.edu >\"\n",
    "\n",
    "\n",
    "<font color='blue'><b>7.</b></font> Delete all the data which are present in the brackets. \n",
    "In many text data, we observed that, they maintained the explanation of sentence \n",
    "or translation of sentence to another language in brackets so remove all those.\n",
    "<b>Eg: \"AAIC-The course that gets you HIRED(AAIC - Der Kurs, der Sie anstellt)\" --> \"AAIC-The course that gets you HIRED\"</b>\n",
    "\n",
    "> In the above sample document check the 4nd line, we should remove that \"(Charley Wingate)\"\n",
    "\n",
    "\n",
    "<font color='blue'><b>8.</b></font> Remove all the newlines('\\n'), tabs('\\t'), \"-\", \"\\\".\n",
    "\n",
    "<font color='blue'><b>9.</b></font> Remove all the words which ends with <b>\":\"</b>.\n",
    "<b>Eg: \"Anyword:\"</b>\n",
    "> In the above sample document check the 4nd line, we should remove that \"writes:\"\n",
    "\n",
    "\n",
    "<font color='blue'><b>10.</b></font> Decontractions, replace words like below to full words. \n",
    "please check the donors choose preprocessing for this \n",
    "<b>Eg: can't -> can not, 's -> is, i've -> i have, i'm -> i am, you're -> you are, i'll --> i will </b>\n",
    "\n",
    "<b> There is no order to do point 6 to 10. but you have to get final output correctly</b>\n",
    "\n",
    "<font color='blue'><b>11.</b></font> Do chunking on the text you have after above preprocessing. \n",
    "Text chunking, also referred to as shallow parsing, is a task that \n",
    "follows Part-Of-Speech Tagging and that adds more structure to the sentence.\n",
    "So it combines the some phrases, named entities into single word.\n",
    "So after that combine all those phrases/named entities by separating <b>\"_\"</b>. \n",
    "And remove the phrases/named entities if that is a \"Person\". \n",
    "You can use <b>nltk.ne_chunk</b> to get these. \n",
    "Below we have given one example. please go through it. \n",
    "\n",
    "useful links: \n",
    "<a href='https://www.nltk.org/book/ch07.html'>https://www.nltk.org/book/ch07.html</a>\n",
    "<a href='https://stackoverflow.com/a/31837224/4084039'>https://stackoverflow.com/a/31837224/4084039</a>\n",
    "<a href='http://www.nltk.org/howto/tree.html'>http://www.nltk.org/howto/tree.html</a>\n",
    "<a href='https://stackoverflow.com/a/44294377/4084039'>https://stackoverflow.com/a/44294377/4084039</a>\n",
    "</pre>"
   ]
  },
  {
   "cell_type": "code",
   "execution_count": null,
   "metadata": {
    "colab": {},
    "colab_type": "code",
    "id": "2lAaKQ6EYv04",
    "outputId": "53b66a94-acef-4002-e51c-002bde4178b4"
   },
   "outputs": [],
   "source": [
    "#i am living in the New York\n",
    "print(\"i am living in the New York -->\", list(chunks))\n",
    "print(\" \")\n",
    "print(\"-\"*50)\n",
    "print(\" \")\n",
    "#My name is Srikanth Varma\n",
    "print(\"My name is Srikanth Varma -->\", list(chunks1))"
   ]
  },
  {
   "cell_type": "markdown",
   "metadata": {
    "colab_type": "text",
    "id": "XV8gzLUjYv0-"
   },
   "source": [
    "<pre>We did chunking for above two lines and then We got one list where each word is mapped to a \n",
    "POS(parts of speech) and also if you see \"New York\" and \"Srikanth Varma\", \n",
    "they got combined and represented as a tree and \"New York\" was referred as \"GPE\" and \"Srikanth Varma\" was referred as \"PERSON\". \n",
    "so now you have to Combine the \"New York\" with <b>\"_\"</b> i.e \"New_York\"\n",
    "and remove the \"Srikanth Varma\" from the above sentence because it is a person.</pre>"
   ]
  },
  {
   "cell_type": "markdown",
   "metadata": {
    "colab_type": "text",
    "id": "VpaC-KF3Yv1A"
   },
   "source": [
    "<pre>\n",
    "<font color='blue'><b>13.</b></font> Replace all the digits with space i.e delete all the digits. \n",
    "> In the above sample document, the 6th line have digit 100, so we have to remove that.\n",
    "\n",
    "<font color='blue'><b>14.</b></font> After doing above points, we observed there might be few word's like\n",
    " <b> \"_word_\" (i.e starting and ending with the _), \"_word\" (i.e starting with the _),\n",
    "  \"word_\" (i.e ending with the _)</b> remove the <b>_</b> from these type of words. \n",
    "\n",
    "<font color='blue'><b>15.</b></font>  We also observed some words like <b> \"OneLetter_word\"- eg: d_berlin, \n",
    "\"TwoLetters_word\" - eg: dr_berlin </b>, in these words we remove the \"OneLetter_\" (d_berlin ==> berlin) and \n",
    "\"TwoLetters_\" (de_berlin ==> berlin). i.e remove the words \n",
    "which are length less than or equal to 2 after spliiting those words by \"_\". \n",
    "\n",
    "<font color='blue'><b>16.</b></font> Convert all the words into lower case and lowe case \n",
    "and remove the words which are greater than or equal to 15 or less than or equal to 2.\n",
    "\n",
    "<font color='blue'><b>17.</b></font> replace all the words except \"A-Za-z_\" with space. \n",
    "\n",
    "<font color='blue'><b>18.</b></font> Now You got Preprocessed Text, email, subject. create a dataframe with those. \n",
    "Below are the columns of the df. \n",
    "</pre>"
   ]
  },
  {
   "cell_type": "code",
   "execution_count": null,
   "metadata": {
    "colab": {},
    "colab_type": "code",
    "id": "hB43OGEfYv1C",
    "outputId": "945bc8a4-1f99-4410-94c8-c776a405b5f0"
   },
   "outputs": [],
   "source": [
    "data.columns"
   ]
  },
  {
   "cell_type": "code",
   "execution_count": null,
   "metadata": {
    "colab": {},
    "colab_type": "code",
    "id": "AM6A19xFYv1I",
    "outputId": "9de13fa8-6604-49a2-8013-6b22f0a256a8"
   },
   "outputs": [],
   "source": [
    "data.iloc[400]"
   ]
  },
  {
   "cell_type": "markdown",
   "metadata": {
    "colab_type": "text",
    "id": "rfWUeIN1Yv1N"
   },
   "source": [
    "### To get above mentioned data frame --> Try to Write Total Preprocessing steps in One Function Named Preprocess as below. "
   ]
  },
  {
   "cell_type": "code",
   "execution_count": 7,
   "metadata": {
    "colab": {},
    "colab_type": "code",
    "id": "uEGEHTNQYv1N"
   },
   "outputs": [],
   "source": [
    "def preprocess(Input_Text):\n",
    "    \"\"\"Do all the Preprocessing as shown above and\n",
    "    return a tuple contain preprocess_email,preprocess_subject,preprocess_text for that Text_data\"\"\"\n",
    "    \n",
    "    # Preprocessing E-mails\n",
    "    Pre_processed_emails = []\n",
    "    list_of_preprocessed_email = ' '\n",
    "    emails = re.findall(r'[\\w\\.-]+@[\\w\\.-]+\\.\\w+', str(Input_Text))\n",
    "    for e in emails:\n",
    "        temp_email = e.split(\"@\")[1]\n",
    "        temp_email = temp_email.split('.')\n",
    "        temp_email = [em for em in temp_email if len(em) > 2 and em != 'com']\n",
    "        Pre_processed_emails.extend(temp_email)\n",
    "    list_of_preprocessed_email =' '.join(Pre_processed_emails)\n",
    "        \n",
    "    # Replace all the emails by space in the original text.\n",
    "    Text = re.sub(r'[\\w\\.-]+@[\\w\\.-]+\\.\\w+', ' ', Input_Text)\n",
    "    \n",
    "    # Preprecessing Subject\n",
    "    subject = re.findall(\"Subject:.*\", Input_Text)\n",
    "    subject = re.sub(r'(Subject: | [^A-Za-z0-9\\s])', '', subject[0])\n",
    "    \n",
    "    # Replace subject: by space in the original text.\n",
    "    Text = re.sub('Subject: ','', Text)\n",
    "    \n",
    "    # Delete all the sentances where sentence starts with \"Write to:\" or \"From:\".\n",
    "    Text = re.sub(r'(Write To: | From:).*', '', Text)\n",
    "    \n",
    "    # Delete all the tags like \"< anyword >\"\n",
    "    Text = re.sub(r'<.*?>', '', Text)\n",
    "    \n",
    "    # Delete all the data which are present in the brackets.\n",
    "    Text = re.sub(r'\\(.*\\)','',Text)\n",
    "    \n",
    "    # Remove all the newlines('\\n'), tabs('\\t'), \"-\", \"\\\".\n",
    "    Text = re.sub(r'[\\n\\t-]*','', Text)\n",
    "    \n",
    "    # Remove all the words which ends with \":\".\n",
    "    Text = re.sub(r'\\w+:\\s?','', Text)\n",
    "    \n",
    "    # Decontractions, replace words like into full words.\n",
    "    Text = re.sub(r\"\\'m\", \" am\", Text)\n",
    "    Text = re.sub(r\"\\'s\", \" is\", Text)\n",
    "    Text = re.sub(r\"\\'re\", \" are\", Text)\n",
    "    Text = re.sub(r\"\\'t\", \" not\", Text)\n",
    "    Text = re.sub(r\"\\'ll\", \" will\", Text)\n",
    "    Text = re.sub(r\"\\'ve\", \" have\", Text)\n",
    "    Text = re.sub(r\"\\'d\", \" would\", Text)\n",
    "    Text = re.sub(r\"won't\", \"will not\", Text)\n",
    "    Text = re.sub(r\"can\\'t\", \"can not\", Text)\n",
    "    \n",
    "    # Do chunking on the text\n",
    "    # Ref:https://stackoverflow.com/questions/31836058/nltk-named-entity-recognition-to-a-python-list/44294377#44294377 \n",
    "    chunked = ne_chunk(pos_tag(word_tokenize(Text)))     \n",
    "    new_chunk = []\n",
    "    current_chunk = []\n",
    "    for i in chunked:\n",
    "        if type(i) == 'Tree' and i.label() == 'GPE':\n",
    "            current_chunk.append(\" \".join([token for token, pos in i.leaves()]))\n",
    "            new_chunk.append(\"_\".join([token for token, pos in i.leaves()]))\n",
    "            \n",
    "            for j in range(len(new_chunk)):\n",
    "                Text = Text.replace(current_chunk[j], new_chunk[j])\n",
    "                           \n",
    "        if type(i)== 'Tree' and i.label() == 'PERSON':\n",
    "            for token, pos in i.leaves():\n",
    "                Text.replace(token, '')\n",
    "                           \n",
    "    # Replace all the digits with space i.e delete all the digits.\n",
    "    Text = re.sub('\\d', '', Text)\n",
    "    \n",
    "    # https://stackoverflow.com/questions/55011380/regex-to-match-words-both-starting-and-ending-with-underscore-with-python-3/55011613\n",
    "    Text = re.sub(r\"\\b_([a-zA-z\\d]+)_\\b\", r\"\\1\", Text) \n",
    "    Text = re.sub(r\"\\b_([a-zA-z\\d]+)\\b\", r\"\\1\", Text) \n",
    "    Text = re.sub(r\"\\b([a-zA-z\\d]+)_\\b\", r\"\\1\", Text)\n",
    "                           \n",
    "    Text = re.sub(r\"\\b[a-zA-Z]{1}_([a-zA-Z]+)\", r\"\\1\", Text)\n",
    "    Text = re.sub(r\"\\b[a-zA-Z]{2}_([a-zA-Z]+)\", r\"\\1\", Text)\n",
    "                           \n",
    "    # Convert all the words into lower case\n",
    "    Text = Text.lower() \n",
    "    \n",
    "    # Ref: https://github.com/Naveenkateghar/Document-Classification-with-CNN/blob/main/Text_Classification_with_convolutional__layers.ipynb                       \n",
    "    Text = re.sub(r'\\b\\w{1,2}\\b', '', Text) #remove the words which are less than 2\n",
    "    Text = re.sub(r'\\b\\w{15,}\\b', '', Text) #remove the words which are greater than or equal to 15\n",
    "    \n",
    "    # replace all the words except \"A-Za-z_\" with space.\n",
    "    Text= re.sub(r\"[^a-zA-Z_]\" ,\" \" ,Text)\n",
    "\n",
    "\n",
    "    return (list_of_preprocessed_email, subject, Text)"
   ]
  },
  {
   "cell_type": "markdown",
   "metadata": {
    "colab_type": "text",
    "id": "ceASjKizYv1U"
   },
   "source": [
    "### Code checking:\n",
    "\n",
    "<font color='red' size=4>\n",
    "After Writing preprocess function. call that functoin with the input text of 'alt.atheism_49960' doc and print the output of the preprocess function\n",
    "<br>\n",
    "This will help us to evaluate faster, based on the output we can suggest you if there are any changes.\n",
    "</font>"
   ]
  },
  {
   "cell_type": "markdown",
   "metadata": {
    "colab_type": "text",
    "id": "2x3og_iaYv1S"
   },
   "source": [
    "### After writing Preprocess function, call the function for each of the document(18828 docs) and then create a dataframe as mentioned above."
   ]
  },
  {
   "cell_type": "markdown",
   "metadata": {
    "colab_type": "text",
    "id": "n3ucJLtWYv1V"
   },
   "source": [
    "### Training The models to Classify: \n",
    "\n",
    "<pre>\n",
    "1. Combine \"preprocessed_text\", \"preprocessed_subject\", \"preprocessed_emails\" into one column. use that column to model. \n",
    "\n",
    "2. Now Split the data into Train and test. use 25% for test also do a stratify split. \n",
    "\n",
    "3. Analyze your text data and pad the sequnce if required. \n",
    "Sequnce length is not restricted, you can use anything of your choice. \n",
    "you need to give the reasoning\n",
    "\n",
    "4. Do Tokenizer i.e convert text into numbers. please be careful while doing it. \n",
    "if you are using tf.keras \"Tokenizer\" API, it removes the <b>\"_\"</b>, but we need that.\n",
    "\n",
    "5. code the model's ( Model-1, Model-2 ) as discussed below \n",
    "and try to optimize that models.  \n",
    "\n",
    "6. For every model use predefined Glove vectors. \n",
    "<b>Don't train any word vectors while Training the model.</b>\n",
    "\n",
    "7. Use \"categorical_crossentropy\" as Loss. \n",
    "\n",
    "8. Use <b>Accuracy and Micro Avgeraged F1 score</b> as your as Key metrics to evaluate your model. \n",
    "\n",
    "9.  Use Tensorboard to plot the loss and Metrics based on the epoches.\n",
    "\n",
    "10. Please save your best model weights in to <b>'best_model_L.h5' ( L = 1 or 2 )</b>. \n",
    "\n",
    "11. You are free to choose any Activation function, learning rate, optimizer.\n",
    "But have to use the same architecture which we are giving below.\n",
    "\n",
    "12. You can add some layer to our architecture but you <b>deletion</b> of layer is not acceptable.\n",
    "\n",
    "13. Try to use <b>Early Stopping</b> technique or any of the callback techniques that you did in the previous assignments.\n",
    "\n",
    "14. For Every model save your model to image ( Plot the model) with shapes \n",
    "and inlcude those images in the notebook markdown cell, \n",
    "upload those imgages to Classroom. You can use \"plot_model\" \n",
    "please refer <a href='https://www.tensorflow.org/api_docs/python/tf/keras/utils/plot_model'>this</a> if you don't know how to plot the model with shapes. \n",
    "\n",
    "</pre>"
   ]
  },
  {
   "cell_type": "code",
   "execution_count": 8,
   "metadata": {},
   "outputs": [
    {
     "name": "stderr",
     "output_type": "stream",
     "text": [
      "100%|██████████████████████████████████████████████████████████████████████████| 18828/18828 [00:03<00:00, 6029.50it/s]\n"
     ]
    }
   ],
   "source": [
    "data = []\n",
    "for i in tqdm(os.listdir(r'C:\\Users\\SVF\\OneDrive\\Documents\\documents')):\n",
    "    with open(r'C:\\Users\\SVF\\OneDrive\\Documents\\documents/'+ i,'r',encoding='utf8', errors='replace') as f:\n",
    "        data.append(f.read())"
   ]
  },
  {
   "cell_type": "code",
   "execution_count": 9,
   "metadata": {},
   "outputs": [
    {
     "name": "stderr",
     "output_type": "stream",
     "text": [
      "100%|████████████████████████████████████████████████████████████████████████████| 18828/18828 [46:31<00:00,  6.74it/s]\n"
     ]
    }
   ],
   "source": [
    "pre_processed_text=[]\n",
    "pre_processed_subject=[]\n",
    "pre_processed_emails=[]\n",
    "\n",
    "for i in tqdm(range(len(data))):\n",
    "    em,s,txt = preprocess(data[i])\n",
    "    pre_processed_text.append(txt)\n",
    "    pre_processed_subject.append(s)\n",
    "    pre_processed_emails.append(em)"
   ]
  },
  {
   "cell_type": "code",
   "execution_count": 10,
   "metadata": {},
   "outputs": [
    {
     "data": {
      "text/html": [
       "<div>\n",
       "<style scoped>\n",
       "    .dataframe tbody tr th:only-of-type {\n",
       "        vertical-align: middle;\n",
       "    }\n",
       "\n",
       "    .dataframe tbody tr th {\n",
       "        vertical-align: top;\n",
       "    }\n",
       "\n",
       "    .dataframe thead th {\n",
       "        text-align: right;\n",
       "    }\n",
       "</style>\n",
       "<table border=\"1\" class=\"dataframe\">\n",
       "  <thead>\n",
       "    <tr style=\"text-align: right;\">\n",
       "      <th></th>\n",
       "      <th>Text</th>\n",
       "      <th>Labels</th>\n",
       "      <th>Preprocessed Subject</th>\n",
       "      <th>Preprocessed Email</th>\n",
       "      <th>Preprocessed Text</th>\n",
       "      <th>Data Preprocessed</th>\n",
       "    </tr>\n",
       "  </thead>\n",
       "  <tbody>\n",
       "    <tr>\n",
       "      <th>14645</th>\n",
       "      <td>[From: topcat!tom@tredysvr.tredydev.unisys.com...</td>\n",
       "      <td>soc.religion.christian</td>\n",
       "      <td>Re: old vs. new testament</td>\n",
       "      <td>tredysvr tredydev unisys fnal fnal gov</td>\n",
       "      <td>topcat   old   new testament    can jillustrat...</td>\n",
       "      <td>tredysvr tredydev unisys fnal fnal gov Re: old...</td>\n",
       "    </tr>\n",
       "    <tr>\n",
       "      <th>4360</th>\n",
       "      <td>[From: jcs@sage.cc.purdue.edu (Stalnaker)\\nSub...</td>\n",
       "      <td>comp.sys.mac.hardware</td>\n",
       "      <td>System 6.0.8L</td>\n",
       "      <td>sage purdue edu sage purdue edu</td>\n",
       "      <td>system                    ernest stalnaker  ...</td>\n",
       "      <td>sage purdue edu sage purdue edu System 6.0.8L ...</td>\n",
       "    </tr>\n",
       "  </tbody>\n",
       "</table>\n",
       "</div>"
      ],
      "text/plain": [
       "                                                    Text  \\\n",
       "14645  [From: topcat!tom@tredysvr.tredydev.unisys.com...   \n",
       "4360   [From: jcs@sage.cc.purdue.edu (Stalnaker)\\nSub...   \n",
       "\n",
       "                       Labels       Preprocessed Subject  \\\n",
       "14645  soc.religion.christian  Re: old vs. new testament   \n",
       "4360    comp.sys.mac.hardware              System 6.0.8L   \n",
       "\n",
       "                           Preprocessed Email  \\\n",
       "14645  tredysvr tredydev unisys fnal fnal gov   \n",
       "4360          sage purdue edu sage purdue edu   \n",
       "\n",
       "                                       Preprocessed Text  \\\n",
       "14645  topcat   old   new testament    can jillustrat...   \n",
       "4360     system                    ernest stalnaker  ...   \n",
       "\n",
       "                                       Data Preprocessed  \n",
       "14645  tredysvr tredydev unisys fnal fnal gov Re: old...  \n",
       "4360   sage purdue edu sage purdue edu System 6.0.8L ...  "
      ]
     },
     "execution_count": 10,
     "metadata": {},
     "output_type": "execute_result"
    }
   ],
   "source": [
    "df['Preprocessed Subject'] = pre_processed_subject\n",
    "df['Preprocessed Email'] = pre_processed_emails\n",
    "df['Preprocessed Text'] = pre_processed_text\n",
    "\n",
    "df['Data Preprocessed'] = df['Preprocessed Email'] + ' ' + df['Preprocessed Subject'] + ' ' + df['Preprocessed Text']\n",
    "\n",
    "df.sample(2)"
   ]
  },
  {
   "cell_type": "code",
   "execution_count": 11,
   "metadata": {},
   "outputs": [],
   "source": [
    "df.to_csv('Preprocessed Data.csv')"
   ]
  },
  {
   "cell_type": "code",
   "execution_count": 12,
   "metadata": {},
   "outputs": [
    {
     "data": {
      "text/html": [
       "<div>\n",
       "<style scoped>\n",
       "    .dataframe tbody tr th:only-of-type {\n",
       "        vertical-align: middle;\n",
       "    }\n",
       "\n",
       "    .dataframe tbody tr th {\n",
       "        vertical-align: top;\n",
       "    }\n",
       "\n",
       "    .dataframe thead th {\n",
       "        text-align: right;\n",
       "    }\n",
       "</style>\n",
       "<table border=\"1\" class=\"dataframe\">\n",
       "  <thead>\n",
       "    <tr style=\"text-align: right;\">\n",
       "      <th></th>\n",
       "      <th>Unnamed: 0</th>\n",
       "      <th>Text</th>\n",
       "      <th>Labels</th>\n",
       "      <th>Preprocessed Subject</th>\n",
       "      <th>Preprocessed Email</th>\n",
       "      <th>Preprocessed Text</th>\n",
       "      <th>Data Preprocessed</th>\n",
       "    </tr>\n",
       "  </thead>\n",
       "  <tbody>\n",
       "    <tr>\n",
       "      <th>0</th>\n",
       "      <td>0</td>\n",
       "      <td>['From: mathew &lt;mathew@mantis.co.uk&gt;\\nSubject:...</td>\n",
       "      <td>alt.atheism</td>\n",
       "      <td>Alt.Atheism FAQ: Atheist Resources</td>\n",
       "      <td>mantis netcom mantis</td>\n",
       "      <td>mathew alt atheism atheist atheism  december  ...</td>\n",
       "      <td>mantis netcom mantis Alt.Atheism FAQ: Atheist ...</td>\n",
       "    </tr>\n",
       "  </tbody>\n",
       "</table>\n",
       "</div>"
      ],
      "text/plain": [
       "   Unnamed: 0                                               Text       Labels  \\\n",
       "0           0  ['From: mathew <mathew@mantis.co.uk>\\nSubject:...  alt.atheism   \n",
       "\n",
       "                 Preprocessed Subject    Preprocessed Email  \\\n",
       "0  Alt.Atheism FAQ: Atheist Resources  mantis netcom mantis   \n",
       "\n",
       "                                   Preprocessed Text  \\\n",
       "0  mathew alt atheism atheist atheism  december  ...   \n",
       "\n",
       "                                   Data Preprocessed  \n",
       "0  mantis netcom mantis Alt.Atheism FAQ: Atheist ...  "
      ]
     },
     "execution_count": 12,
     "metadata": {},
     "output_type": "execute_result"
    }
   ],
   "source": [
    "data = pd.read_csv(r'C:\\Users\\SVF\\Downloads\\IPYNB\\AAIC Assignments\\21. Classification with CNN/Preprocessed Data.csv')\n",
    "data.head(1)"
   ]
  },
  {
   "cell_type": "code",
   "execution_count": 13,
   "metadata": {},
   "outputs": [],
   "source": [
    "from sklearn.model_selection import train_test_split\n",
    "\n",
    "X = data[['Data Preprocessed']]\n",
    "y = data[['Labels']]\n",
    "\n",
    "X_train, X_test, y_train, y_test = train_test_split(X, y, test_size= 0.25, random_state= 42, stratify= y)"
   ]
  },
  {
   "cell_type": "code",
   "execution_count": 14,
   "metadata": {},
   "outputs": [],
   "source": [
    "ohe=OneHotEncoder()\n",
    "\n",
    "y_train_ohe = ohe.fit_transform(np.array(y_train).reshape(-1,1))\n",
    "y_test_ohe = ohe.transform(np.array(y_test).reshape(-1,1))"
   ]
  },
  {
   "cell_type": "code",
   "execution_count": 15,
   "metadata": {},
   "outputs": [],
   "source": [
    "# Ref: https://machinelearningmastery.com/use-word-embedding-layers-deep-learning-keras/\n",
    "\n",
    "# prepare tokenizer\n",
    "token = Tokenizer(filters='!\"#$%&()*+,-./:;<=>?@[\\\\]^`{|}~\\t\\n')\n",
    "token.fit_on_texts(X_train['Data Preprocessed'])\n",
    "\n",
    "vocab_size = len(token.word_index) + 1\n",
    "\n",
    "# integer encode the documents\n",
    "encoded_docs_train = token.texts_to_sequences(X_train['Data Preprocessed'])\n",
    "#print(encoded_docs_train)\n",
    "encoded_docs_test = token.texts_to_sequences(X_test['Data Preprocessed'])\n",
    "# print(encoded_docs_test)\n",
    "\n",
    "# pad documents to the average length of documenents from the corpus\n",
    "length = round((X_train['Data Preprocessed'].str.split().str.len()).mean())\n",
    "\n",
    "padded_docs_train = pad_sequences(encoded_docs_train, maxlen = length, padding = 'post')\n",
    "#print(padded_docs_train.shape)\n",
    "padded_docs_test = pad_sequences(encoded_docs_test, maxlen = length, padding = 'post')\n",
    "#print(padded_docs_test.shape)"
   ]
  },
  {
   "cell_type": "code",
   "execution_count": 16,
   "metadata": {},
   "outputs": [
    {
     "name": "stdout",
     "output_type": "stream",
     "text": [
      "Loaded 400000 word vectors.\n"
     ]
    }
   ],
   "source": [
    "# load the whole embedding into memory\n",
    "embeddings_index = dict()\n",
    "f = open(r'C:\\Users\\SVF\\Downloads\\glove.6B/glove.6B.100d.txt', 'r', encoding=\"utf8\")\n",
    "for line in f:\n",
    "    values = line.split()\n",
    "    word = values[0]\n",
    "    coefs = np.asarray(values[1:], dtype='float32')\n",
    "    embeddings_index[word] = coefs\n",
    "f.close()\n",
    "print('Loaded %s word vectors.' % len(embeddings_index))"
   ]
  },
  {
   "cell_type": "code",
   "execution_count": 17,
   "metadata": {},
   "outputs": [],
   "source": [
    "# create a weight matrix for words in training docs\n",
    "\n",
    "embedding_matrix = np.zeros((vocab_size, 100))\n",
    "for word, i in token.word_index.items():\n",
    "    embedding_vector = embeddings_index.get(word)\n",
    "    if embedding_vector is not None:\n",
    "        embedding_matrix[i] = embedding_vector"
   ]
  },
  {
   "cell_type": "markdown",
   "metadata": {
    "colab_type": "text",
    "id": "c0mwdtcvYv1X"
   },
   "source": [
    "### Model-1: Using 1D convolutions with word embeddings"
   ]
  },
  {
   "cell_type": "markdown",
   "metadata": {
    "colab_type": "text",
    "id": "gXPPsovJ3ePk"
   },
   "source": [
    "<pre>\n",
    "<b>Encoding of the Text </b> --> For a given text data create a Matrix with Embedding layer as shown Below. \n",
    "In the example we have considered d = 5, but in this assignment we will get d = dimension of Word vectors we are using.\n",
    " i.e if we have maximum of 350 words in a sentence and embedding of 300 dim word vector, \n",
    " we result in 350*300 dimensional matrix for each sentance as output after embedding layer\n",
    "<img src='https://i.imgur.com/kiVQuk1.png'>\n",
    "Ref: https://i.imgur.com/kiVQuk1.png\n",
    "\n",
    "<b>Reference:</b>\n",
    "<a href='https://stackoverflow.com/a/43399308/4084039'>https://stackoverflow.com/a/43399308/4084039</a>\n",
    "<a href='https://missinglink.ai/guides/keras/keras-conv1d-working-1d-convolutional-neural-networks-keras/'>https://missinglink.ai/guides/keras/keras-conv1d-working-1d-convolutional-neural-networks-keras/</a>\n",
    "\n",
    "<b><a href='https://stats.stackexchange.com/questions/270546/how-does-keras-embedding-layer-work'>How EMBEDDING LAYER WORKS </a></b>\n",
    "\n",
    "</pre>\n",
    "\n",
    "### Go through this blog, if you have any doubt on using predefined Embedding values in Embedding layer - https://machinelearningmastery.com/use-word-embedding-layers-deep-learning-keras/"
   ]
  },
  {
   "cell_type": "markdown",
   "metadata": {
    "colab_type": "text",
    "id": "wGVQKge3Yv1e"
   },
   "source": [
    "<img src='https://i.imgur.com/fv1GvFJ.png'>\n",
    "ref: 'https://i.imgur.com/fv1GvFJ.png'"
   ]
  },
  {
   "cell_type": "markdown",
   "metadata": {
    "colab_type": "text",
    "id": "GC6SBG5AYv1f"
   },
   "source": [
    "<pre>\n",
    "1. all are Conv1D layers with any number of filter and filter sizes, there is no restriction on this.\n",
    "\n",
    "2. use concatenate layer is to concatenate all the filters/channels. \n",
    "\n",
    "3. You can use any pool size and stride for maxpooling layer.\n",
    "\n",
    "4. Don't use more than 16 filters in one Conv layer becuase it will increase the no of params. \n",
    "( Only recommendation if you have less computing power )\n",
    "\n",
    "5. You can use any number of layers after the Flatten Layer.\n",
    "</pre>"
   ]
  },
  {
   "cell_type": "code",
   "execution_count": 18,
   "metadata": {},
   "outputs": [],
   "source": [
    "import tensorflow_addons as tfa\n",
    "\n",
    "input = Input(shape=(length,))\n",
    "embedding = Embedding(vocab_size, 100, weights=[embedding_matrix], trainable=False, input_length=length)(input)\n",
    "\n",
    "conv_1 = Conv1D(filters=16, kernel_size=2, activation='relu', kernel_initializer=tf.keras.initializers.he_uniform())(embedding)\n",
    "conv_2 = Conv1D(filters=16, kernel_size=2, activation='relu', kernel_initializer=tf.keras.initializers.he_uniform())(embedding)\n",
    "conv_3 = Conv1D(filters=16, kernel_size=2, activation='relu', kernel_initializer=tf.keras.initializers.he_uniform())(embedding)\n",
    "\n",
    "concat = concatenate([conv_1,conv_2,conv_3])\n",
    "\n",
    "maxpool = MaxPool1D(pool_size=2, strides=2)(concat)\n",
    "\n",
    "conv_4 = Conv1D(filters=16, kernel_size=2, activation='relu', kernel_initializer=tf.keras.initializers.he_uniform())(maxpool)\n",
    "conv_5 = Conv1D(filters=16, kernel_size=2, activation='relu', kernel_initializer=tf.keras.initializers.he_uniform())(maxpool)\n",
    "conv_6 = Conv1D(filters=16, kernel_size=2, activation='relu', kernel_initializer=tf.keras.initializers.he_uniform())(maxpool)\n",
    "\n",
    "concat = concatenate([conv_4, conv_5, conv_6])\n",
    "\n",
    "maxpool = MaxPool1D(pool_size=2, strides=2)(concat) \n",
    "\n",
    "conv_7 = Conv1D(filters=16, kernel_size=2, activation='relu', kernel_initializer=tf.keras.initializers.he_uniform())(maxpool)\n",
    "\n",
    "flatten=Flatten()(conv_7)\n",
    "\n",
    "dropout = Dropout(rate=0.2)(flatten)\n",
    "\n",
    "dense = Dense(48, activation='relu', kernel_initializer=tf.keras.initializers.he_uniform())(dropout)\n",
    "\n",
    "output = Dense(20,activation='softmax',kernel_initializer=tf.keras.initializers.he_uniform())(dense)\n",
    "\n",
    "# Creating a model\n",
    "model = Model(inputs=input ,outputs=output)\n",
    "\n",
    "earlystop = EarlyStopping(monitor='acc', patience=2, verbose=1)\n",
    "\n",
    "log_dir=\"logs/fit/\" + datetime.datetime.now().strftime(\"%Y%m%d-%H%M%S\")\n",
    "tensorboard_callback = tf.keras.callbacks.TensorBoard(log_dir=log_dir, histogram_freq=1)\n",
    "\n",
    "filepath = \"best_model_1.h5\"\n",
    "checkpoint = ModelCheckpoint(filepath,monitor='acc',verbose=1,mode='auto',save_best_only=True)\n",
    "\n",
    "callback_list = [checkpoint, earlystop, tensorboard_callback]\n",
    "optimizer = tf.keras.optimizers.Adam()\n",
    "\n",
    "# Ref: https://www.tensorflow.org/addons/api_docs/python/tfa/metrics/F1Score\n",
    "model.compile(optimizer, loss='BinaryCrossentropy', metrics=['acc', tfa.metrics.F1Score(num_classes=20, average= 'micro')])\n"
   ]
  },
  {
   "cell_type": "code",
   "execution_count": 19,
   "metadata": {},
   "outputs": [
    {
     "name": "stdout",
     "output_type": "stream",
     "text": [
      "Model: \"model\"\n",
      "__________________________________________________________________________________________________\n",
      "Layer (type)                    Output Shape         Param #     Connected to                     \n",
      "==================================================================================================\n",
      "input_1 (InputLayer)            [(None, 197)]        0                                            \n",
      "__________________________________________________________________________________________________\n",
      "embedding (Embedding)           (None, 197, 100)     15673500    input_1[0][0]                    \n",
      "__________________________________________________________________________________________________\n",
      "conv1d (Conv1D)                 (None, 196, 16)      3216        embedding[0][0]                  \n",
      "__________________________________________________________________________________________________\n",
      "conv1d_1 (Conv1D)               (None, 196, 16)      3216        embedding[0][0]                  \n",
      "__________________________________________________________________________________________________\n",
      "conv1d_2 (Conv1D)               (None, 196, 16)      3216        embedding[0][0]                  \n",
      "__________________________________________________________________________________________________\n",
      "concatenate (Concatenate)       (None, 196, 48)      0           conv1d[0][0]                     \n",
      "                                                                 conv1d_1[0][0]                   \n",
      "                                                                 conv1d_2[0][0]                   \n",
      "__________________________________________________________________________________________________\n",
      "max_pooling1d (MaxPooling1D)    (None, 98, 48)       0           concatenate[0][0]                \n",
      "__________________________________________________________________________________________________\n",
      "conv1d_3 (Conv1D)               (None, 97, 16)       1552        max_pooling1d[0][0]              \n",
      "__________________________________________________________________________________________________\n",
      "conv1d_4 (Conv1D)               (None, 97, 16)       1552        max_pooling1d[0][0]              \n",
      "__________________________________________________________________________________________________\n",
      "conv1d_5 (Conv1D)               (None, 97, 16)       1552        max_pooling1d[0][0]              \n",
      "__________________________________________________________________________________________________\n",
      "concatenate_1 (Concatenate)     (None, 97, 48)       0           conv1d_3[0][0]                   \n",
      "                                                                 conv1d_4[0][0]                   \n",
      "                                                                 conv1d_5[0][0]                   \n",
      "__________________________________________________________________________________________________\n",
      "max_pooling1d_1 (MaxPooling1D)  (None, 48, 48)       0           concatenate_1[0][0]              \n",
      "__________________________________________________________________________________________________\n",
      "conv1d_6 (Conv1D)               (None, 47, 16)       1552        max_pooling1d_1[0][0]            \n",
      "__________________________________________________________________________________________________\n",
      "flatten (Flatten)               (None, 752)          0           conv1d_6[0][0]                   \n",
      "__________________________________________________________________________________________________\n",
      "dropout (Dropout)               (None, 752)          0           flatten[0][0]                    \n",
      "__________________________________________________________________________________________________\n",
      "dense (Dense)                   (None, 48)           36144       dropout[0][0]                    \n",
      "__________________________________________________________________________________________________\n",
      "dense_1 (Dense)                 (None, 20)           980         dense[0][0]                      \n",
      "==================================================================================================\n",
      "Total params: 15,726,480\n",
      "Trainable params: 52,980\n",
      "Non-trainable params: 15,673,500\n",
      "__________________________________________________________________________________________________\n"
     ]
    }
   ],
   "source": [
    "model.summary()"
   ]
  },
  {
   "cell_type": "code",
   "execution_count": 20,
   "metadata": {},
   "outputs": [
    {
     "name": "stdout",
     "output_type": "stream",
     "text": [
      "Epoch 1/12\n",
      "354/354 [==============================] - 30s 56ms/step - loss: 0.1926 - acc: 0.1617 - f1_score: 0.1617 - val_loss: 0.1441 - val_acc: 0.3376 - val_f1_score: 0.3376\n",
      "\n",
      "Epoch 00001: acc improved from -inf to 0.16174, saving model to best_model_1.h5\n",
      "Epoch 2/12\n",
      "354/354 [==============================] - 16s 45ms/step - loss: 0.1256 - acc: 0.4369 - f1_score: 0.4369 - val_loss: 0.1121 - val_acc: 0.4993 - val_f1_score: 0.4993\n",
      "\n",
      "Epoch 00002: acc improved from 0.16174 to 0.43687, saving model to best_model_1.h5\n",
      "Epoch 3/12\n",
      "354/354 [==============================] - 16s 45ms/step - loss: 0.1009 - acc: 0.5664 - f1_score: 0.5664 - val_loss: 0.0950 - val_acc: 0.5929 - val_f1_score: 0.5929\n",
      "\n",
      "Epoch 00003: acc improved from 0.43687 to 0.56639, saving model to best_model_1.h5\n",
      "Epoch 4/12\n",
      "354/354 [==============================] - 16s 46ms/step - loss: 0.0869 - acc: 0.6342 - f1_score: 0.6342 - val_loss: 0.0893 - val_acc: 0.6191 - val_f1_score: 0.6191\n",
      "\n",
      "Epoch 00004: acc improved from 0.56639 to 0.63423, saving model to best_model_1.h5\n",
      "Epoch 5/12\n",
      "354/354 [==============================] - 16s 46ms/step - loss: 0.0768 - acc: 0.6811 - f1_score: 0.6811 - val_loss: 0.0849 - val_acc: 0.6380 - val_f1_score: 0.6380\n",
      "\n",
      "Epoch 00005: acc improved from 0.63423 to 0.68111, saving model to best_model_1.h5\n",
      "Epoch 6/12\n",
      "354/354 [==============================] - 16s 45ms/step - loss: 0.0702 - acc: 0.7152 - f1_score: 0.7152 - val_loss: 0.0784 - val_acc: 0.6733 - val_f1_score: 0.6733\n",
      "\n",
      "Epoch 00006: acc improved from 0.68111 to 0.71525, saving model to best_model_1.h5\n",
      "Epoch 7/12\n",
      "354/354 [==============================] - 16s 45ms/step - loss: 0.0645 - acc: 0.7410 - f1_score: 0.7410 - val_loss: 0.0828 - val_acc: 0.6682 - val_f1_score: 0.6682\n",
      "\n",
      "Epoch 00007: acc improved from 0.71525 to 0.74095, saving model to best_model_1.h5\n",
      "Epoch 8/12\n",
      "354/354 [==============================] - 16s 45ms/step - loss: 0.0601 - acc: 0.7626 - f1_score: 0.7626 - val_loss: 0.0777 - val_acc: 0.6909 - val_f1_score: 0.6909\n",
      "\n",
      "Epoch 00008: acc improved from 0.74095 to 0.76255, saving model to best_model_1.h5\n",
      "Epoch 9/12\n",
      "354/354 [==============================] - 16s 45ms/step - loss: 0.0560 - acc: 0.7842 - f1_score: 0.7842 - val_loss: 0.0758 - val_acc: 0.6924 - val_f1_score: 0.6924\n",
      "\n",
      "Epoch 00009: acc improved from 0.76255 to 0.78422, saving model to best_model_1.h5\n",
      "Epoch 10/12\n",
      "354/354 [==============================] - 16s 45ms/step - loss: 0.0518 - acc: 0.8009 - f1_score: 0.8009 - val_loss: 0.0776 - val_acc: 0.6994 - val_f1_score: 0.6994\n",
      "\n",
      "Epoch 00010: acc improved from 0.78422 to 0.80086, saving model to best_model_1.h5\n",
      "Epoch 11/12\n",
      "354/354 [==============================] - 16s 45ms/step - loss: 0.0487 - acc: 0.8186 - f1_score: 0.8186 - val_loss: 0.0790 - val_acc: 0.7058 - val_f1_score: 0.7058\n",
      "\n",
      "Epoch 00011: acc improved from 0.80086 to 0.81864, saving model to best_model_1.h5\n",
      "Epoch 12/12\n",
      "354/354 [==============================] - 16s 45ms/step - loss: 0.0464 - acc: 0.8271 - f1_score: 0.8271 - val_loss: 0.0779 - val_acc: 0.7096 - val_f1_score: 0.7096\n",
      "\n",
      "Epoch 00012: acc improved from 0.81864 to 0.82707, saving model to best_model_1.h5\n"
     ]
    }
   ],
   "source": [
    "model = model.fit(padded_docs_train, y_train_ohe.todense(), epochs=12, batch_size=40, validation_data=(padded_docs_test, y_test_ohe.todense()),callbacks= callback_list)"
   ]
  },
  {
   "cell_type": "code",
   "execution_count": 21,
   "metadata": {},
   "outputs": [
    {
     "data": {
      "image/png": "[encoded data removed]",
      "text/plain": [
       "<Figure size 432x288 with 1 Axes>"
      ]
     },
     "metadata": {},
     "output_type": "display_data"
    },
    {
     "data": {
      "image/png": "[encoded data removed]",
      "text/plain": [
       "<Figure size 432x288 with 1 Axes>"
      ]
     },
     "metadata": {},
     "output_type": "display_data"
    }
   ],
   "source": [
    "# Ref: https://stackoverflow.com/questions/63483337/how-can-i-plot-training-accuracy-training-loss-with-respect-to-epochs-in-tensor\n",
    "import matplotlib.pyplot as plt\n",
    "\n",
    "acc = model.history['acc']\n",
    "val_acc = model.history['val_acc']\n",
    "loss = model.history['loss']\n",
    "val_loss = model.history['val_loss']\n",
    "\n",
    "epochs = range(1, len(acc) + 1)\n",
    "\n",
    "plt.plot(epochs, acc, 'r', label='Training acc')\n",
    "plt.plot(epochs, val_acc, 'b', label='Validation acc')\n",
    "plt.title('Training and validation accuracy')\n",
    "plt.legend()\n",
    "\n",
    "plt.figure()\n",
    "\n",
    "plt.plot(epochs, loss, 'r', label='Training loss')\n",
    "plt.plot(epochs, val_loss, 'b', label='Validation loss')\n",
    "plt.title('Training and validation loss')\n",
    "plt.legend()\n",
    "\n",
    "plt.show()"
   ]
  },
  {
   "cell_type": "markdown",
   "metadata": {
    "colab_type": "text",
    "id": "9cg4L1V4Yv1d"
   },
   "source": [
    "### Model-2 : Using 1D convolutions with character embedding"
   ]
  },
  {
   "cell_type": "markdown",
   "metadata": {
    "colab_type": "text",
    "id": "2Djg4YVA3oQx"
   },
   "source": [
    "<pre>\n",
    "<pre><img src=\"https://i.ytimg.com/vi/CNY8VjJt-iQ/maxresdefault.jpg\" width=\"70%\">\n",
    "Here are the some papers based on Char-CNN\n",
    " 1. Xiang Zhang, Junbo Zhao, Yann LeCun. <a href=\"http://arxiv.org/abs/1509.01626\">Character-level Convolutional Networks for Text Classification</a>.NIPS 2015\n",
    " 2. Yoon Kim, Yacine Jernite, David Sontag, Alexander M. Rush. <a href=\"https://arxiv.org/abs/1508.06615\">Character-Aware Neural Language Models</a>. AAAI 2016\n",
    " 3. Shaojie Bai, J. Zico Kolter, Vladlen Koltun. <a href=\"https://arxiv.org/pdf/1803.01271.pdf\">An Empirical Evaluation of Generic Convolutional and Recurrent Networks for Sequence Modeling</a>\n",
    " 4. Use the pratrained char embeddings <a href='https://github.com/minimaxir/char-embeddings/blob/master/glove.840B.300d-char.txt'>https://github.com/minimaxir/char-embeddings/blob/master/glove.840B.300d-char.txt</a>\n",
    "</pre>"
   ]
  },
  {
   "cell_type": "markdown",
   "metadata": {
    "colab_type": "text",
    "id": "VXvKSEIeSvN5"
   },
   "source": [
    "<img src='https://i.imgur.com/EuuoJtr.png'>"
   ]
  },
  {
   "cell_type": "code",
   "execution_count": 22,
   "metadata": {},
   "outputs": [],
   "source": [
    "# Ref: https://machinelearningmastery.com/use-word-embedding-layers-deep-learning-keras/\n",
    "\n",
    "# prepare tokenizer\n",
    "token = Tokenizer(filters='!\"#$%&()*+,-./:;<=>?@[\\\\]^`{|}~\\t\\n')\n",
    "token.fit_on_texts(X_train['Data Preprocessed'])\n",
    "\n",
    "vocab_size = len(token.word_index) + 1\n",
    "\n",
    "# integer encode the documents\n",
    "encoded_docs_train = token.texts_to_sequences(X_train['Data Preprocessed'])\n",
    "#print(encoded_docs_train)\n",
    "encoded_docs_test = token.texts_to_sequences(X_test['Data Preprocessed'])\n",
    "# print(encoded_docs_test)\n",
    "\n",
    "# pad documents to the average length of documenents from the corpus\n",
    "length = round((X_train['Data Preprocessed'].str.split().str.len()).mean())\n",
    "\n",
    "padded_docs_train = pad_sequences(encoded_docs_train, maxlen = length, padding = 'post')\n",
    "#print(padded_docs_train.shape)\n",
    "padded_docs_test = pad_sequences(encoded_docs_test, maxlen = length, padding = 'post')\n",
    "#print(padded_docs_test.shape)"
   ]
  },
  {
   "cell_type": "code",
   "execution_count": 23,
   "metadata": {},
   "outputs": [
    {
     "name": "stdout",
     "output_type": "stream",
     "text": [
      "Loaded 94 word vectors.\n"
     ]
    }
   ],
   "source": [
    "# load the whole embedding into memory\n",
    "embeddings_index = dict()\n",
    "f = open(r'C:\\Users\\SVF\\Downloads\\glove.840B.300d-char\\glove.840B.300d-char.txt', 'r', encoding=\"utf8\")\n",
    "for line in f:\n",
    "    values = line.split()\n",
    "    word = values[0]\n",
    "    coefs = np.asarray(values[1:], dtype='float32')\n",
    "    embeddings_index[word] = coefs\n",
    "f.close()\n",
    "print('Loaded %s word vectors.' % len(embeddings_index))"
   ]
  },
  {
   "cell_type": "code",
   "execution_count": 24,
   "metadata": {},
   "outputs": [],
   "source": [
    "# create a weight matrix for words in training docs\n",
    "\n",
    "embedding_matrix = np.zeros((vocab_size, 300))\n",
    "for word, i in token.word_index.items():\n",
    "    embedding_vector = embeddings_index.get(word)\n",
    "    if embedding_vector is not None:\n",
    "        embedding_matrix[i] = embedding_vector"
   ]
  },
  {
   "cell_type": "code",
   "execution_count": 25,
   "metadata": {},
   "outputs": [],
   "source": [
    "input = Input(shape=(length,))\n",
    "\n",
    "embedding = Embedding(vocab_size, 300, weights=[embedding_matrix], trainable=False, input_length=length)(input)\n",
    "\n",
    "conv_1 = Conv1D(filters=32, kernel_size=2, activation='relu')(embedding)\n",
    "conv_2 = Conv1D(filters=30, kernel_size=2, activation='relu')(conv_1)\n",
    "\n",
    "maxpool = MaxPool1D(pool_size=2, strides=1)(conv_2)\n",
    "\n",
    "conv_3 = Conv1D(filters=32, kernel_size=2, activation='relu')(maxpool)\n",
    "conv_4 = Conv1D(filters=30, kernel_size=2, activation='relu')(maxpool)\n",
    "\n",
    "maxpool = MaxPool1D(pool_size=2, strides=1)(conv_4)\n",
    "\n",
    "conv_5 = Conv1D(filters=32, kernel_size=2, activation='relu')(maxpool)\n",
    "\n",
    "flatten = Flatten()(conv_5)\n",
    "\n",
    "dropout = Dropout(rate=0.3)(flatten)\n",
    "\n",
    "dense_1 = Dense(24, activation='relu', kernel_initializer=tf.keras.initializers.he_normal)(dropout)\n",
    "dense_2 = Dense(24, activation='relu', kernel_initializer=tf.keras.initializers.he_normal)(dropout)\n",
    "dense_3 = Dense(22, activation='relu', kernel_initializer=tf.keras.initializers.he_normal)(dropout)\n",
    "\n",
    "concat = concatenate([dense_1, dense_2, dense_3])\n",
    "\n",
    "output = Dense(20, activation='softmax')(concat)\n",
    "                                                                                                                    \n",
    "# Creating a model\n",
    "model_1 = Model(inputs=input ,outputs=output)\n",
    "\n",
    "earlystop = EarlyStopping(monitor='acc', patience=5, verbose=0.1)\n",
    "\n",
    "log_dir=\"logs/fit/\" + datetime.datetime.now().strftime(\"%Y%m%d-%H%M%S\")\n",
    "tensorboard_callback = tf.keras.callbacks.TensorBoard(log_dir=log_dir, histogram_freq=1)\n",
    "\n",
    "filepath = \"best_model_1.h5\"\n",
    "checkpoint = ModelCheckpoint(filepath,monitor='acc',verbose=1,mode='auto',save_best_only=True)\n",
    "\n",
    "callback_list = [checkpoint, earlystop, tensorboard_callback]\n",
    "optimizer = tf.keras.optimizers.Adam()\n",
    "\n",
    "# Ref: https://www.tensorflow.org/addons/api_docs/python/tfa/metrics/F1Score\n",
    "model_1.compile(optimizer, loss='BinaryCrossentropy', metrics=['acc', tfa.metrics.F1Score(num_classes=20, average= 'micro')])\n"
   ]
  },
  {
   "cell_type": "code",
   "execution_count": 26,
   "metadata": {},
   "outputs": [
    {
     "name": "stdout",
     "output_type": "stream",
     "text": [
      "Model: \"model_1\"\n",
      "__________________________________________________________________________________________________\n",
      "Layer (type)                    Output Shape         Param #     Connected to                     \n",
      "==================================================================================================\n",
      "input_2 (InputLayer)            [(None, 197)]        0                                            \n",
      "__________________________________________________________________________________________________\n",
      "embedding_1 (Embedding)         (None, 197, 300)     47020500    input_2[0][0]                    \n",
      "__________________________________________________________________________________________________\n",
      "conv1d_7 (Conv1D)               (None, 196, 32)      19232       embedding_1[0][0]                \n",
      "__________________________________________________________________________________________________\n",
      "conv1d_8 (Conv1D)               (None, 195, 30)      1950        conv1d_7[0][0]                   \n",
      "__________________________________________________________________________________________________\n",
      "max_pooling1d_2 (MaxPooling1D)  (None, 194, 30)      0           conv1d_8[0][0]                   \n",
      "__________________________________________________________________________________________________\n",
      "conv1d_10 (Conv1D)              (None, 193, 30)      1830        max_pooling1d_2[0][0]            \n",
      "__________________________________________________________________________________________________\n",
      "max_pooling1d_3 (MaxPooling1D)  (None, 192, 30)      0           conv1d_10[0][0]                  \n",
      "__________________________________________________________________________________________________\n",
      "conv1d_11 (Conv1D)              (None, 191, 32)      1952        max_pooling1d_3[0][0]            \n",
      "__________________________________________________________________________________________________\n",
      "flatten_1 (Flatten)             (None, 6112)         0           conv1d_11[0][0]                  \n",
      "__________________________________________________________________________________________________\n",
      "dropout_1 (Dropout)             (None, 6112)         0           flatten_1[0][0]                  \n",
      "__________________________________________________________________________________________________\n",
      "dense_2 (Dense)                 (None, 24)           146712      dropout_1[0][0]                  \n",
      "__________________________________________________________________________________________________\n",
      "dense_3 (Dense)                 (None, 24)           146712      dropout_1[0][0]                  \n",
      "__________________________________________________________________________________________________\n",
      "dense_4 (Dense)                 (None, 22)           134486      dropout_1[0][0]                  \n",
      "__________________________________________________________________________________________________\n",
      "concatenate_2 (Concatenate)     (None, 70)           0           dense_2[0][0]                    \n",
      "                                                                 dense_3[0][0]                    \n",
      "                                                                 dense_4[0][0]                    \n",
      "__________________________________________________________________________________________________\n",
      "dense_5 (Dense)                 (None, 20)           1420        concatenate_2[0][0]              \n",
      "==================================================================================================\n",
      "Total params: 47,474,794\n",
      "Trainable params: 454,294\n",
      "Non-trainable params: 47,020,500\n",
      "__________________________________________________________________________________________________\n"
     ]
    }
   ],
   "source": [
    "model_1.summary()"
   ]
  },
  {
   "cell_type": "code",
   "execution_count": 27,
   "metadata": {},
   "outputs": [
    {
     "name": "stdout",
     "output_type": "stream",
     "text": [
      "Epoch 1/35\n",
      "354/354 [==============================] - 33s 71ms/step - loss: 0.2136 - acc: 0.0581 - f1_score: 0.0591 - val_loss: 0.1985 - val_acc: 0.0652 - val_f1_score: 0.0652\n",
      "\n",
      "Epoch 00001: acc improved from -inf to 0.05814, saving model to best_model_1.h5\n",
      "Epoch 2/35\n",
      "354/354 [==============================] - 18s 50ms/step - loss: 0.1980 - acc: 0.0646 - f1_score: 0.0646 - val_loss: 0.1976 - val_acc: 0.0697 - val_f1_score: 0.0697\n",
      "\n",
      "Epoch 00002: acc improved from 0.05814 to 0.06458, saving model to best_model_1.h5\n",
      "Epoch 3/35\n",
      "354/354 [==============================] - 18s 50ms/step - loss: 0.1970 - acc: 0.0680 - f1_score: 0.0680 - val_loss: 0.1975 - val_acc: 0.0693 - val_f1_score: 0.0693\n",
      "\n",
      "Epoch 00003: acc improved from 0.06458 to 0.06798, saving model to best_model_1.h5\n",
      "Epoch 4/35\n",
      "354/354 [==============================] - 18s 50ms/step - loss: 0.1964 - acc: 0.0693 - f1_score: 0.0693 - val_loss: 0.1970 - val_acc: 0.0686 - val_f1_score: 0.0686\n",
      "\n",
      "Epoch 00004: acc improved from 0.06798 to 0.06926, saving model to best_model_1.h5\n",
      "Epoch 5/35\n",
      "354/354 [==============================] - 18s 50ms/step - loss: 0.1960 - acc: 0.0709 - f1_score: 0.0709 - val_loss: 0.1963 - val_acc: 0.0697 - val_f1_score: 0.0697\n",
      "\n",
      "Epoch 00005: acc improved from 0.06926 to 0.07089, saving model to best_model_1.h5\n",
      "Epoch 6/35\n",
      "354/354 [==============================] - 18s 50ms/step - loss: 0.1956 - acc: 0.0778 - f1_score: 0.0778 - val_loss: 0.1977 - val_acc: 0.0690 - val_f1_score: 0.0690\n",
      "\n",
      "Epoch 00006: acc improved from 0.07089 to 0.07783, saving model to best_model_1.h5\n",
      "Epoch 7/35\n",
      "354/354 [==============================] - 18s 50ms/step - loss: 0.1954 - acc: 0.0686 - f1_score: 0.0686 - val_loss: 0.1966 - val_acc: 0.0686 - val_f1_score: 0.0686\n",
      "\n",
      "Epoch 00007: acc did not improve from 0.07783\n",
      "Epoch 8/35\n",
      "354/354 [==============================] - 18s 50ms/step - loss: 0.1951 - acc: 0.0759 - f1_score: 0.0759 - val_loss: 0.1968 - val_acc: 0.0729 - val_f1_score: 0.0729\n",
      "\n",
      "Epoch 00008: acc did not improve from 0.07783\n",
      "Epoch 9/35\n",
      "354/354 [==============================] - 18s 50ms/step - loss: 0.1949 - acc: 0.0780 - f1_score: 0.0780 - val_loss: 0.1961 - val_acc: 0.0701 - val_f1_score: 0.0701\n",
      "\n",
      "Epoch 00009: acc improved from 0.07783 to 0.07797, saving model to best_model_1.h5\n",
      "Epoch 10/35\n",
      "354/354 [==============================] - 18s 50ms/step - loss: 0.1947 - acc: 0.0787 - f1_score: 0.0787 - val_loss: 0.1969 - val_acc: 0.0667 - val_f1_score: 0.0667\n",
      "\n",
      "Epoch 00010: acc improved from 0.07797 to 0.07868, saving model to best_model_1.h5\n",
      "Epoch 11/35\n",
      "354/354 [==============================] - 18s 50ms/step - loss: 0.1944 - acc: 0.0763 - f1_score: 0.0763 - val_loss: 0.1966 - val_acc: 0.0712 - val_f1_score: 0.0712\n",
      "\n",
      "Epoch 00011: acc did not improve from 0.07868\n",
      "Epoch 12/35\n",
      "354/354 [==============================] - 18s 50ms/step - loss: 0.1942 - acc: 0.0764 - f1_score: 0.0764 - val_loss: 0.1964 - val_acc: 0.0646 - val_f1_score: 0.0646\n",
      "\n",
      "Epoch 00012: acc did not improve from 0.07868\n",
      "Epoch 13/35\n",
      "354/354 [==============================] - 18s 50ms/step - loss: 0.1941 - acc: 0.0778 - f1_score: 0.0778 - val_loss: 0.1968 - val_acc: 0.0729 - val_f1_score: 0.0729\n",
      "\n",
      "Epoch 00013: acc did not improve from 0.07868\n",
      "Epoch 14/35\n",
      "354/354 [==============================] - 18s 50ms/step - loss: 0.1938 - acc: 0.0833 - f1_score: 0.0833 - val_loss: 0.1966 - val_acc: 0.0733 - val_f1_score: 0.0733\n",
      "\n",
      "Epoch 00014: acc improved from 0.07868 to 0.08328, saving model to best_model_1.h5\n",
      "Epoch 15/35\n",
      "354/354 [==============================] - 18s 50ms/step - loss: 0.1937 - acc: 0.0787 - f1_score: 0.0787 - val_loss: 0.1965 - val_acc: 0.0744 - val_f1_score: 0.0744\n",
      "\n",
      "Epoch 00015: acc did not improve from 0.08328\n",
      "Epoch 16/35\n",
      "354/354 [==============================] - 18s 50ms/step - loss: 0.1936 - acc: 0.0814 - f1_score: 0.0814 - val_loss: 0.1965 - val_acc: 0.0718 - val_f1_score: 0.0718\n",
      "\n",
      "Epoch 00016: acc did not improve from 0.08328\n",
      "Epoch 17/35\n",
      "354/354 [==============================] - 18s 50ms/step - loss: 0.1935 - acc: 0.0834 - f1_score: 0.0834 - val_loss: 0.1963 - val_acc: 0.0686 - val_f1_score: 0.0686\n",
      "\n",
      "Epoch 00017: acc improved from 0.08328 to 0.08342, saving model to best_model_1.h5\n",
      "Epoch 18/35\n",
      "354/354 [==============================] - 18s 50ms/step - loss: 0.1933 - acc: 0.0853 - f1_score: 0.0853 - val_loss: 0.1966 - val_acc: 0.0727 - val_f1_score: 0.0727\n",
      "\n",
      "Epoch 00018: acc improved from 0.08342 to 0.08533, saving model to best_model_1.h5\n",
      "Epoch 19/35\n",
      "354/354 [==============================] - 18s 50ms/step - loss: 0.1932 - acc: 0.0841 - f1_score: 0.0841 - val_loss: 0.1975 - val_acc: 0.0703 - val_f1_score: 0.0703\n",
      "\n",
      "Epoch 00019: acc did not improve from 0.08533\n",
      "Epoch 20/35\n",
      "354/354 [==============================] - 18s 50ms/step - loss: 0.1931 - acc: 0.0817 - f1_score: 0.0817 - val_loss: 0.1967 - val_acc: 0.0737 - val_f1_score: 0.0737\n",
      "\n",
      "Epoch 00020: acc did not improve from 0.08533\n",
      "Epoch 21/35\n",
      "354/354 [==============================] - 18s 50ms/step - loss: 0.1929 - acc: 0.0846 - f1_score: 0.0846 - val_loss: 0.1972 - val_acc: 0.0727 - val_f1_score: 0.0727\n",
      "\n",
      "Epoch 00021: acc did not improve from 0.08533\n",
      "Epoch 22/35\n",
      "354/354 [==============================] - 18s 50ms/step - loss: 0.1929 - acc: 0.0855 - f1_score: 0.0855 - val_loss: 0.1966 - val_acc: 0.0737 - val_f1_score: 0.0737\n",
      "\n",
      "Epoch 00022: acc improved from 0.08533 to 0.08548, saving model to best_model_1.h5\n",
      "Epoch 23/35\n",
      "354/354 [==============================] - 18s 50ms/step - loss: 0.1927 - acc: 0.0847 - f1_score: 0.0847 - val_loss: 0.1970 - val_acc: 0.0716 - val_f1_score: 0.0716\n",
      "\n",
      "Epoch 00023: acc did not improve from 0.08548\n",
      "Epoch 24/35\n",
      "354/354 [==============================] - 18s 50ms/step - loss: 0.1925 - acc: 0.0858 - f1_score: 0.0858 - val_loss: 0.1973 - val_acc: 0.0707 - val_f1_score: 0.0707\n",
      "\n",
      "Epoch 00024: acc improved from 0.08548 to 0.08576, saving model to best_model_1.h5\n",
      "Epoch 25/35\n",
      "354/354 [==============================] - 18s 50ms/step - loss: 0.1925 - acc: 0.0851 - f1_score: 0.0851 - val_loss: 0.1970 - val_acc: 0.0720 - val_f1_score: 0.0720\n",
      "\n",
      "Epoch 00025: acc did not improve from 0.08576\n",
      "Epoch 26/35\n",
      "354/354 [==============================] - 18s 50ms/step - loss: 0.1924 - acc: 0.0851 - f1_score: 0.0851 - val_loss: 0.1973 - val_acc: 0.0707 - val_f1_score: 0.0707\n",
      "\n",
      "Epoch 00026: acc did not improve from 0.08576\n",
      "Epoch 27/35\n",
      "354/354 [==============================] - 18s 50ms/step - loss: 0.1923 - acc: 0.0893 - f1_score: 0.0893 - val_loss: 0.2071 - val_acc: 0.0731 - val_f1_score: 0.0731\n",
      "\n",
      "Epoch 00027: acc improved from 0.08576 to 0.08930, saving model to best_model_1.h5\n",
      "Epoch 28/35\n",
      "354/354 [==============================] - 18s 50ms/step - loss: 0.1925 - acc: 0.0857 - f1_score: 0.0857 - val_loss: 0.1971 - val_acc: 0.0714 - val_f1_score: 0.0714\n",
      "\n",
      "Epoch 00028: acc did not improve from 0.08930\n",
      "Epoch 29/35\n",
      "354/354 [==============================] - 18s 50ms/step - loss: 0.1921 - acc: 0.0898 - f1_score: 0.0898 - val_loss: 0.1970 - val_acc: 0.0733 - val_f1_score: 0.0733\n",
      "\n",
      "Epoch 00029: acc improved from 0.08930 to 0.08980, saving model to best_model_1.h5\n",
      "Epoch 30/35\n",
      "354/354 [==============================] - 18s 51ms/step - loss: 0.1921 - acc: 0.0899 - f1_score: 0.0899 - val_loss: 0.1975 - val_acc: 0.0656 - val_f1_score: 0.0656\n",
      "\n",
      "Epoch 00030: acc improved from 0.08980 to 0.08994, saving model to best_model_1.h5\n",
      "Epoch 31/35\n",
      "354/354 [==============================] - 18s 50ms/step - loss: 0.1919 - acc: 0.0903 - f1_score: 0.0903 - val_loss: 0.1973 - val_acc: 0.0680 - val_f1_score: 0.0680\n",
      "\n",
      "Epoch 00031: acc improved from 0.08994 to 0.09029, saving model to best_model_1.h5\n",
      "Epoch 32/35\n",
      "354/354 [==============================] - 18s 50ms/step - loss: 0.1918 - acc: 0.0854 - f1_score: 0.0854 - val_loss: 0.1981 - val_acc: 0.0737 - val_f1_score: 0.0737\n",
      "\n",
      "Epoch 00032: acc did not improve from 0.09029\n",
      "Epoch 33/35\n",
      "354/354 [==============================] - 18s 51ms/step - loss: 0.1917 - acc: 0.0889 - f1_score: 0.0889 - val_loss: 0.1981 - val_acc: 0.0678 - val_f1_score: 0.0678\n",
      "\n",
      "Epoch 00033: acc did not improve from 0.09029\n",
      "Epoch 34/35\n",
      "354/354 [==============================] - 18s 50ms/step - loss: 0.1916 - acc: 0.0879 - f1_score: 0.0879 - val_loss: 0.1974 - val_acc: 0.0701 - val_f1_score: 0.0701\n",
      "\n",
      "Epoch 00034: acc did not improve from 0.09029\n"
     ]
    },
    {
     "name": "stdout",
     "output_type": "stream",
     "text": [
      "Epoch 35/35\n",
      "354/354 [==============================] - 18s 50ms/step - loss: 0.1916 - acc: 0.0908 - f1_score: 0.0908 - val_loss: 0.1980 - val_acc: 0.0690 - val_f1_score: 0.0690\n",
      "\n",
      "Epoch 00035: acc improved from 0.09029 to 0.09079, saving model to best_model_1.h5\n"
     ]
    }
   ],
   "source": [
    "model_1 = model_1.fit(padded_docs_train, y_train_ohe.todense(), epochs=35, batch_size=40, validation_data=(padded_docs_test, y_test_ohe.todense()),callbacks= callback_list)"
   ]
  },
  {
   "cell_type": "code",
   "execution_count": 28,
   "metadata": {},
   "outputs": [
    {
     "data": {
      "image/png": "[encoded data removed]",
      "text/plain": [
       "<Figure size 432x288 with 1 Axes>"
      ]
     },
     "metadata": {},
     "output_type": "display_data"
    },
    {
     "data": {
      "image/png": "[encoded data removed]",
      "text/plain": [
       "<Figure size 432x288 with 1 Axes>"
      ]
     },
     "metadata": {},
     "output_type": "display_data"
    }
   ],
   "source": [
    "# Ref: https://stackoverflow.com/questions/63483337/how-can-i-plot-training-accuracy-training-loss-with-respect-to-epochs-in-tensor\n",
    "import matplotlib.pyplot as plt\n",
    "\n",
    "acc_1 = model_1.history['acc']\n",
    "val_acc_1 = model_1.history['val_acc']\n",
    "loss_1 = model_1.history['loss']\n",
    "val_loss_1 = model_1.history['val_loss']\n",
    "\n",
    "epochs = range(1, len(acc_1) + 1)\n",
    "\n",
    "plt.plot(epochs, acc_1, 'r', label='Training acc')\n",
    "plt.plot(epochs, val_acc_1, 'b', label='Validation acc')\n",
    "plt.title('Training and validation accuracy')\n",
    "plt.legend()\n",
    "\n",
    "plt.figure()\n",
    "\n",
    "plt.plot(epochs, loss_1, 'r', label='Training loss')\n",
    "plt.plot(epochs, val_loss_1, 'b', label='Validation loss')\n",
    "plt.title('Training and validation loss')\n",
    "plt.legend()\n",
    "\n",
    "plt.show()"
   ]
  },
  {
   "cell_type": "code",
   "execution_count": 29,
   "metadata": {},
   "outputs": [
    {
     "name": "stdout",
     "output_type": "stream",
     "text": [
      "+---------------------------+------------+----------+\n",
      "|           Model           | Batch Size | Accuracy |\n",
      "+---------------------------+------------+----------+\n",
      "|    Glove Word Embedding   |     40     | 0.82707  |\n",
      "| Glove Character Embedding |     40     |  0.0908  |\n",
      "+---------------------------+------------+----------+\n"
     ]
    }
   ],
   "source": [
    "from prettytable import PrettyTable\n",
    "  \n",
    "# Specify the Column Names while initializing the Table\n",
    "table = PrettyTable([\"Model\", \"Batch Size\", \"Accuracy\"])\n",
    "  \n",
    "# Add rows\n",
    "table.add_row([\"Glove Word Embedding\", \"40\", \"0.82707\"])\n",
    "table.add_row([\"Glove Character Embedding\", \"40\", \"0.0908\"])\n",
    "\n",
    "print(table)"
   ]
  }
 ],
 "metadata": {
  "colab": {
   "collapsed_sections": [],
   "name": "Text Classification Assignment.ipynb",
   "provenance": []
  },
  "kernelspec": {
   "display_name": "Python 3",
   "language": "python",
   "name": "python3"
  },
  "language_info": {
   "codemirror_mode": {
    "name": "ipython",
    "version": 3
   },
   "file_extension": ".py",
   "mimetype": "text/x-python",
   "name": "python",
   "nbconvert_exporter": "python",
   "pygments_lexer": "ipython3",
   "version": "3.6.5"
  }
 },
 "nbformat": 4,
 "nbformat_minor": 1
}
