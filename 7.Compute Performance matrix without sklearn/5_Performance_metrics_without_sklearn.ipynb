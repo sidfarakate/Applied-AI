{
 "cells": [
  {
   "cell_type": "markdown",
   "metadata": {
    "colab_type": "text",
    "id": "s0Ej_bXyQvnV"
   },
   "source": [
    "# Compute performance metrics for the given Y and Y_score without sklearn"
   ]
  },
  {
   "cell_type": "code",
   "execution_count": 1,
   "metadata": {
    "colab": {},
    "colab_type": "code",
    "id": "4CHb6NE7Qvnc"
   },
   "outputs": [],
   "source": [
    "import numpy as np\n",
    "import pandas as pd\n",
    "# other than these two you should not import any other packages"
   ]
  },
  {
   "cell_type": "markdown",
   "metadata": {
    "colab_type": "text",
    "id": "KbsWXuDaQvnq"
   },
   "source": [
    "<pre>\n",
    "<font color='red'><b>A.</b></font> Compute performance metrics for the given data <strong>5_a.csv</strong>\n",
    "   <b>Note 1:</b> in this data you can see number of positive points >> number of negatives points\n",
    "   <b>Note 2:</b> use pandas or numpy to read the data from <b>5_a.csv</b>\n",
    "   <b>Note 3:</b> you need to derive the class labels from given score</pre> $y^{pred}= \\text{[0 if y_score < 0.5 else 1]}$\n",
    "\n",
    "<pre>\n",
    "<ol>\n",
    "<li> Compute Confusion Matrix </li>\n",
    "<li> Compute F1 Score </li>\n",
    "<li> Compute AUC Score, you need to compute different thresholds and for each threshold compute tpr,fpr and then use               numpy.trapz(tpr_array, fpr_array) <a href='https://stackoverflow.com/q/53603376/4084039'>https://stackoverflow.com/q/53603376/4084039</a>, <a href='https://stackoverflow.com/a/39678975/4084039'>https://stackoverflow.com/a/39678975/4084039</a> Note: it should be numpy.trapz(tpr_array, fpr_array) not numpy.trapz(fpr_array, tpr_array)</li>\n",
    "<li> Compute Accuracy Score </li>\n",
    "</ol>\n",
    "</pre>"
   ]
  },
  {
   "cell_type": "code",
   "execution_count": 2,
   "metadata": {
    "colab": {},
    "colab_type": "code",
    "id": "WaFLW7oBQvnt"
   },
   "outputs": [
    {
     "name": "stdout",
     "output_type": "stream",
     "text": [
      "No. of Positive Datapoints: 10000\n",
      "No. of Negative Datapoints: 100\n"
     ]
    }
   ],
   "source": [
    "# Load data using numpy\n",
    "data = np.loadtxt(r'C:\\Users\\SVF\\Desktop\\Data\\5_a.csv', delimiter = ',' , skiprows=1 )\n",
    "\n",
    "print('No. of Positive Datapoints:', np.sum(data[0:] == float(1)))\n",
    "\n",
    "print('No. of Negative Datapoints:', np.sum(data[0:] == float(0)))"
   ]
  },
  {
   "cell_type": "code",
   "execution_count": 3,
   "metadata": {},
   "outputs": [],
   "source": [
    "# Create y_pred\n",
    "y = data[:, 0] \n",
    "y_pred = np.where(data[0:, 1] > 0.5, 1, 0)\n",
    "    "
   ]
  },
  {
   "cell_type": "code",
   "execution_count": 4,
   "metadata": {},
   "outputs": [
    {
     "name": "stdout",
     "output_type": "stream",
     "text": [
      "Confusion Matrix : [[    0     0]\n",
      " [  100 10000]]\n"
     ]
    }
   ],
   "source": [
    "# Confusion Matrix:\n",
    "\n",
    "# True Negative\n",
    "TN = np.sum((y == 0.0) & (y_pred == 0))\n",
    "\n",
    "# False Negative\n",
    "FN = np.sum((y == 1.0) & (y_pred == 0))\n",
    "\n",
    "# False Positive\n",
    "FP = np.sum((y == 0.0) & (y_pred == 1))\n",
    "\n",
    "# True Positive\n",
    "TP = np.sum((y == 1.0) & (y_pred == 1))\n",
    "\n",
    "Confusion_Matrix = np.array([[TN, FN],[FP, TP]])\n",
    "print('Confusion Matrix :',Confusion_Matrix)\n"
   ]
  },
  {
   "cell_type": "code",
   "execution_count": 5,
   "metadata": {},
   "outputs": [
    {
     "name": "stdout",
     "output_type": "stream",
     "text": [
      "Precision: 0.9900990099009901\n",
      "Recall: 1.0\n",
      "F1-Score: 0.9950248756218906\n"
     ]
    }
   ],
   "source": [
    "# First calculate Precision\n",
    "Precision = TP / (TP + FP)\n",
    "print('Precision:', Precision)\n",
    "\n",
    "# Calculate Recall\n",
    "Recall = TP / (TP + FN)\n",
    "print('Recall:', Recall)\n",
    "\n",
    "# Compute F1 Score \n",
    "num = Precision * Recall\n",
    "den = Precision + Recall\n",
    "\n",
    "F1_Score = 2 * (num / den)\n",
    "print('F1-Score:', F1_Score)"
   ]
  },
  {
   "cell_type": "code",
   "execution_count": 6,
   "metadata": {},
   "outputs": [
    {
     "name": "stdout",
     "output_type": "stream",
     "text": [
      "Accuracy_Score: 0.9900990099009901\n"
     ]
    }
   ],
   "source": [
    "# Compute Accuracy Score \n",
    "Accuracy = (TP + TN) / len(data)  # Accuracy = No. of correctly classified points / Total no. of points\n",
    "print('Accuracy_Score:', Accuracy)"
   ]
  },
  {
   "cell_type": "code",
   "execution_count": 7,
   "metadata": {},
   "outputs": [
    {
     "name": "stdout",
     "output_type": "stream",
     "text": [
      "AUC Score: 0.48829900000000004\n"
     ]
    }
   ],
   "source": [
    "# Compute AUC Score\n",
    "Data = data[data[0: ,1].argsort()][::-1]\n",
    "y = Data[:, 0]\n",
    "probability_score = Data[:, 1]\n",
    "\n",
    "TPR_values = []\n",
    "FPR_values = []\n",
    "\n",
    "for threshold in probability_score:\n",
    "    threshold_y_pred = np.where(probability_score > threshold, 1, 0)\n",
    "    TN = np.sum((y == 0.0) & (threshold_y_pred == 0))   # True Negative\n",
    "    FN = np.sum((y == 1.0) & (threshold_y_pred == 0))   # False Negative\n",
    "    FP = np.sum((y == 0.0) & (threshold_y_pred == 1))   # False Positive\n",
    "    TP = np.sum((y == 1.0) & (threshold_y_pred == 1))   # True Positive\n",
    "\n",
    "    TPR = TP / (TP + FN)\n",
    "    FPR = FP / (TN + FP)\n",
    "    TPR_values.append(TPR)\n",
    "    FPR_values.append(FPR)\n",
    "    \n",
    "TPR_array = np.array(TPR_values)\n",
    "FPR_array = np.array(FPR_values)\n",
    "    \n",
    "AUC_Score = np.trapz(TPR_array, FPR_array)\n",
    "print('AUC Score:', AUC_Score)"
   ]
  },
  {
   "cell_type": "markdown",
   "metadata": {},
   "source": [
    "Reference: https://stackoverflow.com/questions/2828059/sorting-arrays-in-numpy-by-column"
   ]
  },
  {
   "cell_type": "code",
   "execution_count": 9,
   "metadata": {},
   "outputs": [
    {
     "data": {
      "image/png": "[encoded data removed]",
      "text/plain": [
       "<Figure size 432x288 with 1 Axes>"
      ]
     },
     "metadata": {},
     "output_type": "display_data"
    }
   ],
   "source": [
    "import matplotlib.pyplot as plt\n",
    "plt.plot(FPR_array, TPR_array)\n",
    "plt.xlabel('False Positive Rate(FPR)')\n",
    "plt.ylabel('True Positive Rate(TPR)')\n",
    "plt.show()"
   ]
  },
  {
   "cell_type": "markdown",
   "metadata": {
    "colab_type": "text",
    "id": "V5KZem1BQvn2"
   },
   "source": [
    "<pre>\n",
    "<font color='red'><b>B.</b></font> Compute performance metrics for the given data <strong>5_b.csv</strong>\n",
    "   <b>Note 1:</b> in this data you can see number of positive points << number of negatives points\n",
    "   <b>Note 2:</b> use pandas or numpy to read the data from <b>5_b.csv</b>\n",
    "   <b>Note 3:</b> you need to derive the class labels from given score</pre> $y^{pred}= \\text{[0 if y_score < 0.5 else 1]}$\n",
    "\n",
    "<pre>\n",
    "<ol>\n",
    "<li> Compute Confusion Matrix </li>\n",
    "<li> Compute F1 Score </li>\n",
    "<li> Compute AUC Score, you need to compute different thresholds and for each threshold compute tpr,fpr and then use               numpy.trapz(tpr_array, fpr_array) <a href='https://stackoverflow.com/q/53603376/4084039'>https://stackoverflow.com/q/53603376/4084039</a>, <a href='https://stackoverflow.com/a/39678975/4084039'>https://stackoverflow.com/a/39678975/4084039</a></li>\n",
    "<li> Compute Accuracy Score </li>\n",
    "</ol>\n",
    "</pre>"
   ]
  },
  {
   "cell_type": "code",
   "execution_count": 10,
   "metadata": {
    "colab": {},
    "colab_type": "code",
    "id": "U2sKlq0YQvn5"
   },
   "outputs": [
    {
     "name": "stdout",
     "output_type": "stream",
     "text": [
      "No. of Positive Datapoints: 100\n",
      "No. of Negative Datapoints: 10000\n"
     ]
    }
   ],
   "source": [
    "data1 = np.loadtxt(r'C:\\Users\\SVF\\Desktop\\Data\\5_b.csv', delimiter = ',' , skiprows = 1)\n",
    "\n",
    "print('No. of Positive Datapoints:', np.sum(data1[0:, 0] == 1.0))\n",
    "\n",
    "print('No. of Negative Datapoints:', np.sum(data1[0:, 0] == 0.0))"
   ]
  },
  {
   "cell_type": "code",
   "execution_count": 11,
   "metadata": {},
   "outputs": [],
   "source": [
    "# Compute y_pred\n",
    "y = data1[0:, 0]\n",
    "y_pred = np.where(data1[0:, 1] > 0.5, 1, 0)"
   ]
  },
  {
   "cell_type": "code",
   "execution_count": 12,
   "metadata": {},
   "outputs": [
    {
     "name": "stdout",
     "output_type": "stream",
     "text": [
      "Confusion Matrix: [[9761   45]\n",
      " [ 239   55]]\n"
     ]
    }
   ],
   "source": [
    "# Confusion Matrix:\n",
    "\n",
    "# True Negative\n",
    "TN = np.sum((y == 0.0) & (y_pred == 0))\n",
    "\n",
    "# False Negative\n",
    "FN = np.sum((y == 1.0) & (y_pred == 0))\n",
    "\n",
    "# False Positive\n",
    "FP = np.sum((y == 0.0) & (y_pred == 1))\n",
    "\n",
    "# True Positive\n",
    "TP = np.sum((y == 1.0) & (y_pred == 1))\n",
    "\n",
    "Confusion_Matrix = np.array([[TN, FN],[FP,TP]])\n",
    "print('Confusion Matrix:', Confusion_Matrix)"
   ]
  },
  {
   "cell_type": "code",
   "execution_count": 13,
   "metadata": {},
   "outputs": [
    {
     "name": "stdout",
     "output_type": "stream",
     "text": [
      "Precision: 0.1870748299319728\n",
      "Recall: 0.55\n",
      "F1-Score: 0.2791878172588833\n"
     ]
    }
   ],
   "source": [
    "# First calculate Precision\n",
    "Precision = TP / (TP + FP)\n",
    "print('Precision:', Precision)\n",
    "\n",
    "# Calculate Recall\n",
    "Recall = TP / (TP + FN)\n",
    "print('Recall:', Recall)\n",
    "\n",
    "# Compute F1 Score \n",
    "num = Precision * Recall\n",
    "den = Precision + Recall\n",
    "\n",
    "F1_Score = 2 * (num / den)\n",
    "print('F1-Score:', F1_Score)\n"
   ]
  },
  {
   "cell_type": "code",
   "execution_count": 14,
   "metadata": {},
   "outputs": [
    {
     "name": "stdout",
     "output_type": "stream",
     "text": [
      "Accuracy_Score: 0.9718811881188119\n"
     ]
    }
   ],
   "source": [
    "# Compute Accuracy Score\n",
    "Accuracy = (TP + TN) / len(data1)\n",
    "print('Accuracy_Score:', Accuracy)"
   ]
  },
  {
   "cell_type": "code",
   "execution_count": 15,
   "metadata": {},
   "outputs": [
    {
     "name": "stdout",
     "output_type": "stream",
     "text": [
      "AUC Score: 0.9376570000000001\n"
     ]
    }
   ],
   "source": [
    "# Compute AUC Score \n",
    "Data1 = data1[data1[0:, 1].argsort()][::-1]\n",
    "y = Data1[0:, 0]\n",
    "probability_score = Data1[0:, 1]\n",
    "\n",
    "TPR_Values = []\n",
    "FPR_Values = []\n",
    "\n",
    "for threshold in probability_score:\n",
    "    threshold_y_pred = np.where(probability_score > threshold, 1, 0)\n",
    "    TN = np.sum((y == 0.0) & (threshold_y_pred == 0))  # True Negative\n",
    "    FN = np.sum((y == 1.0) & (threshold_y_pred == 0))  # False Negative \n",
    "    FP = np.sum((y == 0.0) & (threshold_y_pred == 1))  # False Positive\n",
    "    TP = np.sum((y == 1.0) & (threshold_y_pred == 1))  # True Positive\n",
    "    \n",
    "    TPR = TP / (TP + FN)\n",
    "    FPR = FP / (FP + TN)\n",
    "    \n",
    "    TPR_Values.append(TPR)\n",
    "    FPR_Values.append(FPR)\n",
    "    \n",
    "TPR_array = np.array(TPR_Values)\n",
    "FPR_array = np.array(FPR_Values)\n",
    "\n",
    "AUC_Score = np.trapz(TPR_array, FPR_array)\n",
    "print('AUC Score:', AUC_Score)"
   ]
  },
  {
   "cell_type": "code",
   "execution_count": 16,
   "metadata": {},
   "outputs": [
    {
     "data": {
      "image/png": "[encoded data removed]",
      "text/plain": [
       "<Figure size 432x288 with 1 Axes>"
      ]
     },
     "metadata": {},
     "output_type": "display_data"
    }
   ],
   "source": [
    "import matplotlib.pyplot as plt\n",
    "plt.plot(FPR_array, TPR_array)\n",
    "plt.xlabel('False Positive Rate(FPR)')\n",
    "plt.ylabel('True Positive Rate(TPR)')\n",
    "plt.show()"
   ]
  },
  {
   "cell_type": "markdown",
   "metadata": {
    "colab_type": "text",
    "id": "GiPGonTzQvoB"
   },
   "source": [
    "<font color='red'><b>C.</b></font> Compute the best threshold (similarly to ROC curve computation) of probability which gives lowest values of metric <b>A</b> for the given data <strong>5_c.csv</strong>\n",
    "<br>\n",
    "\n",
    "you will be predicting label of a data points like this: $y^{pred}= \\text{[0 if y_score < threshold  else 1]}$\n",
    "\n",
    "$ A = 500 \\times \\text{number of false negative} + 100 \\times \\text{numebr of false positive}$\n",
    "\n",
    "<pre>\n",
    "   <b>Note 1:</b> in this data you can see number of negative points > number of positive points\n",
    "   <b>Note 2:</b> use pandas or numpy to read the data from <b>5_c.csv</b>\n",
    "</pre>"
   ]
  },
  {
   "cell_type": "code",
   "execution_count": 17,
   "metadata": {
    "colab": {},
    "colab_type": "code",
    "id": "x5HIJzq1QvoE"
   },
   "outputs": [
    {
     "name": "stdout",
     "output_type": "stream",
     "text": [
      "Best Threshold: 141000\n"
     ]
    }
   ],
   "source": [
    "data2 = np.loadtxt(r'C:\\Users\\SVF\\Desktop\\Data\\5_c.csv', delimiter = ',', skiprows = 1)\n",
    "\n",
    "Data2 = data2[data2[0:, 1].argsort()][::-1]\n",
    "y = Data2[0:, 0]\n",
    "probability_score = Data2[0:, 1]\n",
    "\n",
    "A_Values = []\n",
    "\n",
    "for threshold in probability_score:\n",
    "    threshold_y_pred = np.where(probability_score > threshold, 1, 0)\n",
    "    FN = np.sum((y == 1.0) & (threshold_y_pred == 0))  # False Negative \n",
    "    FP = np.sum((y == 0.0) & (threshold_y_pred == 1))  # False Positive\n",
    "    \n",
    "    A = 500 * FN + 100 * FP\n",
    "    A_Values.append(A)\n",
    "    \n",
    "print('Best Threshold:', min(A_Values))\n",
    "   \n",
    "    "
   ]
  },
  {
   "cell_type": "markdown",
   "metadata": {
    "colab_type": "text",
    "id": "sD4CcgjXQvoL"
   },
   "source": [
    "<pre>\n",
    "<font color='red'><b>D.</b></font> Compute performance metrics(for regression) for the given data <strong>5_d.csv</strong>\n",
    "    <b>Note 2:</b> use pandas or numpy to read the data from <b>5_d.csv</b>\n",
    "    <b>Note 1:</b> <b>5_d.csv</b> will having two columns Y and predicted_Y both are real valued features\n",
    "<ol>\n",
    "<li> Compute Mean Square Error </li>\n",
    "<li> Compute MAPE: https://www.youtube.com/watch?v=ly6ztgIkUxk</li>\n",
    "<li> Compute R^2 error: https://en.wikipedia.org/wiki/Coefficient_of_determination#Definitions </li>\n",
    "</ol>\n",
    "</pre>"
   ]
  },
  {
   "cell_type": "code",
   "execution_count": 18,
   "metadata": {},
   "outputs": [
    {
     "name": "stdout",
     "output_type": "stream",
     "text": [
      "Mean Square Error: 177.16569974554707\n"
     ]
    }
   ],
   "source": [
    "data3 = np.loadtxt(r'C:\\Users\\SVF\\Desktop\\Data\\5_d.csv', delimiter = ',', skiprows = 1)\n",
    "\n",
    "# Compute Mean Square Error \n",
    "y = data3[0:, 0]\n",
    "y_pred = data3[0:, 1]\n",
    "n = len(data3)\n",
    "\n",
    "MSE = 1/n * np.sum((y - y_pred)**2) \n",
    "print('Mean Square Error:', MSE)"
   ]
  },
  {
   "cell_type": "code",
   "execution_count": 19,
   "metadata": {},
   "outputs": [
    {
     "name": "stdout",
     "output_type": "stream",
     "text": [
      "MAPE: 0.1291202994009687\n"
     ]
    }
   ],
   "source": [
    "# Compute Mean Absolute Percentage Error(MAPE)\n",
    "MAPE = np.sum(np.absolute(y - y_pred)) / np.sum(y) \n",
    "print('MAPE:', MAPE)"
   ]
  },
  {
   "cell_type": "code",
   "execution_count": 20,
   "metadata": {},
   "outputs": [
    {
     "name": "stdout",
     "output_type": "stream",
     "text": [
      "Coefficient of Determination: 0.9563582786990937\n"
     ]
    }
   ],
   "source": [
    "# Compute R^2 or Coefficient of Determination error\n",
    "\n",
    "sum_of_sqares_of_residue = np.sum((y - y_pred)**2)\n",
    "total_sum_of_squares = np.sum((y - np.mean(y))**2)\n",
    "\n",
    "COD = 1 - (sum_of_sqares_of_residue / total_sum_of_squares)\n",
    "print('Coefficient of Determination:', COD)"
   ]
  },
  {
   "cell_type": "code",
   "execution_count": null,
   "metadata": {},
   "outputs": [],
   "source": []
  }
 ],
 "metadata": {
  "colab": {
   "collapsed_sections": [],
   "name": "5_Performance_metrics_Instructions.ipynb",
   "provenance": []
  },
  "kernelspec": {
   "display_name": "Python 3",
   "language": "python",
   "name": "python3"
  },
  "language_info": {
   "codemirror_mode": {
    "name": "ipython",
    "version": 3
   },
   "file_extension": ".py",
   "mimetype": "text/x-python",
   "name": "python",
   "nbconvert_exporter": "python",
   "pygments_lexer": "ipython3",
   "version": "3.6.5"
  }
 },
 "nbformat": 4,
 "nbformat_minor": 1
}
