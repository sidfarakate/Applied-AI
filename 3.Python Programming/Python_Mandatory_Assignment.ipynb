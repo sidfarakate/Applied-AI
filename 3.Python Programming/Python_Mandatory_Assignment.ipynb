{
 "cells": [
  {
   "cell_type": "markdown",
   "metadata": {
    "colab_type": "text",
    "id": "l0ZzOlyxB-kf"
   },
   "source": [
    "<h1>Python: without numpy or sklearn </h1>"
   ]
  },
  {
   "cell_type": "markdown",
   "metadata": {
    "colab_type": "text",
    "id": "C0xO8JV9B-ki"
   },
   "source": [
    "<h3> Q1: Given two matrices please print the product of those two matrices </h3>\n",
    "<pre>\n",
    "\n",
    "Ex 1: A   = [[1 3 4]\n",
    "             [2 5 7]\n",
    "             [5 9 6]]\n",
    "      B   = [[1 0 0]\n",
    "             [0 1 0]\n",
    "             [0 0 1]]\n",
    "      A*B = [[1 3 4]\n",
    "             [2 5 7]\n",
    "             [5 9 6]]\n",
    "\n",
    "     \n",
    "Ex 2: A   = [[1 2]\n",
    "             [3 4]]\n",
    "      B   = [[1 2 3 4 5]\n",
    "             [5 6 7 8 9]]\n",
    "      A*B = [[11 14 17 20 23]\n",
    "             [23 30 36 42 51]]\n",
    "             \n",
    "Ex 3: A   = [[1 2]\n",
    "             [3 4]]\n",
    "      B   = [[1 4]\n",
    "             [5 6]\n",
    "             [7 8]\n",
    "             [9 6]]\n",
    "      A*B =Not possible\n",
    "</pre>"
   ]
  },
  {
   "cell_type": "code",
   "execution_count": 13,
   "metadata": {
    "colab": {},
    "colab_type": "code",
    "id": "rnssAfpgB-kj"
   },
   "outputs": [
    {
     "data": {
      "text/plain": [
       "array([[11, 14, 17, 20, 23],\n",
       "       [23, 30, 37, 44, 51]])"
      ]
     },
     "execution_count": 13,
     "metadata": {},
     "output_type": "execute_result"
    }
   ],
   "source": [
    "import numpy as np\n",
    "# write your python code here\n",
    "# you can take the above example as sample input for your program to test\n",
    "# it should work for any general input try not to hard code for only given input examples\n",
    "\n",
    "\n",
    "# you can free to change all these codes/structure\n",
    "# here A and B are list of lists\n",
    "#A = [[1, 3, 4],\n",
    "#     [2, 5, 7],\n",
    "#     [5, 9, 6]]\n",
    "#B = [[1, 0, 0],\n",
    "#     [0, 1, 0],\n",
    "#     [0, 0, 1]]\n",
    "    \n",
    "A = [[1, 2],\n",
    "     [3, 4]]\n",
    "B = [[1, 2, 3, 4, 5],\n",
    "     [5, 6, 7, 8, 9]]\n",
    "        \n",
    "#A = [[1, 2],\n",
    "#     [3, 4]]\n",
    "#B = [[1, 4],\n",
    "#     [5, 6],\n",
    "#     [7, 8],\n",
    "#     [9, 6]]\n",
    "\n",
    "def matrix_mul(A, B):\n",
    "    if len(A[0]) != len(B):\n",
    "        return \"Not Possible\"\n",
    "    \n",
    "#   Result = [[0 for r in range(len(B[0]))] for c in range(len(A))]\n",
    "    Result = np.zeros_like(B)\n",
    "\n",
    "    \n",
    "    for i in range(len(A)):\n",
    "        for j in range(len(B[0])):\n",
    "            for k in range(len(B)):\n",
    "                Result[i][j] += A[i][k] * B[k][j]\n",
    "    return(Result)\n",
    "    \n",
    "matrix_mul(A, B)"
   ]
  },
  {
   "cell_type": "markdown",
   "metadata": {},
   "source": [
    "#### Numpy Method  "
   ]
  },
  {
   "cell_type": "code",
   "execution_count": 14,
   "metadata": {},
   "outputs": [
    {
     "data": {
      "text/plain": [
       "array([[11, 14, 17, 20, 23],\n",
       "       [23, 30, 37, 44, 51]])"
      ]
     },
     "execution_count": 14,
     "metadata": {},
     "output_type": "execute_result"
    }
   ],
   "source": [
    "mat_mult = np.matmul(A,B)\n",
    "mat_mult"
   ]
  },
  {
   "cell_type": "markdown",
   "metadata": {
    "colab_type": "text",
    "id": "at4VwLggB-kn"
   },
   "source": [
    "<h3> Q2: Select a number randomly with probability proportional to its magnitude from the given array of n elements</h3>\n",
    "\n",
    "consider an experiment, selecting an element from the list A randomly with probability proportional to its magnitude.\n",
    "assume we are doing the same experiment for 100 times with replacement, in each experiment you will print a number that is selected randomly from A.\n",
    "\n",
    "<pre>\n",
    "Ex 1: A = [0 5 27 6 13 28 100 45 10 79]\n",
    "let f(x) denote the number of times x getting selected in 100 experiments.\n",
    "f(100) > f(79) > f(45) > f(28) > f(27) > f(13) > f(10) > f(6) > f(5) > f(0)\n",
    "</pre>"
   ]
  },
  {
   "cell_type": "code",
   "execution_count": 16,
   "metadata": {},
   "outputs": [
    {
     "name": "stdout",
     "output_type": "stream",
     "text": [
      "79\n",
      "13\n",
      "100\n",
      "27\n",
      "28\n",
      "13\n",
      "100\n",
      "5\n",
      "100\n",
      "45\n",
      "27\n",
      "79\n",
      "100\n",
      "79\n",
      "79\n",
      "79\n",
      "28\n",
      "100\n",
      "27\n",
      "27\n",
      "100\n",
      "100\n",
      "45\n",
      "45\n",
      "45\n",
      "79\n",
      "10\n",
      "100\n",
      "79\n",
      "45\n",
      "27\n",
      "100\n",
      "10\n",
      "45\n",
      "79\n",
      "100\n",
      "100\n",
      "45\n",
      "79\n",
      "45\n",
      "100\n",
      "100\n",
      "100\n",
      "28\n",
      "6\n",
      "27\n",
      "27\n",
      "27\n",
      "27\n",
      "28\n",
      "79\n",
      "79\n",
      "28\n",
      "100\n",
      "45\n",
      "10\n",
      "27\n",
      "79\n",
      "79\n",
      "28\n",
      "100\n",
      "45\n",
      "100\n",
      "27\n",
      "45\n",
      "79\n",
      "79\n",
      "100\n",
      "100\n",
      "100\n",
      "13\n",
      "100\n",
      "13\n",
      "100\n",
      "79\n",
      "100\n",
      "79\n",
      "13\n",
      "79\n",
      "79\n",
      "79\n",
      "28\n",
      "79\n",
      "28\n",
      "100\n",
      "79\n",
      "10\n",
      "5\n",
      "45\n",
      "100\n",
      "27\n",
      "45\n",
      "100\n",
      "79\n",
      "100\n",
      "79\n",
      "13\n",
      "100\n",
      "13\n"
     ]
    }
   ],
   "source": [
    "import random \n",
    "from itertools import accumulate\n",
    "\n",
    "A = [0,5,27,6,13,28,100,45,10,79]\n",
    "\n",
    "# you can free to change all these codes/structure\n",
    "def pick_a_number_from_list(A):\n",
    "    S = sum(A)\n",
    "    \n",
    "    d_dash = []\n",
    "    for i in range(len(A)):\n",
    "        d_dash.append(A[i] / S)\n",
    "    \n",
    "    d_tilda = list(accumulate(d_dash))\n",
    "    \n",
    "    r = random.uniform(0,1)\n",
    "    \n",
    "    for j in range(len(d_tilda)) :\n",
    "        if r < d_tilda[j]:\n",
    "            number = A[j]\n",
    "            break\n",
    "    return number\n",
    "    \n",
    "def sampling_based_on_magnitued():\n",
    "    for i in range(1,100):\n",
    "        number = pick_a_number_from_list(A)\n",
    "        print(number)\n",
    "    \n",
    "\n",
    "sampling_based_on_magnitued()\n"
   ]
  },
  {
   "cell_type": "markdown",
   "metadata": {
    "colab_type": "text",
    "id": "D1xQy2WWB-kq"
   },
   "source": [
    "<h3> Q3: Replace the digits in the string with #</h3>\n",
    "\n",
    "consider a string that will have digits in that, we need to remove all the not digits and replace the digits with #\n",
    "<pre>\n",
    "Ex 1: A = 234                Output: ###\n",
    "Ex 2: A = a2b3c4             Output: ###\n",
    "Ex 3: A = abc                Output:   (empty string)\n",
    "Ex 5: A = #2a$#b%c%561#      Output: ####\n",
    "</pre>"
   ]
  },
  {
   "cell_type": "code",
   "execution_count": 30,
   "metadata": {},
   "outputs": [
    {
     "name": "stdout",
     "output_type": "stream",
     "text": [
      "###\n",
      "###\n",
      "\n",
      "####\n"
     ]
    }
   ],
   "source": [
    "import re\n",
    "\n",
    "def replace_digits(String):\n",
    "    S = re.sub('[^\\d]', '', String)\n",
    "    S = re.sub('\\d', '#', S)\n",
    "    return S\n",
    "\n",
    "\n",
    "Input = ['234', 'a2b3c4', 'abc', '#2a$#b%c%561#']\n",
    "for i in Input:\n",
    "         print(replace_digits(i))"
   ]
  },
  {
   "cell_type": "markdown",
   "metadata": {},
   "source": [
    "### Or"
   ]
  },
  {
   "cell_type": "code",
   "execution_count": 17,
   "metadata": {
    "colab": {},
    "colab_type": "code",
    "id": "fxczi2jzB-kr"
   },
   "outputs": [
    {
     "name": "stdout",
     "output_type": "stream",
     "text": [
      "###\n",
      "###\n",
      "\n",
      "####\n"
     ]
    }
   ],
   "source": [
    "import re\n",
    "# write your python code here\n",
    "# you can take the above example as sample input for your program to test\n",
    "# it should work for any general input try not to hard code for only given input examples\n",
    "\n",
    "# you can free to change all these codes/structure\n",
    "# String: it will be the input to your program\n",
    "def replace_digits(String):\n",
    "    Output = \"\"\n",
    "    for i in String:\n",
    "        if i.isnumeric():\n",
    "            Output += \"#\"\n",
    "    return Output\n",
    "            \n",
    "Input = ['234', 'a2b3c4', 'abc', '#2a$#b%c%561#']\n",
    "for j in Input:\n",
    "         print(replace_digits(j))"
   ]
  },
  {
   "cell_type": "markdown",
   "metadata": {
    "colab_type": "text",
    "id": "j7h0Ywg7B-kw"
   },
   "source": [
    "<h3> Q4: Students marks dashboard</h3>\n",
    "\n",
    "consider the marks list of class students given two lists <br>\n",
    "Students = ['student1','student2','student3','student4','student5','student6','student7','student8','student9','student10'] <br>\n",
    "Marks = [45, 78, 12, 14, 48, 43, 45, 98, 35, 80] <br>\n",
    "from the above two lists the Student[0] got Marks[0],  Student[1] got Marks[1] and so on <br><br>\n",
    "your task is to print the name of students\n",
    "<strong>a. Who got top 5 ranks, in the descending order of marks</strong> <br>\n",
    "<strong>b. Who got least 5 ranks, in the increasing order of marks</strong><br>\n",
    "<strong>d. Who got marks between  &gt;25th percentile &lt;75th percentile, in the increasing order of marks</strong>\n",
    "\n",
    "<pre>\n",
    "Ex 1: \n",
    "Students=['student1','student2','student3','student4','student5','student6','student7','student8','student9','student10'] \n",
    "Marks = [45, 78, 12, 14, 48, 43, 47, 98, 35, 80]\n",
    "a. \n",
    "student8  98\n",
    "student10 80\n",
    "student2  78\n",
    "student5  48\n",
    "student7  47\n",
    "b.\n",
    "student3 12\n",
    "student4 14\n",
    "student9 35\n",
    "student6 43\n",
    "student1 45\n",
    "c.\n",
    "student9 35\n",
    "student6 43\n",
    "student1 45\n",
    "student7 47\n",
    "student5 48\n",
    "</pre>"
   ]
  },
  {
   "cell_type": "code",
   "execution_count": 10,
   "metadata": {
    "colab": {},
    "colab_type": "code",
    "id": "cxPJgItsB-kx"
   },
   "outputs": [
    {
     "name": "stdout",
     "output_type": "stream",
     "text": [
      "a.Top 5 Students: \n",
      "student8 98\n",
      "student10 80\n",
      "student2 78\n",
      "student5 48\n",
      "student7 47\n",
      "\n",
      "b.Least 5 Students: \n",
      "student3 12\n",
      "student4 14\n",
      "student9 35\n",
      "student6 43\n",
      "student1 45\n",
      "\n",
      "c.Students Within 25 and 75\n",
      "student9 35\n",
      "student6 43\n",
      "student1 45\n",
      "student7 47\n",
      "student5 48\n"
     ]
    }
   ],
   "source": [
    "# write your python code here\n",
    "# you can take the above example as sample input for your program to test\n",
    "# it should work for any general input try not to hard code for only given input examples\n",
    "\n",
    "Students=['student1','student2','student3','student4','student5','student6','student7','student8','student9','student10'] \n",
    "Marks = [45, 78, 12, 14, 48, 43, 47, 98, 35, 80]\n",
    "\n",
    "res = dict(zip(Students, Marks))\n",
    "    \n",
    "# write code for computing top top 5 students \n",
    "print('a.Top 5 Students: ')\n",
    "for k,v in sorted(res.items(), key = lambda item: item[1], reverse = True)[:5]:\n",
    "    print('{} {}'.format(k,v))\n",
    "\n",
    "# write code for computing top least 5 students\n",
    "print('\\nb.Least 5 Students: ')\n",
    "for k,v in sorted(res.items(), key = lambda item: item[1])[:5]:\n",
    "    print('{} {}'.format(k,v))\n",
    "    \n",
    "# write code for computing students within 25 and 75\n",
    "print('\\nc.Students Within 25 and 75')\n",
    "for k,v in sorted(res.items(), key = lambda item: item[1]):\n",
    "    max_mark = max(Marks)\n",
    "    min_mark = min(Marks)\n",
    "    diff = max_mark - min_mark\n",
    "    per_25 = diff * 0.25\n",
    "    per_75 = diff * 0.75\n",
    "    if per_25 < v < per_75:\n",
    "        print('{} {}'.format(k,v))    "
   ]
  },
  {
   "cell_type": "markdown",
   "metadata": {},
   "source": [
    "Reference:\n",
    "https://stackoverflow.com/questions/613183/how-do-i-sort-a-dictionary-by-value"
   ]
  },
  {
   "cell_type": "markdown",
   "metadata": {
    "colab_type": "text",
    "id": "qha0OhQHB-k1"
   },
   "source": [
    "<h3> Q5: Find the closest points</h3>\n",
    "\n",
    "consider you have given n data points in the form of list of tuples like S=[(x1,y1),(x2,y2),(x3,y3),(x4,y4),(x5,y5),..,(xn,yn)] and a point P=(p,q) <br> your task is to find 5 closest points(based on cosine distance) in S from P\n",
    "<br>cosine distance between two points (x,y) and (p,q) is defind as $cos^{-1}(\\frac{(x\\cdot p+y\\cdot q)}{\\sqrt(x^2+y^2)\\cdot\\sqrt(p^2+q^2)})$\n",
    "<pre>\n",
    "Ex:\n",
    "\n",
    "S= [(1,2),(3,4),(-1,1),(6,-7),(0, 6),(-5,-8),(-1,-1)(6,0),(1,-1)]\n",
    "P= (3,-4)\n",
    "<img src='https://i.imgur.com/vIFPOcG.jpg', width=300>\n",
    "Output:\n",
    "(6,-7)\n",
    "(1,-1)\n",
    "(6,0)\n",
    "(-5,-8)\n",
    "(-1,-1)\n",
    "</pre>"
   ]
  },
  {
   "cell_type": "code",
   "execution_count": 19,
   "metadata": {
    "colab": {},
    "colab_type": "code",
    "id": "wA5I1g-2B-k2"
   },
   "outputs": [
    {
     "name": "stdout",
     "output_type": "stream",
     "text": [
      "(6, -7)\n",
      "(1, -1)\n",
      "(6, 0)\n",
      "(-5, -8)\n",
      "(-1, -1)\n"
     ]
    }
   ],
   "source": [
    "import math\n",
    "\n",
    "S= [(1,2),(3,4),(-1,1),(6,-7),(0, 6),(-5,-8),(-1,-1),(6,0),(1,-1)]\n",
    "P = (p,q) = (3,-4)\n",
    "Distance = []\n",
    "\n",
    "def closest_points_to_p(S,P):\n",
    "    for a,b in S:\n",
    "        num = (a*p + b*q)\n",
    "        den = ((math.sqrt(a**2+b**2)) * (math.sqrt(p**2+q**2)))\n",
    "    \n",
    "        D = math.acos(num / den)\n",
    "        Distance.append(D)\n",
    "    return Distance\n",
    "\n",
    "Distance = closest_points_to_p(S,P) \n",
    "\n",
    "res = dict(zip(S,Distance))\n",
    "for k,v in sorted(res.items(), key = lambda item: item[1])[:5]:\n",
    "    print(k)          "
   ]
  },
  {
   "cell_type": "markdown",
   "metadata": {
    "colab_type": "text",
    "id": "-g11jeAiB-k5"
   },
   "source": [
    "<h3> Q6: Find Which line separates oranges and apples</h3>\n",
    "consider you have given two set of data points in the form of list of tuples like \n",
    "<pre>\n",
    "Red =[(R11,R12),(R21,R22),(R31,R32),(R41,R42),(R51,R52),..,(Rn1,Rn2)]\n",
    "Blue=[(B11,B12),(B21,B22),(B31,B32),(B41,B42),(B51,B52),..,(Bm1,Bm2)]\n",
    "</pre>\n",
    "and set of line equations(in the string formate, i.e list of strings)\n",
    "<pre>\n",
    "Lines = [a1x+b1y+c1,a2x+b2y+c2,a3x+b3y+c3,a4x+b4y+c4,..,K lines]\n",
    "Note: you need to string parsing here and get the coefficients of x,y and intercept\n",
    "</pre>\n",
    "your task is to for each line that is given print \"YES\"/\"NO\", you will print yes, if all the red points are one side of the line and blue points are other side of the line, otherwise no\n",
    "<pre>\n",
    "Ex:\n",
    "Red= [(1,1),(2,1),(4,2),(2,4), (-1,4)]\n",
    "Blue= [(-2,-1),(-1,-2),(-3,-2),(-3,-1),(1,-3)]\n",
    "Lines=[\"1x+1y+0\",\"1x-1y+0\",\"1x+0y-3\",\"0x+1y-0.5\"]\n",
    "<img src='https://i.imgur.com/DoQf7mE.jpg' width=400>\n",
    "Output:\n",
    "YES\n",
    "NO\n",
    "NO\n",
    "YES\n",
    "</pre>"
   ]
  },
  {
   "cell_type": "code",
   "execution_count": 20,
   "metadata": {},
   "outputs": [
    {
     "name": "stdout",
     "output_type": "stream",
     "text": [
      "YES\n",
      "NO\n",
      "NO\n",
      "YES\n"
     ]
    }
   ],
   "source": [
    "import math\n",
    "import re\n",
    "\n",
    "def i_am_the_one(red,blue,line):\n",
    "    a,b,c = [float(i) for i in re.split('x|y',line)]\n",
    "    \n",
    "    A = True if a*Red[0][0] + b*Red[0][1] + c >= 0 else False\n",
    "    for p,q in Red[1:]:\n",
    "        res = True if a*p + b*q + c >= 0 else False\n",
    "        if A != res:\n",
    "            return 'NO'\n",
    "        \n",
    "    B = True if a*Blue[0][0] + b*Blue[0][1] + c >= 0 else False\n",
    "    for x,y in Blue[1:]:\n",
    "        res = True if a*x + b*y + c >= 0 else False\n",
    "        if B != res:\n",
    "            return 'NO'\n",
    "        return 'YES'\n",
    "        \n",
    "    \n",
    "Red= [(1,1),(2,1),(4,2),(2,4), (-1,4)]\n",
    "Blue= [(-2,-1),(-1,-2),(-3,-2),(-3,-1),(1,-3)]\n",
    "Lines=[\"1x+1y+0\",\"1x-1y+0\",\"1x+0y-3\",\"0x+1y-0.5\"] \n",
    "\n",
    "for i in Lines:\n",
    "    yes_or_no = i_am_the_one(Red, Blue, i)\n",
    "    print(yes_or_no)"
   ]
  },
  {
   "cell_type": "markdown",
   "metadata": {
    "colab_type": "text",
    "id": "9OBpURbNB-k9"
   },
   "source": [
    "<h3> Q7: Filling the missing values in the specified formate</h3>\n",
    "You will be given a string with digits and '\\_'(missing value) symbols you have to replace the '\\_' symbols as explained \n",
    "<pre>\n",
    "Ex 1: _, _, _, 24 ==> 24/4, 24/4, 24/4, 24/4 i.e we. have distributed the 24 equally to all 4 places <br>\n",
    "Ex 2: 40, _, _, _, 60 ==> (60+40)/5,(60+40)/5,(60+40)/5,(60+40)/5,(60+40)/5 ==> 20, 20, 20, 20, 20 i.e. the sum of (60+40) is distributed qually to all 5 places<br>\n",
    "Ex 3: 80, _, _, _, _  ==> 80/5,80/5,80/5,80/5,80/5 ==> 16, 16, 16, 16, 16 i.e. the 80 is distributed qually to all 5 missing values that are right to it<br>\n",
    "Ex 4: _, _, 30, _, _, _, 50, _, _  \n",
    "==> we will fill the missing values from left to right \n",
    "    a. first we will distribute the 30 to left two missing values (10, 10, 10, _, _, _, 50, _, _)\n",
    "    b. now distribute the sum (10+50) missing values in between (10, 10, 12, 12, 12, 12, 12, _, _) \n",
    "    c. now we will distribute 12 to right side missing values (10, 10, 12, 12, 12, 12, 4, 4, 4)\n",
    "</pre>\n",
    "for a given string with comma seprate values, which will have both missing values numbers like ex: \"_, _, x, _, _, _\"\n",
    "you need fill the missing values\n",
    "\n",
    "Q: your program reads a string like ex: \"_, _, x, _, _, _\" and returns the filled sequence\n",
    "\n",
    "Ex: \n",
    "<pre>\n",
    "Input1: \"_,_,_,24\"\n",
    "Output1: 6,6,6,6\n",
    "\n",
    "Input2: \"40,_,_,_,60\"\n",
    "Output2: 20,20,20,20,20\n",
    "\n",
    "Input3: \"80,_,_,_,_\"\n",
    "Output3: 16,16,16,16,16\n",
    "\n",
    "Input4: \"_,_,30,_,_,_,50,_,_\"\n",
    "Output4: 10,10,12,12,12,12,4,4,4\n",
    "</pre>\n",
    "\n"
   ]
  },
  {
   "cell_type": "code",
   "execution_count": 1,
   "metadata": {},
   "outputs": [
    {
     "name": "stdout",
     "output_type": "stream",
     "text": [
      "[6.0, 6.0, 6.0, 6.0]\n",
      "[20.0, 20.0, 20.0, 20.0, 20.0]\n",
      "[16.0, 16.0, 16.0, 16.0, 16.0]\n",
      "[10.0, 10.0, 12.0, 12.0, 12.0, 12.0, 4.0, 4.0, 4.0]\n"
     ]
    }
   ],
   "source": [
    "# takes an array x and two indices a,b. \n",
    "# Replaces all the _'s with (x[a]+x[b])/(b-a+1)\n",
    "def fun(x, a, b):\n",
    "    if a == -1:\n",
    "        v = float(x[b])/(b+1)\n",
    "        for i in range(a+1,b+1):\n",
    "            x[i] = v\n",
    "    elif b == -1:\n",
    "        v = float(x[a])/(len(x)-a)\n",
    "        for i in range(a, len(x)):\n",
    "            x[i] = v\n",
    "    else:\n",
    "        v = (float(x[a])+float(x[b]))/(b-a+1)\n",
    "        for i in range(a,b+1):\n",
    "            x[i] = v\n",
    "    return x\n",
    "\n",
    "def replace(text):\n",
    "    # Create array from the string\n",
    "    x = text.replace(\" \",\"\").split(\",\")\n",
    "    # Get all the pairs of indices having number\n",
    "    y = [i for i, v in enumerate(x) if v != '_']\n",
    "    # Starting with _ ?\n",
    "    if y[0] != 0:\n",
    "        y = [-1] + y\n",
    "    # Ending with _ ?\n",
    "    if y[-1] != len(x)-1:\n",
    "        y +=  [-1]    \n",
    "    # run over all the pairs\n",
    "    for (a, b) in zip(y[:-1], y[1:]): \n",
    "        fun(x,a,b)          \n",
    "    return x\n",
    "\n",
    "# Test cases\n",
    "tests = [\n",
    "    \"_,_,_,24\",\n",
    "    \"40, _, _, _, 60\",\n",
    "    \"80, _, _, _, _ \",\n",
    "    \"_,_,30,_,_,_,50,_,_\"]\n",
    "\n",
    "for i in tests:\n",
    "    print (replace(i))"
   ]
  },
  {
   "cell_type": "markdown",
   "metadata": {},
   "source": [
    "Refference: https://stackoverflow.com/questions/57179618/filling-the-missing-values-in-the-specified-format-python/57180534"
   ]
  },
  {
   "cell_type": "markdown",
   "metadata": {
    "colab_type": "text",
    "id": "RBz4pzlfB-lB"
   },
   "source": [
    "<h3> Q8: Filling the missing values in the specified formate</h3>\n",
    "You will be given a list of lists, each sublist will be of length 2 i.e. [[x,y],[p,q],[l,m]..[r,s]]\n",
    "consider its like a martrix of n rows and two columns\n",
    "1. the first column F will contain only 5 uniques values (F1, F2, F3, F4, F5)\n",
    "2. the second column S will contain only 3 uniques values (S1, S2, S3)\n",
    "<pre>\n",
    "your task is to find\n",
    "a. Probability of P(F=F1|S==S1), P(F=F1|S==S2), P(F=F1|S==S3)\n",
    "b. Probability of P(F=F2|S==S1), P(F=F2|S==S2), P(F=F2|S==S3)\n",
    "c. Probability of P(F=F3|S==S1), P(F=F3|S==S2), P(F=F3|S==S3)\n",
    "d. Probability of P(F=F4|S==S1), P(F=F4|S==S2), P(F=F4|S==S3)\n",
    "e. Probability of P(F=F5|S==S1), P(F=F5|S==S2), P(F=F5|S==S3)\n",
    "</pre>\n",
    "Ex:\n",
    "\n",
    "<pre>\n",
    "[[F1,S1],[F2,S2],[F3,S3],[F1,S2],[F2,S3],[F3,S2],[F2,S1],[F4,S1],[F4,S3],[F5,S1]]\n",
    "\n",
    "a. P(F=F1|S==S1)=1/4, P(F=F1|S==S2)=1/3, P(F=F1|S==S3)=0/3\n",
    "b. P(F=F2|S==S1)=1/4, P(F=F2|S==S2)=1/3, P(F=F2|S==S3)=1/3\n",
    "c. P(F=F3|S==S1)=0/4, P(F=F3|S==S2)=1/3, P(F=F3|S==S3)=1/3\n",
    "d. P(F=F4|S==S1)=1/4, P(F=F4|S==S2)=0/3, P(F=F4|S==S3)=1/3\n",
    "e. P(F=F5|S==S1)=1/4, P(F=F5|S==S2)=0/3, P(F=F5|S==S3)=0/3\n",
    "</pre>\n",
    "\n",
    "\n",
    "\n"
   ]
  },
  {
   "cell_type": "code",
   "execution_count": 23,
   "metadata": {
    "colab": {},
    "colab_type": "code",
    "id": "e-1giz1MB-lC"
   },
   "outputs": [
    {
     "name": "stdout",
     "output_type": "stream",
     "text": [
      "P(F=F1|S==S1)= 0.25\n",
      "P(F=F1|S==S2)= 0.3333333333333333\n",
      "P(F=F1|S==S3)= 0.0\n",
      "P(F=F2|S==S1)= 0.25\n",
      "P(F=F2|S==S2)= 0.3333333333333333\n",
      "P(F=F2|S==S3)= 0.3333333333333333\n",
      "P(F=F3|S==S1)= 0.0\n",
      "P(F=F3|S==S2)= 0.3333333333333333\n",
      "P(F=F3|S==S3)= 0.3333333333333333\n",
      "P(F=F4|S==S1)= 0.25\n",
      "P(F=F4|S==S2)= 0.0\n",
      "P(F=F4|S==S3)= 0.3333333333333333\n",
      "P(F=F5|S==S1)= 0.25\n",
      "P(F=F5|S==S2)= 0.0\n",
      "P(F=F5|S==S3)= 0.0\n"
     ]
    }
   ],
   "source": [
    "A = [['F1','S1'],['F2','S2'],['F3','S3'],['F1','S2'],['F2','S3'],['F3','S2'],['F2','S1'],['F4','S1'],['F4','S3'],['F5','S1']]\n",
    "\n",
    "D1 = {\n",
    "    'F1S1' : 0,\n",
    "    'F2S1' : 0,\n",
    "    'F3S1' : 0,\n",
    "    'F4S1' : 0,\n",
    "    'F5S1' : 0,\n",
    "    'F1S2' : 0,\n",
    "    'F2S2' : 0,\n",
    "    'F3S2' : 0,\n",
    "    'F4S2' : 0,\n",
    "    'F5S2' : 0,\n",
    "    'F1S3' : 0,\n",
    "    'F2S3' : 0,\n",
    "    'F3S3' : 0,\n",
    "    'F4S3' : 0,\n",
    "    'F5S3' : 0}\n",
    "\n",
    "D2 = {'S1' : 0, \n",
    "      'S2' : 0, \n",
    "      'S3' : 0}\n",
    "\n",
    "def compute_conditional_probabilites(A):\n",
    "    for f,s in A:\n",
    "        if f == 'F1' and s == 'S1':\n",
    "            D1['F1S1'] += 1\n",
    "            D2['S1'] += 1\n",
    "        if f == 'F1' and s == 'S2':\n",
    "            D1['F1S2'] += 1\n",
    "            D2['S2'] += 1\n",
    "        if f == 'F1' and s == 'S3':\n",
    "            D1['F1S3'] += 1\n",
    "            D2['S3'] += 1\n",
    "        if f == 'F2' and s == 'S1':\n",
    "            D1['F2S1'] += 1\n",
    "            D2['S1'] += 1\n",
    "        if f == 'F2' and s == 'S2':\n",
    "            D1['F2S2'] += 1\n",
    "            D2['S2'] += 1\n",
    "        if f == 'F2' and s == 'S3':\n",
    "            D1['F2S3'] += 1\n",
    "            D2['S3'] += 1\n",
    "        if f == 'F3' and s == 'S1':\n",
    "            D1['F3S1'] += 1\n",
    "            D2['S1'] += 1\n",
    "        if f == 'F3' and s == 'S2':\n",
    "            D1['F3S2'] += 1\n",
    "            D2['S2'] += 1\n",
    "        if f == 'F3' and s == 'S3':\n",
    "            D1['F3S3'] += 1\n",
    "            D2['S3'] += 1\n",
    "        if f == 'F4' and s == 'S1':\n",
    "            D1['F4S1'] += 1\n",
    "            D2['S1'] += 1\n",
    "        if f == 'F4' and s == 'S2':\n",
    "            D1['F4S2'] += 1\n",
    "            D2['S2'] += 1\n",
    "        if f == 'F4' and s == 'S3':\n",
    "            D1['F4S3'] += 1\n",
    "            D2['S3'] += 1\n",
    "        if f == 'F5' and s == 'S1':\n",
    "            D1['F5S1'] += 1\n",
    "            D2['S1'] += 1\n",
    "        if f == 'F5' and s == 'S2':\n",
    "            D1['F5S2'] += 1\n",
    "            D2['S2'] += 1\n",
    "        if f == 'F5' and s == 'S3':\n",
    "            D1['F5S3'] += 1\n",
    "            D2['S3'] += 1\n",
    "            \n",
    "compute_conditional_probabilites(A)    \n",
    "\n",
    "print('P(F=F1|S==S1)=' ,(D1['F1S1']/D2['S1']))\n",
    "print('P(F=F1|S==S2)=' ,(D1['F1S2']/D2['S2']))\n",
    "print('P(F=F1|S==S3)=' ,(D1['F1S3']/D2['S3']))\n",
    "print('P(F=F2|S==S1)=' ,(D1['F2S1']/D2['S1']))\n",
    "print('P(F=F2|S==S2)=' ,(D1['F2S2']/D2['S2']))\n",
    "print('P(F=F2|S==S3)=' ,(D1['F2S3']/D2['S3']))\n",
    "print('P(F=F3|S==S1)=' ,(D1['F3S1']/D2['S1']))\n",
    "print('P(F=F3|S==S2)=' ,(D1['F3S2']/D2['S2']))\n",
    "print('P(F=F3|S==S3)=' ,(D1['F3S3']/D2['S3']))\n",
    "print('P(F=F4|S==S1)=' ,(D1['F4S1']/D2['S1']))\n",
    "print('P(F=F4|S==S2)=' ,(D1['F4S2']/D2['S2']))\n",
    "print('P(F=F4|S==S3)=' ,(D1['F4S3']/D2['S3']))\n",
    "print('P(F=F5|S==S1)=' ,(D1['F5S1']/D2['S1']))\n",
    "print('P(F=F5|S==S2)=' ,(D1['F5S2']/D2['S2']))\n",
    "print('P(F=F5|S==S3)=' ,(D1['F5S3']/D2['S3']))"
   ]
  },
  {
   "cell_type": "markdown",
   "metadata": {
    "colab_type": "text",
    "id": "n4HS87QmB-lF"
   },
   "source": [
    "<h3> Q9: Given two sentances S1, S2 </h3>\n",
    "You will be given two sentances S1, S2 your task is to find \n",
    "<pre>\n",
    "a. Number of common words between S1, S2\n",
    "b. Words in S1 but not in S2\n",
    "c. Words in S2 but not in S1\n",
    "</pre>\n",
    "\n",
    "Ex: \n",
    "<pre>\n",
    "S1= \"the first column F will contain only 5 uniques values\"\n",
    "S2= \"the second column S will contain only 3 uniques values\"\n",
    "Output:\n",
    "a. 7\n",
    "b. ['first','F','5']\n",
    "c. ['second','S','3']\n",
    "</pre>"
   ]
  },
  {
   "cell_type": "code",
   "execution_count": 24,
   "metadata": {
    "colab": {},
    "colab_type": "code",
    "id": "Ez7hlHK0B-lG"
   },
   "outputs": [
    {
     "name": "stdout",
     "output_type": "stream",
     "text": [
      "7\n",
      "['F', 'first', '5']\n",
      "['second', '3', 'S']\n"
     ]
    }
   ],
   "source": [
    "def string_features(S1, S2):\n",
    "    Set1 = S1.split()\n",
    "    Set2 = S2.split()\n",
    "\n",
    "# Number of common words between S1, S2    \n",
    "    a = []\n",
    "    for i in Set1:\n",
    "        for j in Set2:\n",
    "            if i == j:\n",
    "                a.append(i)\n",
    "    print(len(a))\n",
    "    \n",
    "# Words in S1 but not in S2\n",
    "    b = list(set(Set1) - set(Set2))\n",
    "    print(b)\n",
    "    \n",
    "# Words in S2 but not in S1\n",
    "    c = list(set(Set2) - set(Set1))\n",
    "    print(c)\n",
    "    \n",
    "    return a, b, c\n",
    "\n",
    "S1= \"the first column F will contain only 5 uniques values\"\n",
    "S2= \"the second column S will contain only 3 uniques values\"\n",
    "a,b,c = string_features(S1, S2)\n"
   ]
  },
  {
   "cell_type": "markdown",
   "metadata": {
    "colab_type": "text",
    "id": "XefXVEjCB-lI"
   },
   "source": [
    "<h3> Q10: Given two sentances S1, S2</h3>\n",
    "You will be given a list of lists, each sublist will be of length 2 i.e. [[x,y],[p,q],[l,m]..[r,s]]\n",
    "consider its like a martrix of n rows and two columns\n",
    "\n",
    "a. the first column Y will contain interger values <br>\n",
    "b. the second column $Y_{score}$ will be having float values <br>\n",
    "Your task is to find the value of $f(Y,Y_{score}) = -1*\\frac{1}{n}\\Sigma_{for each Y,Y_{score} pair}(Ylog10(Y_{score})+(1-Y)log10(1-Y_{score}))$ here n is the number of rows in the matrix\n",
    "<pre>\n",
    "Ex:\n",
    "[[1, 0.4], [0, 0.5], [0, 0.9], [0, 0.3], [0, 0.6], [1, 0.1], [1, 0.9], [1, 0.8]]\n",
    "output:\n",
    "0.4243099\n",
    "</pre>\n",
    "$\\frac{-1}{8}\\cdot((1\\cdot log_{10}(0.4)+0\\cdot log_{10}(0.6))+(0\\cdot log_{10}(0.5)+1\\cdot log_{10}(0.5)) + ... + (1\\cdot log_{10}(0.8)+0\\cdot log_{10}(0.2)) )$"
   ]
  },
  {
   "cell_type": "code",
   "execution_count": 25,
   "metadata": {
    "colab": {},
    "colab_type": "code",
    "id": "N9zkagyNB-lJ"
   },
   "outputs": [
    {
     "name": "stdout",
     "output_type": "stream",
     "text": [
      "0.42430993457031635\n"
     ]
    }
   ],
   "source": [
    "# write your python code here\n",
    "# you can take the above example as sample input for your program to test\n",
    "# it should work for any general input try not to hard code for only given input strings\n",
    "from math import log10\n",
    "\n",
    "# you can free to change all these codes/structure\n",
    "def compute_log_loss(A):\n",
    "    n = len(A)\n",
    "    loss = 0\n",
    "    \n",
    "    for y,y_score in A:\n",
    "        loss += -1/n * ((y * log10(y_score)) + ((1-y) * log10(1 - y_score)))\n",
    "    \n",
    "    return loss\n",
    "\n",
    "A = [[1, 0.4], [0, 0.5], [0, 0.9], [0, 0.3], [0, 0.6], [1, 0.1], [1, 0.9], [1, 0.8]]\n",
    "loss = compute_log_loss(A)\n",
    "print(loss)"
   ]
  }
 ],
 "metadata": {
  "colab": {
   "collapsed_sections": [],
   "name": "1.Python Assignment.ipynb",
   "provenance": []
  },
  "kernelspec": {
   "display_name": "Python 3",
   "language": "python",
   "name": "python3"
  },
  "language_info": {
   "codemirror_mode": {
    "name": "ipython",
    "version": 3
   },
   "file_extension": ".py",
   "mimetype": "text/x-python",
   "name": "python",
   "nbconvert_exporter": "python",
   "pygments_lexer": "ipython3",
   "version": "3.6.5"
  }
 },
 "nbformat": 4,
 "nbformat_minor": 1
}
